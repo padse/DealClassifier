{
 "cells": [
  {
   "cell_type": "markdown",
   "metadata": {
    "nbpresent": {
     "id": "86b9894d-a2cf-4b2a-b809-bb5471b38a60"
    },
    "slideshow": {
     "slide_type": "slide"
    }
   },
   "source": [
    "# Model Building and Evaluation\n",
    "\n",
    "This module focuses on model building and diagnosis. "
   ]
  },
  {
   "cell_type": "code",
   "execution_count": 1,
   "metadata": {
    "collapsed": true,
    "nbpresent": {
     "id": "ccbe5af8-83be-4720-b29d-56a6109c2316"
    },
    "slideshow": {
     "slide_type": "skip"
    }
   },
   "outputs": [
    {
     "name": "stderr",
     "output_type": "stream",
     "text": [
      "/Users/rajesh/anaconda/lib/python2.7/site-packages/matplotlib/font_manager.py:273: UserWarning: Matplotlib is building the font cache using fc-list. This may take a moment.\n",
      "  warnings.warn('Matplotlib is building the font cache using fc-list. This may take a moment.')\n"
     ]
    }
   ],
   "source": [
    "import pandas as pd\n",
    "import numpy as np\n",
    "np.set_printoptions(threshold=np.inf)\n",
    "\n",
    "#import seaborn as sns\n",
    "import matplotlib.pyplot as plt\n",
    "plt.style.use('ggplot')\n",
    "\n",
    "# This displays the [plots] in the boxes below the cells\n",
    "%matplotlib inline\n"
   ]
  },
  {
   "cell_type": "markdown",
   "metadata": {
    "nbpresent": {
     "id": "8077a847-26ac-4749-bb45-590f5c50c401"
    },
    "slideshow": {
     "slide_type": "skip"
    }
   },
   "source": [
    "Read the cleaned dataset from disk."
   ]
  },
  {
   "cell_type": "code",
   "execution_count": 2,
   "metadata": {
    "collapsed": true,
    "nbpresent": {
     "id": "e6711a12-e1d3-419d-b221-bbd5eaf503c2"
    },
    "slideshow": {
     "slide_type": "skip"
    }
   },
   "outputs": [
    {
     "data": {
      "text/html": [
       "<div>\n",
       "<table border=\"1\" class=\"dataframe\">\n",
       "  <thead>\n",
       "    <tr style=\"text-align: right;\">\n",
       "      <th></th>\n",
       "      <th>Unnamed: 0</th>\n",
       "      <th>Category</th>\n",
       "      <th>title</th>\n",
       "    </tr>\n",
       "  </thead>\n",
       "  <tbody>\n",
       "    <tr>\n",
       "      <th>0</th>\n",
       "      <td>0</td>\n",
       "      <td>Amazon Launchpad</td>\n",
       "      <td>Watch Ya' Mouth Family Edition - The Authentic...</td>\n",
       "    </tr>\n",
       "    <tr>\n",
       "      <th>1</th>\n",
       "      <td>1</td>\n",
       "      <td>Amazon Launchpad</td>\n",
       "      <td>SmartyPants Kids Complete Gummy Vitamins: Mult...</td>\n",
       "    </tr>\n",
       "    <tr>\n",
       "      <th>2</th>\n",
       "      <td>2</td>\n",
       "      <td>Amazon Launchpad</td>\n",
       "      <td>Anova Culinary PCB-120US-K1 Bluetooth Precisio...</td>\n",
       "    </tr>\n",
       "    <tr>\n",
       "      <th>3</th>\n",
       "      <td>3</td>\n",
       "      <td>Amazon Launchpad</td>\n",
       "      <td>Joking Hazard</td>\n",
       "    </tr>\n",
       "    <tr>\n",
       "      <th>4</th>\n",
       "      <td>4</td>\n",
       "      <td>Amazon Launchpad</td>\n",
       "      <td>Tile Mate - Key Finder. Phone Finder. Anything...</td>\n",
       "    </tr>\n",
       "    <tr>\n",
       "      <th>5</th>\n",
       "      <td>5</td>\n",
       "      <td>Amazon Launchpad</td>\n",
       "      <td>Soylent Ready to Drink Food, Original, 14 oz B...</td>\n",
       "    </tr>\n",
       "    <tr>\n",
       "      <th>6</th>\n",
       "      <td>6</td>\n",
       "      <td>Amazon Launchpad</td>\n",
       "      <td>TubShroom The Revolutionary Tub Drain Protecto...</td>\n",
       "    </tr>\n",
       "    <tr>\n",
       "      <th>7</th>\n",
       "      <td>7</td>\n",
       "      <td>Amazon Launchpad</td>\n",
       "      <td>iOttie Easy One Touch 3 (V2.0) Car Mount Unive...</td>\n",
       "    </tr>\n",
       "    <tr>\n",
       "      <th>8</th>\n",
       "      <td>8</td>\n",
       "      <td>Amazon Launchpad</td>\n",
       "      <td>YETI Rambler Stainless Steel Vacuum Insulated ...</td>\n",
       "    </tr>\n",
       "    <tr>\n",
       "      <th>9</th>\n",
       "      <td>9</td>\n",
       "      <td>Amazon Launchpad</td>\n",
       "      <td>TubShroom The Revolutionary Tub Drain Protecto...</td>\n",
       "    </tr>\n",
       "    <tr>\n",
       "      <th>10</th>\n",
       "      <td>10</td>\n",
       "      <td>Amazon Launchpad</td>\n",
       "      <td>Tile Mate Key Finder, Phone Finder, 4-pack</td>\n",
       "    </tr>\n",
       "    <tr>\n",
       "      <th>11</th>\n",
       "      <td>11</td>\n",
       "      <td>Amazon Launchpad</td>\n",
       "      <td>Yeti Stainless Steel Tumbler, 30 Oz</td>\n",
       "    </tr>\n",
       "    <tr>\n",
       "      <th>12</th>\n",
       "      <td>12</td>\n",
       "      <td>Amazon Launchpad</td>\n",
       "      <td>TubShroom the Revolutionary Tub Drain Protecto...</td>\n",
       "    </tr>\n",
       "    <tr>\n",
       "      <th>13</th>\n",
       "      <td>13</td>\n",
       "      <td>Amazon Launchpad</td>\n",
       "      <td>Tile Mate &amp; Slim Combo Pack, Key/Wallet/Item F...</td>\n",
       "    </tr>\n",
       "    <tr>\n",
       "      <th>14</th>\n",
       "      <td>14</td>\n",
       "      <td>Amazon Launchpad</td>\n",
       "      <td>nonda USB-C to USB 3.0 Mini Adapter [World’s S...</td>\n",
       "    </tr>\n",
       "    <tr>\n",
       "      <th>15</th>\n",
       "      <td>15</td>\n",
       "      <td>Amazon Launchpad</td>\n",
       "      <td>SmartyPants Kids Complete Fiber Multivitamin O...</td>\n",
       "    </tr>\n",
       "    <tr>\n",
       "      <th>16</th>\n",
       "      <td>16</td>\n",
       "      <td>Amazon Launchpad</td>\n",
       "      <td>Rocketbook Wave Smart Notebook</td>\n",
       "    </tr>\n",
       "    <tr>\n",
       "      <th>17</th>\n",
       "      <td>17</td>\n",
       "      <td>Amazon Launchpad</td>\n",
       "      <td>iOttie Easy One Touch Mini Air Vent Car Mount ...</td>\n",
       "    </tr>\n",
       "    <tr>\n",
       "      <th>18</th>\n",
       "      <td>18</td>\n",
       "      <td>Amazon Launchpad</td>\n",
       "      <td>Cozmo</td>\n",
       "    </tr>\n",
       "    <tr>\n",
       "      <th>19</th>\n",
       "      <td>19</td>\n",
       "      <td>Amazon Launchpad</td>\n",
       "      <td>Watch Ya' Mouth Adult Phrase Card Game Expansi...</td>\n",
       "    </tr>\n",
       "    <tr>\n",
       "      <th>20</th>\n",
       "      <td>20</td>\n",
       "      <td>Amazon Launchpad</td>\n",
       "      <td>Tile Slim - Phone Finder. Wallet Finder. Item ...</td>\n",
       "    </tr>\n",
       "    <tr>\n",
       "      <th>21</th>\n",
       "      <td>21</td>\n",
       "      <td>Amazon Launchpad</td>\n",
       "      <td>remodeez Footwear Deodorizer: Charcoal Odor an...</td>\n",
       "    </tr>\n",
       "    <tr>\n",
       "      <th>22</th>\n",
       "      <td>22</td>\n",
       "      <td>Amazon Launchpad</td>\n",
       "      <td>SmartyPants PreNatal Complete Gummy Vitamins: ...</td>\n",
       "    </tr>\n",
       "    <tr>\n",
       "      <th>23</th>\n",
       "      <td>23</td>\n",
       "      <td>Amazon Launchpad</td>\n",
       "      <td>Four Sigmatic Mushroom Coffee with Lion’s Mane...</td>\n",
       "    </tr>\n",
       "    <tr>\n",
       "      <th>24</th>\n",
       "      <td>24</td>\n",
       "      <td>Amazon Launchpad</td>\n",
       "      <td>TubShroom the Revolutionary Tub Drain Protecto...</td>\n",
       "    </tr>\n",
       "    <tr>\n",
       "      <th>25</th>\n",
       "      <td>25</td>\n",
       "      <td>Amazon Launchpad</td>\n",
       "      <td>Withings Body Cardio - Heart Health and Body C...</td>\n",
       "    </tr>\n",
       "    <tr>\n",
       "      <th>26</th>\n",
       "      <td>26</td>\n",
       "      <td>Amazon Launchpad</td>\n",
       "      <td>SmartyPants Women's Complete Gummy Vitamins: M...</td>\n",
       "    </tr>\n",
       "    <tr>\n",
       "      <th>27</th>\n",
       "      <td>27</td>\n",
       "      <td>Amazon Launchpad</td>\n",
       "      <td>Withings Body - Body Composition Wi-Fi Scale, ...</td>\n",
       "    </tr>\n",
       "    <tr>\n",
       "      <th>28</th>\n",
       "      <td>28</td>\n",
       "      <td>Amazon Launchpad</td>\n",
       "      <td>ChefSteps CS10001 Joule Sous Vide, White/Stain...</td>\n",
       "    </tr>\n",
       "    <tr>\n",
       "      <th>29</th>\n",
       "      <td>29</td>\n",
       "      <td>Amazon Launchpad</td>\n",
       "      <td>Osmo Genius Kit</td>\n",
       "    </tr>\n",
       "    <tr>\n",
       "      <th>...</th>\n",
       "      <td>...</td>\n",
       "      <td>...</td>\n",
       "      <td>...</td>\n",
       "    </tr>\n",
       "    <tr>\n",
       "      <th>39542</th>\n",
       "      <td>569</td>\n",
       "      <td>Watches</td>\n",
       "      <td>Sony Lithium 3V Batteries CR2032 10 pack</td>\n",
       "    </tr>\n",
       "    <tr>\n",
       "      <th>39543</th>\n",
       "      <td>570</td>\n",
       "      <td>Watches</td>\n",
       "      <td>Energizer CR1220 Low Drain 3V lithuim...</td>\n",
       "    </tr>\n",
       "    <tr>\n",
       "      <th>39544</th>\n",
       "      <td>571</td>\n",
       "      <td>Watches</td>\n",
       "      <td>Panasonic CR1616 3V Coin Cell Lithium...</td>\n",
       "    </tr>\n",
       "    <tr>\n",
       "      <th>39545</th>\n",
       "      <td>572</td>\n",
       "      <td>Watches</td>\n",
       "      <td>15 Energizer CR2016 Lithium Batteries</td>\n",
       "    </tr>\n",
       "    <tr>\n",
       "      <th>39546</th>\n",
       "      <td>573</td>\n",
       "      <td>Watches</td>\n",
       "      <td>Duracell MN21B2PK Watch / Electronic/...</td>\n",
       "    </tr>\n",
       "    <tr>\n",
       "      <th>39547</th>\n",
       "      <td>575</td>\n",
       "      <td>Watches</td>\n",
       "      <td>CR2032 3V Micro Lithium Coin Lithium...</td>\n",
       "    </tr>\n",
       "    <tr>\n",
       "      <th>39548</th>\n",
       "      <td>576</td>\n",
       "      <td>Watches</td>\n",
       "      <td>EsmartD 360pcs 8-25mm Stainless Steel...</td>\n",
       "    </tr>\n",
       "    <tr>\n",
       "      <th>39549</th>\n",
       "      <td>577</td>\n",
       "      <td>Watches</td>\n",
       "      <td>Energizer Lithium Coin Watch/Electron...</td>\n",
       "    </tr>\n",
       "    <tr>\n",
       "      <th>39550</th>\n",
       "      <td>578</td>\n",
       "      <td>Watches</td>\n",
       "      <td>Maxell CR1616 Lithium Coin Cell (5 Pack)</td>\n",
       "    </tr>\n",
       "    <tr>\n",
       "      <th>39551</th>\n",
       "      <td>579</td>\n",
       "      <td>Watches</td>\n",
       "      <td>Energizer 371 / 370 Silver Oxide Watc...</td>\n",
       "    </tr>\n",
       "    <tr>\n",
       "      <th>39552</th>\n",
       "      <td>580</td>\n",
       "      <td>Watches</td>\n",
       "      <td>EZTool Professional Watch Repair Tool...</td>\n",
       "    </tr>\n",
       "    <tr>\n",
       "      <th>39553</th>\n",
       "      <td>581</td>\n",
       "      <td>Watches</td>\n",
       "      <td>SE JT6221 16-Piece Watch Repair Tool Kit</td>\n",
       "    </tr>\n",
       "    <tr>\n",
       "      <th>39554</th>\n",
       "      <td>582</td>\n",
       "      <td>Watches</td>\n",
       "      <td>CR2016 Energizer Lithium Batteries (2...</td>\n",
       "    </tr>\n",
       "    <tr>\n",
       "      <th>39555</th>\n",
       "      <td>583</td>\n",
       "      <td>Watches</td>\n",
       "      <td>2 pack Energizer CR2430 Lithium Coin...</td>\n",
       "    </tr>\n",
       "    <tr>\n",
       "      <th>39556</th>\n",
       "      <td>584</td>\n",
       "      <td>Watches</td>\n",
       "      <td>Polywatch Poly Watch Plastic Crystal...</td>\n",
       "    </tr>\n",
       "    <tr>\n",
       "      <th>39557</th>\n",
       "      <td>585</td>\n",
       "      <td>Watches</td>\n",
       "      <td>US Digital 40-Pack High Power Assorte...</td>\n",
       "    </tr>\n",
       "    <tr>\n",
       "      <th>39558</th>\n",
       "      <td>586</td>\n",
       "      <td>Watches</td>\n",
       "      <td>Strip of 10 Fresh Maxell LR1130 (189)...</td>\n",
       "    </tr>\n",
       "    <tr>\n",
       "      <th>39559</th>\n",
       "      <td>587</td>\n",
       "      <td>Watches</td>\n",
       "      <td>Maxell LR44 Alkaline 1.5V Battery, 2-...</td>\n",
       "    </tr>\n",
       "    <tr>\n",
       "      <th>39560</th>\n",
       "      <td>588</td>\n",
       "      <td>Watches</td>\n",
       "      <td>Energizer CR2450 Lithium Battery, 3v...</td>\n",
       "    </tr>\n",
       "    <tr>\n",
       "      <th>39561</th>\n",
       "      <td>589</td>\n",
       "      <td>Watches</td>\n",
       "      <td>EBR-1225 Micro Lithium Cell Battery</td>\n",
       "    </tr>\n",
       "    <tr>\n",
       "      <th>39562</th>\n",
       "      <td>590</td>\n",
       "      <td>Watches</td>\n",
       "      <td>Sony CR2025 3 Volt Lithium Manganese...</td>\n",
       "    </tr>\n",
       "    <tr>\n",
       "      <th>39563</th>\n",
       "      <td>591</td>\n",
       "      <td>Watches</td>\n",
       "      <td>[ 10 pcs ] -- Panasonic Cr2032 3v Lit...</td>\n",
       "    </tr>\n",
       "    <tr>\n",
       "      <th>39564</th>\n",
       "      <td>592</td>\n",
       "      <td>Watches</td>\n",
       "      <td>LOOPACELL AG10 LR1130 389 Alkaline Wa...</td>\n",
       "    </tr>\n",
       "    <tr>\n",
       "      <th>39565</th>\n",
       "      <td>593</td>\n",
       "      <td>Watches</td>\n",
       "      <td>2032 Duracell Duralock CR2032 Lithium...</td>\n",
       "    </tr>\n",
       "    <tr>\n",
       "      <th>39566</th>\n",
       "      <td>594</td>\n",
       "      <td>Watches</td>\n",
       "      <td>Duracell 6 (3x2) Duralock MN21B2PK Wa...</td>\n",
       "    </tr>\n",
       "    <tr>\n",
       "      <th>39567</th>\n",
       "      <td>595</td>\n",
       "      <td>Watches</td>\n",
       "      <td>Maxell Lithium 3V Batteries Size CR20...</td>\n",
       "    </tr>\n",
       "    <tr>\n",
       "      <th>39568</th>\n",
       "      <td>596</td>\n",
       "      <td>Watches</td>\n",
       "      <td>Energizer Watch Batteries 364 / 363 S...</td>\n",
       "    </tr>\n",
       "    <tr>\n",
       "      <th>39569</th>\n",
       "      <td>597</td>\n",
       "      <td>Watches</td>\n",
       "      <td>Energizer Silver Oxide Blister Pack W...</td>\n",
       "    </tr>\n",
       "    <tr>\n",
       "      <th>39570</th>\n",
       "      <td>598</td>\n",
       "      <td>Watches</td>\n",
       "      <td>Lithium Button Cell Battery CR2450 5-...</td>\n",
       "    </tr>\n",
       "    <tr>\n",
       "      <th>39571</th>\n",
       "      <td>599</td>\n",
       "      <td>Watches</td>\n",
       "      <td>10 pack MAXELL AG3 LR41 192 Button Ce...</td>\n",
       "    </tr>\n",
       "  </tbody>\n",
       "</table>\n",
       "<p>39572 rows × 3 columns</p>\n",
       "</div>"
      ],
      "text/plain": [
       "       Unnamed: 0          Category  \\\n",
       "0               0  Amazon Launchpad   \n",
       "1               1  Amazon Launchpad   \n",
       "2               2  Amazon Launchpad   \n",
       "3               3  Amazon Launchpad   \n",
       "4               4  Amazon Launchpad   \n",
       "5               5  Amazon Launchpad   \n",
       "6               6  Amazon Launchpad   \n",
       "7               7  Amazon Launchpad   \n",
       "8               8  Amazon Launchpad   \n",
       "9               9  Amazon Launchpad   \n",
       "10             10  Amazon Launchpad   \n",
       "11             11  Amazon Launchpad   \n",
       "12             12  Amazon Launchpad   \n",
       "13             13  Amazon Launchpad   \n",
       "14             14  Amazon Launchpad   \n",
       "15             15  Amazon Launchpad   \n",
       "16             16  Amazon Launchpad   \n",
       "17             17  Amazon Launchpad   \n",
       "18             18  Amazon Launchpad   \n",
       "19             19  Amazon Launchpad   \n",
       "20             20  Amazon Launchpad   \n",
       "21             21  Amazon Launchpad   \n",
       "22             22  Amazon Launchpad   \n",
       "23             23  Amazon Launchpad   \n",
       "24             24  Amazon Launchpad   \n",
       "25             25  Amazon Launchpad   \n",
       "26             26  Amazon Launchpad   \n",
       "27             27  Amazon Launchpad   \n",
       "28             28  Amazon Launchpad   \n",
       "29             29  Amazon Launchpad   \n",
       "...           ...               ...   \n",
       "39542         569           Watches   \n",
       "39543         570           Watches   \n",
       "39544         571           Watches   \n",
       "39545         572           Watches   \n",
       "39546         573           Watches   \n",
       "39547         575           Watches   \n",
       "39548         576           Watches   \n",
       "39549         577           Watches   \n",
       "39550         578           Watches   \n",
       "39551         579           Watches   \n",
       "39552         580           Watches   \n",
       "39553         581           Watches   \n",
       "39554         582           Watches   \n",
       "39555         583           Watches   \n",
       "39556         584           Watches   \n",
       "39557         585           Watches   \n",
       "39558         586           Watches   \n",
       "39559         587           Watches   \n",
       "39560         588           Watches   \n",
       "39561         589           Watches   \n",
       "39562         590           Watches   \n",
       "39563         591           Watches   \n",
       "39564         592           Watches   \n",
       "39565         593           Watches   \n",
       "39566         594           Watches   \n",
       "39567         595           Watches   \n",
       "39568         596           Watches   \n",
       "39569         597           Watches   \n",
       "39570         598           Watches   \n",
       "39571         599           Watches   \n",
       "\n",
       "                                                   title  \n",
       "0      Watch Ya' Mouth Family Edition - The Authentic...  \n",
       "1      SmartyPants Kids Complete Gummy Vitamins: Mult...  \n",
       "2      Anova Culinary PCB-120US-K1 Bluetooth Precisio...  \n",
       "3                                          Joking Hazard  \n",
       "4      Tile Mate - Key Finder. Phone Finder. Anything...  \n",
       "5      Soylent Ready to Drink Food, Original, 14 oz B...  \n",
       "6      TubShroom The Revolutionary Tub Drain Protecto...  \n",
       "7      iOttie Easy One Touch 3 (V2.0) Car Mount Unive...  \n",
       "8      YETI Rambler Stainless Steel Vacuum Insulated ...  \n",
       "9      TubShroom The Revolutionary Tub Drain Protecto...  \n",
       "10            Tile Mate Key Finder, Phone Finder, 4-pack  \n",
       "11                   Yeti Stainless Steel Tumbler, 30 Oz  \n",
       "12     TubShroom the Revolutionary Tub Drain Protecto...  \n",
       "13     Tile Mate & Slim Combo Pack, Key/Wallet/Item F...  \n",
       "14     nonda USB-C to USB 3.0 Mini Adapter [World’s S...  \n",
       "15     SmartyPants Kids Complete Fiber Multivitamin O...  \n",
       "16                        Rocketbook Wave Smart Notebook  \n",
       "17     iOttie Easy One Touch Mini Air Vent Car Mount ...  \n",
       "18                                                 Cozmo  \n",
       "19     Watch Ya' Mouth Adult Phrase Card Game Expansi...  \n",
       "20     Tile Slim - Phone Finder. Wallet Finder. Item ...  \n",
       "21     remodeez Footwear Deodorizer: Charcoal Odor an...  \n",
       "22     SmartyPants PreNatal Complete Gummy Vitamins: ...  \n",
       "23     Four Sigmatic Mushroom Coffee with Lion’s Mane...  \n",
       "24     TubShroom the Revolutionary Tub Drain Protecto...  \n",
       "25     Withings Body Cardio - Heart Health and Body C...  \n",
       "26     SmartyPants Women's Complete Gummy Vitamins: M...  \n",
       "27     Withings Body - Body Composition Wi-Fi Scale, ...  \n",
       "28     ChefSteps CS10001 Joule Sous Vide, White/Stain...  \n",
       "29                                       Osmo Genius Kit  \n",
       "...                                                  ...  \n",
       "39542           Sony Lithium 3V Batteries CR2032 10 pack  \n",
       "39543           Energizer CR1220 Low Drain 3V lithuim...  \n",
       "39544           Panasonic CR1616 3V Coin Cell Lithium...  \n",
       "39545              15 Energizer CR2016 Lithium Batteries  \n",
       "39546           Duracell MN21B2PK Watch / Electronic/...  \n",
       "39547            CR2032 3V Micro Lithium Coin Lithium...  \n",
       "39548           EsmartD 360pcs 8-25mm Stainless Steel...  \n",
       "39549           Energizer Lithium Coin Watch/Electron...  \n",
       "39550           Maxell CR1616 Lithium Coin Cell (5 Pack)  \n",
       "39551           Energizer 371 / 370 Silver Oxide Watc...  \n",
       "39552           EZTool Professional Watch Repair Tool...  \n",
       "39553           SE JT6221 16-Piece Watch Repair Tool Kit  \n",
       "39554           CR2016 Energizer Lithium Batteries (2...  \n",
       "39555            2 pack Energizer CR2430 Lithium Coin...  \n",
       "39556            Polywatch Poly Watch Plastic Crystal...  \n",
       "39557           US Digital 40-Pack High Power Assorte...  \n",
       "39558           Strip of 10 Fresh Maxell LR1130 (189)...  \n",
       "39559           Maxell LR44 Alkaline 1.5V Battery, 2-...  \n",
       "39560            Energizer CR2450 Lithium Battery, 3v...  \n",
       "39561                EBR-1225 Micro Lithium Cell Battery  \n",
       "39562            Sony CR2025 3 Volt Lithium Manganese...  \n",
       "39563           [ 10 pcs ] -- Panasonic Cr2032 3v Lit...  \n",
       "39564           LOOPACELL AG10 LR1130 389 Alkaline Wa...  \n",
       "39565           2032 Duracell Duralock CR2032 Lithium...  \n",
       "39566           Duracell 6 (3x2) Duralock MN21B2PK Wa...  \n",
       "39567           Maxell Lithium 3V Batteries Size CR20...  \n",
       "39568           Energizer Watch Batteries 364 / 363 S...  \n",
       "39569           Energizer Silver Oxide Blister Pack W...  \n",
       "39570           Lithium Button Cell Battery CR2450 5-...  \n",
       "39571           10 pack MAXELL AG3 LR41 192 Button Ce...  \n",
       "\n",
       "[39572 rows x 3 columns]"
      ]
     },
     "execution_count": 2,
     "metadata": {},
     "output_type": "execute_result"
    }
   ],
   "source": [
    "ADS = pd.read_csv(r'./ADS_S.csv')\n",
    "#print and check the content\n",
    "ADS"
   ]
  },
  {
   "cell_type": "markdown",
   "metadata": {
    "nbpresent": {
     "id": "7455b873-af1a-4dbf-bd3f-d6b3a0bc2886"
    },
    "slideshow": {
     "slide_type": "skip"
    }
   },
   "source": [
    "Frequency Distribution of Different Category."
   ]
  },
  {
   "cell_type": "code",
   "execution_count": 4,
   "metadata": {
    "collapsed": false,
    "nbpresent": {
     "id": "452a2fa0-9549-4c0d-a52f-ea26f16bd6c9"
    },
    "slideshow": {
     "slide_type": "slide"
    }
   },
   "outputs": [
    {
     "data": {
      "image/png": "[encoded data removed]",
      "text/plain": [
       "<matplotlib.figure.Figure at 0x113c88290>"
      ]
     },
     "metadata": {},
     "output_type": "display_data"
    }
   ],
   "source": [
    "#Get frequency distribution of category\n",
    "freq = ADS.groupby('Category').title.count()\n",
    "\n",
    "fig = plt.figure(figsize=(9,6)) \n",
    "\n",
    "freq.plot(kind='bar')\n",
    "plt.title('Distribution')\n",
    "plt.xlabel('Category')\n",
    "plt.ylabel('Frequency')\n",
    "\n",
    "plt.show()\n",
    "\n",
    "#ADS.Category.value_counts()"
   ]
  },
  {
   "cell_type": "markdown",
   "metadata": {
    "nbpresent": {
     "id": "f478f9b1-2e19-4139-9388-2108764780e4"
    },
    "slideshow": {
     "slide_type": "subslide"
    }
   },
   "source": [
    "Removing \"Prime Pantry\" category, since there are only 6 listings available in the data. "
   ]
  },
  {
   "cell_type": "code",
   "execution_count": 3,
   "metadata": {
    "collapsed": true,
    "nbpresent": {
     "id": "2bd6a0dd-fec2-4c00-b714-ecd0aa49ea65"
    },
    "slideshow": {
     "slide_type": "subslide"
    }
   },
   "outputs": [
    {
     "data": {
      "text/plain": [
       "Entertainment Collectibles    2890\n",
       "Sports Collectibles           2850\n",
       "Grocery & Gourmet Food        2492\n",
       "Books                         2471\n",
       "Industrial & Scientific       1892\n",
       "Toys & Games                  1766\n",
       "Music                         1750\n",
       "Computers & Accessories       1518\n",
       "Arts, Crafts & Sewing         1389\n",
       "Software                      1289\n",
       "Appliances                    1256\n",
       "Baby                          1231\n",
       "Magazines                     1176\n",
       "Automotive                     998\n",
       "Home & Kitchen                 987\n",
       "Gift Cards                     968\n",
       "Patio, Lawn & Garden           954\n",
       "Kitchen & Dining               939\n",
       "Camera & Photo                 930\n",
       "Home Improvement               918\n",
       "Video Games                    906\n",
       "Electronics                    898\n",
       "Musical Instruments            803\n",
       "Health & Personal Care         762\n",
       "Kindle Store                   686\n",
       "Beauty                         654\n",
       "Cell Phones & Accessories      584\n",
       "Jewelry                        533\n",
       "Office Products                431\n",
       "Clothing                       429\n",
       "Watches                        425\n",
       "Amazon Launchpad               404\n",
       "Pet Supplies                   374\n",
       "Shoes                          336\n",
       "Movies & TV                    300\n",
       "Collectible Coins              207\n",
       "Sports & Outdoors              170\n",
       "Name: Category, dtype: int64"
      ]
     },
     "execution_count": 3,
     "metadata": {},
     "output_type": "execute_result"
    }
   ],
   "source": [
    "#dropping prime pantry\n",
    "#Sports & Outdoors?\n",
    "ADS = ADS[ADS.Category != 'Prime Pantry']\n",
    "ADS.Category.value_counts()"
   ]
  },
  {
   "cell_type": "markdown",
   "metadata": {
    "nbpresent": {
     "id": "685420e4-2bb8-4157-9987-53979d30de6f"
    },
    "slideshow": {
     "slide_type": "slide"
    }
   },
   "source": [
    "# Dividing the data into Training and Testing\n",
    "<p></p>\n",
    "<p>\n",
    "<li> The data is divided into two samples with 70% of data for Training sample and 30% for testig.</li>\n",
    "<li> Stratifed sampling technique is used, to maintain the proportions of categoires. </li>\n",
    "</p>"
   ]
  },
  {
   "cell_type": "code",
   "execution_count": 4,
   "metadata": {
    "collapsed": true,
    "nbpresent": {
     "id": "f7147591-d465-43d7-bcfb-f2db1f7f11d4"
    },
    "slideshow": {
     "slide_type": "subslide"
    }
   },
   "outputs": [],
   "source": [
    "from sklearn.cross_validation import train_test_split\n",
    "\n",
    "text_train, text_test, y_train, y_test = train_test_split(ADS.title, ADS.Category, random_state=1340, test_size=0.30,\\\n",
    "                                                          stratify=ADS.Category)\n"
   ]
  },
  {
   "cell_type": "markdown",
   "metadata": {
    "nbpresent": {
     "id": "dd7a522c-0d62-41da-9082-c8b0c06cbaed"
    },
    "slideshow": {
     "slide_type": "subslide"
    }
   },
   "source": [
    "Checking the sample sie of both train and test samples. "
   ]
  },
  {
   "cell_type": "code",
   "execution_count": 5,
   "metadata": {
    "collapsed": false,
    "nbpresent": {
     "id": "b413b904-8264-46f0-ad5b-c7d58ddcb677"
    },
    "slideshow": {
     "slide_type": "subslide"
    }
   },
   "outputs": [
    {
     "name": "stdout",
     "output_type": "stream",
     "text": [
      "(27696,) (27696,)\n",
      "(11870,) (11870,)\n"
     ]
    }
   ],
   "source": [
    "print text_train.shape, y_train.shape\n",
    "print text_test.shape, y_test.shape"
   ]
  },
  {
   "cell_type": "markdown",
   "metadata": {
    "nbpresent": {
     "id": "db8d65b4-b5ac-4e8b-8a72-71e1b59f740b"
    },
    "slideshow": {
     "slide_type": "skip"
    }
   },
   "source": [
    "Check the stratification."
   ]
  },
  {
   "cell_type": "code",
   "execution_count": 6,
   "metadata": {
    "collapsed": true,
    "nbpresent": {
     "id": "295a2b85-5828-4884-8cc8-549abcb59630"
    },
    "slideshow": {
     "slide_type": "skip"
    }
   },
   "outputs": [],
   "source": [
    "fracs_test = y_train.value_counts()/y_train.shape*100\n",
    "fracs_train = y_test.value_counts()/y_test.shape*100"
   ]
  },
  {
   "cell_type": "code",
   "execution_count": 7,
   "metadata": {
    "collapsed": false,
    "nbpresent": {
     "id": "db4ef439-da85-46bb-841c-6f9165d2776e"
    },
    "slideshow": {
     "slide_type": "subslide"
    }
   },
   "outputs": [
    {
     "data": {
      "image/png": "[encoded data removed]",
      "text/plain": [
       "<matplotlib.figure.Figure at 0x11566c310>"
      ]
     },
     "metadata": {},
     "output_type": "display_data"
    }
   ],
   "source": [
    "import numpy as np\n",
    "\n",
    "plt.figure(1, figsize= (6,6))\n",
    "#ax1 = fig.add_subplot(121)\n",
    "#ax2 = fig.add_subplot(122)\n",
    "\n",
    "# Plot\n",
    "plt.pie(fracs_train,  autopct='%1.1f%%', \n",
    "        shadow=False, startangle=90, center = (-1.5,0))\n",
    "\n",
    "plt.title('Test')\n",
    "\n",
    "plt.figure(1, figsize= (6,6))\n",
    "\n",
    "plt.pie(fracs_test, autopct='%1.1f%%', \n",
    "        shadow=False, startangle=90, center = (1.5,0))\n",
    "\n",
    "#plt.title('Training dataset category distribution'+ \\t  \\\\t Testing dataset category distribution')\n",
    "\n",
    "plt.legend(y_train.value_counts().index, loc='upper center', bbox_to_anchor=(0, -0.05),\n",
    "          fancybox=True, shadow=True, ncol=5)\n",
    "\n",
    "\n",
    "plt.tight_layout()\n",
    "plt.show()\n"
   ]
  },
  {
   "cell_type": "markdown",
   "metadata": {
    "nbpresent": {
     "id": "14077302-6dbf-4620-887c-ea5cebf21b87"
    },
    "slideshow": {
     "slide_type": "slide"
    }
   },
   "source": [
    "#### Stemming function to be pased to TF-IDF Vectorizer"
   ]
  },
  {
   "cell_type": "code",
   "execution_count": 5,
   "metadata": {
    "collapsed": false,
    "nbpresent": {
     "id": "c5892667-bc93-4ebf-8291-fda3f2e500b9"
    },
    "slideshow": {
     "slide_type": "subslide"
    }
   },
   "outputs": [],
   "source": [
    "import nltk.stem \n",
    "import re\n",
    "from nltk.corpus import stopwords\n",
    "from sklearn.feature_extraction.text import TfidfVectorizer, CountVectorizer\n",
    "\n",
    "english_stemmer = nltk.stem.SnowballStemmer('english')\n",
    "\n",
    "#english_stemmer = EnglishStemmer.stemWords()\n",
    "\n",
    "class StemmedCountVectorizer(CountVectorizer):\n",
    "    def build_analyzer(self):\n",
    "        analyzer = super(CountVectorizer, self).build_analyzer()\n",
    "        return lambda doc: (re.sub(\"[^a-zA-Z]\", \"\", english_stemmer.stem(w)) for w in analyzer(doc))\n",
    "\n",
    "class StemmedTfidfVectorizer(TfidfVectorizer):\n",
    "    def build_analyzer(self):\n",
    "        analyzer = super(TfidfVectorizer, self).build_analyzer()\n",
    "        return lambda doc: (re.sub(\"[^a-zA-Z]\", \"\", english_stemmer.stem(w)) for w in analyzer(doc))\n",
    "\n",
    "#tfidf = StemmedTfidfVectorizer(min_df=1, stop_words='english', analyzer='word', ngram_range=(1,1))\n",
    "#%timeit tfidf.fit_transform(X_train)"
   ]
  },
  {
   "cell_type": "markdown",
   "metadata": {
    "nbpresent": {
     "id": "e64da544-bc50-41ce-98b4-b73b1aebf803"
    },
    "slideshow": {
     "slide_type": "subslide"
    }
   },
   "source": [
    "#### Helper function to predict accuracy and Class-wise accuracy"
   ]
  },
  {
   "cell_type": "code",
   "execution_count": 6,
   "metadata": {
    "collapsed": true,
    "nbpresent": {
     "id": "2a7d75c6-caa3-46f5-ad29-1761089f0017"
    },
    "slideshow": {
     "slide_type": "subslide"
    }
   },
   "outputs": [],
   "source": [
    "from sklearn.metrics import confusion_matrix, classification_report\n",
    "\n",
    "def accuracy(true, pred):\n",
    "    return (true == pred).sum() / float(true.shape[0])\n",
    "\n",
    "def macro(true, pred):\n",
    "    scores = []\n",
    "    for l in np.unique(true):\n",
    "        scores.append(accuracy(np.where(true != l, 1, 0),\n",
    "                               np.where(pred != l, 1, 0)))\n",
    "    return float(sum(scores)) / float(len(scores))\n",
    "\n",
    "def confusionMatrixPlt(classifier):\n",
    "    plt.matshow(confusion_matrix(y_test, classifier), cmap=\"Greens\")\n",
    "    plt.colorbar(shrink=1)\n",
    "    plt.xlabel(\"Predicted label\")\n",
    "    plt.ylabel(\"True label\");\n",
    "    #plt.show()\n",
    "\n",
    "def coeffMatrix(pipeline_fitted, vect, clf):\n",
    "    col_names =  np.hstack(('intercept',pipeline_fitted.named_steps[vect].get_feature_names()))\n",
    "    intercept_val =  pipeline_fitted.named_steps[clf].intercept_\n",
    "    rest_col_values =  pipeline_fitted.named_steps[clf].coef_\n",
    "    datas = np.hstack((intercept_val[:,None],rest_col_values))\n",
    "    row_index = pipeline_fitted.classes_\n",
    "    return pd.DataFrame(index = row_index, columns= col_names, data = datas)\n",
    "\n",
    "\n",
    "def visualize_coefficients(pipeline_fitted, vect, clf, category, n_top_features=25):\n",
    "    # get coefficients with large absolute values \n",
    "    labels = pipeline_fitted.classes_\n",
    "    \n",
    "    i = np.where(labels== category)\n",
    "    coef = pipeline_fitted.named_steps[clf].coef_[i].ravel()\n",
    "    positive_coefficients = np.argsort(coef)[ -n_top_features:]\n",
    "    negative_coefficients = np.argsort(coef)[ :n_top_features]\n",
    "    interesting_coefficients = np.hstack([negative_coefficients, positive_coefficients])\n",
    "    # plot them\n",
    "    plt.figure(figsize=(15, 5))\n",
    "    colors = [\"red\" if c < 0 else \"blue\" for c in coef[interesting_coefficients]]\n",
    "    plt.bar(np.arange(50), coef[interesting_coefficients], color=colors)\n",
    "    feature_names = np.array(pipeline_fitted.named_steps[vect].get_feature_names())\n",
    "    plt.xticks(np.arange(1, 51), feature_names[interesting_coefficients], rotation=60, ha=\"right\")\n",
    "    plt.title(labels[i].tolist()[0]);"
   ]
  },
  {
   "cell_type": "markdown",
   "metadata": {
    "nbpresent": {
     "id": "0dc5cd39-b40e-4a6e-9710-b96475638bae"
    },
    "slideshow": {
     "slide_type": "skip"
    }
   },
   "source": [
    "### Create a pipeline for pre-processing (TD-IDF for the k-Folds before validating the hyper parameters)\n",
    "Brute force for hyper parameter tuning [Underfitting vs Overfitting]"
   ]
  },
  {
   "cell_type": "code",
   "execution_count": 227,
   "metadata": {
    "collapsed": true,
    "nbpresent": {
     "id": "13802ba3-b95a-4381-ac4a-6a41718c93cf"
    },
    "slideshow": {
     "slide_type": "slide"
    }
   },
   "outputs": [
    {
     "name": "stdout",
     "output_type": "stream",
     "text": [
      "Fitting 3 folds for each of 5 candidates, totalling 15 fits\n",
      "[CV] stemmedtfidfvectorizer__max_features=2000 .......................\n",
      "[CV] stemmedtfidfvectorizer__max_features=2000 .......................\n",
      "[CV] stemmedtfidfvectorizer__max_features=2000 .......................\n",
      "[CV]  stemmedtfidfvectorizer__max_features=2000, score=0.695200 -  34.4s\n",
      "[CV] stemmedtfidfvectorizer__max_features=3000 .......................\n",
      "[CV]  stemmedtfidfvectorizer__max_features=2000, score=0.699329 -  36.1s\n",
      "[CV] stemmedtfidfvectorizer__max_features=3000 .......................\n",
      "[CV]  stemmedtfidfvectorizer__max_features=2000, score=0.702418 -  36.2s\n",
      "[CV] stemmedtfidfvectorizer__max_features=3000 .......................\n",
      "[CV]  stemmedtfidfvectorizer__max_features=3000, score=0.716959 -  38.7s\n",
      "[CV] stemmedtfidfvectorizer__max_features=4000 .......................\n",
      "[CV]  stemmedtfidfvectorizer__max_features=3000, score=0.716979 -  39.6s\n",
      "[CV] stemmedtfidfvectorizer__max_features=4000 .......................\n",
      "[CV]  stemmedtfidfvectorizer__max_features=3000, score=0.720095 -  40.5s\n",
      "[CV] stemmedtfidfvectorizer__max_features=4000 .......................\n",
      "[CV]  stemmedtfidfvectorizer__max_features=4000, score=0.724205 -  40.6s\n",
      "[CV] stemmedtfidfvectorizer__max_features=5000 .......................\n",
      "[CV]  stemmedtfidfvectorizer__max_features=4000, score=0.725431 -  40.7s\n",
      "[CV] stemmedtfidfvectorizer__max_features=5000 .......................\n",
      "[CV]  stemmedtfidfvectorizer__max_features=4000, score=0.730181 -  40.1s\n",
      "[CV] stemmedtfidfvectorizer__max_features=5000 .......................\n",
      "[CV]  stemmedtfidfvectorizer__max_features=5000, score=0.727342 -  42.2s\n",
      "[CV] stemmedtfidfvectorizer__max_features=None .......................\n",
      "[CV]  stemmedtfidfvectorizer__max_features=5000, score=0.728573 -  43.4s\n",
      "[CV] stemmedtfidfvectorizer__max_features=None .......................\n",
      "[CV]  stemmedtfidfvectorizer__max_features=5000, score=0.733435 -  43.1s\n",
      "[CV] stemmedtfidfvectorizer__max_features=None .......................\n",
      "[CV]  stemmedtfidfvectorizer__max_features=None, score=0.735886 -  59.4s\n",
      "[CV]  stemmedtfidfvectorizer__max_features=None, score=0.732149 -  59.1s\n",
      "[CV]  stemmedtfidfvectorizer__max_features=None, score=0.733868 -  59.8s\n"
     ]
    },
    {
     "name": "stderr",
     "output_type": "stream",
     "text": [
      "[Parallel(n_jobs=3)]: Done  15 out of  15 | elapsed:  3.7min finished\n"
     ]
    },
    {
     "data": {
      "text/plain": [
       "GridSearchCV(cv=3, error_score='raise',\n",
       "       estimator=Pipeline(steps=[('stemmedtfidfvectorizer', StemmedTfidfVectorizer(analyzer=u'word', binary=False, decode_error=u'strict',\n",
       "            dtype=<type 'numpy.int64'>, encoding=u'utf-8',\n",
       "            input=u'content', lowercase=True, max_df=1.0,\n",
       "            max_features=None, min_df=1, ngram_range=(1, 1), norm=u'l2...ty='l2', random_state=None, solver='newton-cg',\n",
       "          tol=0.0001, verbose=0, warm_start=False))]),\n",
       "       fit_params={}, iid=True, n_jobs=3,\n",
       "       param_grid={'stemmedtfidfvectorizer__max_features': [2000, 3000, 4000, 5000, None]},\n",
       "       pre_dispatch='2*n_jobs', refit=True, scoring=None, verbose=3)"
      ]
     },
     "execution_count": 227,
     "metadata": {},
     "output_type": "execute_result"
    }
   ],
   "source": [
    "from sklearn.feature_extraction.text import TfidfVectorizer\n",
    "from sklearn.linear_model import LogisticRegression\n",
    "from sklearn.pipeline import make_pipeline\n",
    "from sklearn.grid_search import GridSearchCV\n",
    "from sklearn.metrics import confusion_matrix\n",
    "from sklearn.metrics import classification_report\n",
    "\n",
    "pipeline = make_pipeline(StemmedTfidfVectorizer(),\\\n",
    "                         LogisticRegression(solver='newton-cg', max_iter=50000, multi_class='multinomial'))\n",
    "\n",
    "'''\n",
    "params = {'logisticregression__C': [.001, .1, 1, 10, 100, 1000], \\\n",
    "          'logisticregression__penalty':['l2'], \"stemmedtfidfvectorizer__ngram_range\": [(1, 1), (1, 2), (2, 2)],\\\n",
    "          \"stemmedtfidfvectorizer__stop_words\": ['english',None]}\n",
    "'''\n",
    "#params = {\"stemmedtfidfvectorizer__max_features\": [100, 1000, 5000, 10000, 20000, 50000, None]}\n",
    "\n",
    "params = {\"stemmedtfidfvectorizer__max_features\": [2000, 3000, 4000, 5000, None]}\n",
    "\n",
    "grid = GridSearchCV(pipeline, param_grid=params, cv=3, verbose = 3, n_jobs=3) \n",
    "# scoring=\"roc_auc\" used for unbalanced class\n",
    "grid.fit(text_train, y_train)\n"
   ]
  },
  {
   "cell_type": "code",
   "execution_count": 229,
   "metadata": {
    "collapsed": true,
    "nbpresent": {
     "id": "fa854d5e-80d2-46ad-842f-f135cc89395e"
    },
    "slideshow": {
     "slide_type": "subslide"
    }
   },
   "outputs": [
    {
     "name": "stdout",
     "output_type": "stream",
     "text": [
      "('best parameters:', {'stemmedtfidfvectorizer__max_features': None})\n",
      "('best score:', 0.73396880415944543)\n",
      "             precision    recall  f1-score   support\n",
      "\n",
      "Amazon Launchpad       0.89      0.21      0.34       121\n",
      " Appliances       0.89      0.89      0.89       377\n",
      "Arts, Crafts & Sewing       0.81      0.79      0.80       417\n",
      " Automotive       0.77      0.65      0.71       299\n",
      "       Baby       0.83      0.77      0.80       369\n",
      "     Beauty       0.80      0.68      0.74       196\n",
      "      Books       0.65      0.89      0.75       741\n",
      "Camera & Photo       0.85      0.88      0.87       279\n",
      "Cell Phones & Accessories       0.84      0.86      0.85       175\n",
      "   Clothing       0.83      0.89      0.86       129\n",
      "Collectible Coins       1.00      0.89      0.94        62\n",
      "Computers & Accessories       0.84      0.88      0.86       455\n",
      "Electronics       0.66      0.61      0.63       269\n",
      "Entertainment Collectibles       0.88      0.90      0.89       867\n",
      " Gift Cards       0.98      0.99      0.99       290\n",
      "Grocery & Gourmet Food       0.77      0.96      0.86       748\n",
      "Health & Personal Care       0.72      0.56      0.63       229\n",
      "Home & Kitchen       0.67      0.49      0.57       296\n",
      "Home Improvement       0.67      0.50      0.57       275\n",
      "Industrial & Scientific       0.54      0.73      0.62       568\n",
      "    Jewelry       0.90      0.89      0.90       160\n",
      "Kindle Store       0.90      0.56      0.69       206\n",
      "Kitchen & Dining       0.70      0.72      0.71       282\n",
      "  Magazines       0.55      0.68      0.61       353\n",
      "Movies & TV       0.86      0.36      0.50        90\n",
      "      Music       0.67      0.60      0.63       525\n",
      "Musical Instruments       0.84      0.73      0.78       241\n",
      "Office Products       0.83      0.60      0.70       129\n",
      "Patio, Lawn & Garden       0.70      0.56      0.62       286\n",
      "Pet Supplies       0.82      0.54      0.65       112\n",
      "      Shoes       1.00      0.87      0.93       101\n",
      "   Software       0.92      0.76      0.83       387\n",
      "Sports & Outdoors       1.00      0.02      0.04        51\n",
      "Sports Collectibles       0.84      0.96      0.89       855\n",
      "Toys & Games       0.66      0.72      0.69       530\n",
      "Video Games       0.83      0.67      0.74       272\n",
      "    Watches       0.91      0.75      0.82       128\n",
      "\n",
      "avg / total       0.78      0.77      0.76     11870\n",
      "\n",
      "****************\n",
      "('accuracy:', 0.7659646166807077)\n",
      "****************\n",
      "('average-per-class accuracy:', 0.9873494387394978)\n"
     ]
    }
   ],
   "source": [
    "print('best parameters:', grid.best_params_)\n",
    "print('best score:', grid.best_score_)\n",
    "\n",
    "grid_pred = grid.predict(text_test)\n",
    "\n",
    "print classification_report(y_test, grid_pred)\n",
    "print \"****************\"\n",
    "print('accuracy:', accuracy(y_test, grid_pred))\n",
    "print \"****************\"\n",
    "print('average-per-class accuracy:', macro(y_test, grid_pred))"
   ]
  },
  {
   "cell_type": "markdown",
   "metadata": {
    "nbpresent": {
     "id": "aa7dba14-0a0b-47ec-92b2-b6f80c528554"
    },
    "slideshow": {
     "slide_type": "slide"
    }
   },
   "source": [
    "# Multinomial Logistic Regression"
   ]
  },
  {
   "cell_type": "code",
   "execution_count": 21,
   "metadata": {
    "collapsed": false,
    "nbpresent": {
     "id": "96989278-e0d4-4a30-903e-fe54d5e638b5"
    },
    "slideshow": {
     "slide_type": "subslide"
    }
   },
   "outputs": [
    {
     "name": "stdout",
     "output_type": "stream",
     "text": [
      "CPU times: user 33.8 s, sys: 1.05 s, total: 34.8 s\n",
      "Wall time: 18min 8s\n",
      "CPU times: user 28.3 s, sys: 275 ms, total: 28.6 s\n",
      "Wall time: 28.5 s\n",
      "CPU times: user 12 s, sys: 212 ms, total: 12.3 s\n",
      "Wall time: 12.2 s\n"
     ]
    }
   ],
   "source": [
    "from sklearn.pipeline import make_pipeline\n",
    "from sklearn.feature_extraction.text import TfidfVectorizer\n",
    "from sklearn.linear_model import LogisticRegression\n",
    "#from sklearn.feature_selection import SelectKBest, chi2\n",
    "\n",
    "log_pipeline = make_pipeline(StemmedTfidfVectorizer(ngram_range=(1,3), stop_words='english', max_features=None),\n",
    "                             #SelectKBest(chi2,10000),\n",
    "                             LogisticRegression(solver='newton-cg', max_iter=50000,class_weight= 'balanced',\n",
    "                                                dual= False, fit_intercept= True, intercept_scaling= 1,\n",
    "                                                multi_class='multinomial',n_jobs=1,penalty='l2', C=100))\n",
    "\n",
    "%time log_pipeline.fit(text_train,y_train)\n",
    "%time log = log_pipeline.score(text_train,y_train)\n",
    "%time log_pred=log_pipeline.predict(text_test)\n"
   ]
  },
  {
   "cell_type": "code",
   "execution_count": 24,
   "metadata": {
    "collapsed": false,
    "nbpresent": {
     "id": "de2267c6-180c-40bc-80f5-42bd7b26f8fe"
    },
    "slideshow": {
     "slide_type": "fragment"
    }
   },
   "outputs": [],
   "source": [
    "log_coef_df = coeffMatrix(log_pipeline, 'stemmedtfidfvectorizer', 'logisticregression')"
   ]
  },
  {
   "cell_type": "code",
   "execution_count": 26,
   "metadata": {
    "collapsed": true,
    "nbpresent": {
     "id": "d8f3efd3-0cf8-45d3-8a57-c14362e9b679"
    },
    "slideshow": {
     "slide_type": "fragment"
    }
   },
   "outputs": [
    {
     "data": {
      "image/png": "[encoded data removed]",
      "text/plain": [
       "<matplotlib.figure.Figure at 0x11894af10>"
      ]
     },
     "metadata": {},
     "output_type": "display_data"
    }
   ],
   "source": [
    "visualize_coefficients(log_pipeline,'stemmedtfidfvectorizer', 'logisticregression','Home Improvement')"
   ]
  },
  {
   "cell_type": "markdown",
   "metadata": {
    "nbpresent": {
     "id": "e0e7cfdb-ed02-48e0-a748-cc334afbc95c"
    },
    "slideshow": {
     "slide_type": "subslide"
    }
   },
   "source": [
    "###### Serialize the pipeline object and store it in disk for future use. "
   ]
  },
  {
   "cell_type": "code",
   "execution_count": 23,
   "metadata": {
    "collapsed": false,
    "nbpresent": {
     "id": "e56e0154-8470-44ac-b0cd-958786046c5d"
    },
    "slideshow": {
     "slide_type": "subslide"
    }
   },
   "outputs": [
    {
     "data": {
      "text/plain": [
       "['./Log_models.pkl']"
      ]
     },
     "execution_count": 23,
     "metadata": {},
     "output_type": "execute_result"
    }
   ],
   "source": [
    "from sklearn.externals import joblib\n",
    "#pickle is an alternative\n",
    "filename = \"./Log_models.pkl\"\n",
    "joblib.dump(log_pipeline, filename, compress=9)"
   ]
  },
  {
   "cell_type": "markdown",
   "metadata": {
    "nbpresent": {
     "id": "7bc76430-3804-4046-906e-01fe3939ead5"
    },
    "slideshow": {
     "slide_type": "slide"
    }
   },
   "source": [
    "### Model Diagnostics"
   ]
  },
  {
   "cell_type": "code",
   "execution_count": 28,
   "metadata": {
    "collapsed": true,
    "nbpresent": {
     "id": "37af3f75-3e0d-4ab5-b4d2-4bf0645d164f"
    },
    "slideshow": {
     "slide_type": "subslide"
    }
   },
   "outputs": [
    {
     "data": {
      "text/plain": [
       "array([[ 68,   2,   0,   1,   1,   4,   1,   2,  10,   0,   0,   1,   4,\n",
       "          1,   0,  12,   2,   1,   2,   2,   0,   0,   2,   0,   0,   0,\n",
       "          0,   0,   0,   0,   0,   0,   0,   0,   4,   1,   0],\n",
       "       [  0, 340,   3,   0,   1,   3,   2,   1,   1,   0,   0,   0,   0,\n",
       "          1,   0,   1,   2,   1,   9,   3,   0,   0,   7,   0,   0,   1,\n",
       "          0,   0,   0,   0,   0,   1,   0,   0,   0,   0,   0],\n",
       "       [  0,   1, 348,   2,   1,   4,   5,   0,   0,   1,   0,   1,   0,\n",
       "          2,   0,   9,   0,   3,   3,  15,   7,   0,   0,   1,   0,   4,\n",
       "          0,   2,   1,   0,   0,   3,   0,   0,   4,   0,   0],\n",
       "       [  0,   0,   5, 211,   3,   3,   1,   1,   2,   0,   0,   2,   4,\n",
       "          0,   0,   3,   2,  11,  12,  15,   0,   0,   1,   1,   0,   2,\n",
       "          1,   0,  17,   1,   0,   1,   0,   0,   0,   0,   0],\n",
       "       [  0,   0,   1,   1, 309,   3,   4,   1,   0,   1,   1,   0,   0,\n",
       "          0,   0,   9,   5,   6,   4,   2,   0,   0,   2,   2,   0,   6,\n",
       "          0,   0,   0,   1,   1,   0,   0,   0,   9,   1,   0],\n",
       "       [  0,   0,   4,   0,   1, 152,   2,   1,   0,   0,   0,   0,   0,\n",
       "          0,   0,  12,   9,   6,   0,   5,   0,   0,   1,   0,   0,   1,\n",
       "          0,   1,   0,   0,   1,   0,   0,   0,   0,   0,   0],\n",
       "       [  0,   1,   4,   1,   1,   0, 576,   0,   0,   2,   0,   0,   0,\n",
       "          8,   0,   6,   1,   1,   1,   7,   1,  14,   2,  19,  10,  53,\n",
       "          2,   0,   1,   1,   0,  14,   0,   3,   7,   4,   1],\n",
       "       [  1,   0,   0,   0,   0,   1,   0, 261,   0,   1,   0,   5,   2,\n",
       "          0,   0,   0,   1,   1,   0,   1,   0,   0,   0,   1,   0,   0,\n",
       "          1,   2,   0,   0,   0,   0,   0,   0,   1,   0,   0],\n",
       "       [  0,   1,   0,   0,   0,   0,   1,   0, 167,   0,   1,   1,   4,\n",
       "          0,   0,   0,   0,   0,   0,   0,   0,   0,   0,   0,   0,   0,\n",
       "          0,   0,   0,   0,   0,   0,   0,   0,   0,   0,   0],\n",
       "       [  0,   0,   1,   0,   4,   0,   1,   0,   0, 116,   0,   0,   0,\n",
       "          0,   0,   0,   1,   0,   0,   1,   0,   0,   0,   0,   0,   0,\n",
       "          0,   0,   1,   0,   2,   0,   0,   0,   1,   0,   1],\n",
       "       [  0,   0,   1,   0,   0,   0,   0,   0,   0,   0,  59,   0,   0,\n",
       "          0,   0,   0,   0,   0,   0,   0,   0,   0,   0,   1,   0,   0,\n",
       "          0,   0,   0,   0,   0,   1,   0,   0,   0,   0,   0],\n",
       "       [  1,   0,   2,   1,   0,   0,   0,   3,   5,   0,   0, 422,   9,\n",
       "          0,   0,   0,   0,   0,   0,   1,   0,   3,   1,   1,   0,   0,\n",
       "          1,   0,   0,   0,   0,   3,   0,   0,   1,   1,   0],\n",
       "       [  1,   0,   5,   3,   0,   0,   0,   8,   6,   1,   0,  14, 187,\n",
       "          0,   0,   0,   0,   0,   2,   8,   1,   5,   1,   1,   1,   0,\n",
       "          2,   4,   2,   0,   0,   1,   0,   0,   2,  12,   2],\n",
       "       [  0,   0,   1,   1,   0,   0,   9,   0,   0,   1,   0,   0,   0,\n",
       "        798,   0,   1,   0,   5,   1,   1,   1,   0,   1,   5,   1,  14,\n",
       "          0,   1,   2,   0,   0,   0,   0,  21,   2,   0,   1],\n",
       "       [  0,   0,   0,   0,   0,   0,   2,   0,   0,   0,   0,   0,   0,\n",
       "          1, 286,   0,   0,   0,   0,   0,   0,   0,   0,   0,   0,   0,\n",
       "          0,   0,   0,   0,   0,   0,   0,   1,   0,   0,   0],\n",
       "       [  0,   1,   1,   0,   3,   4,   0,   0,   0,   0,   0,   1,   1,\n",
       "          2,   0, 704,  12,   2,   0,   4,   0,   0,   6,   2,   1,   2,\n",
       "          0,   1,   0,   0,   0,   0,   0,   1,   0,   0,   0],\n",
       "       [  1,   1,   2,   0,   8,  13,   0,   0,   0,   3,   0,   1,   1,\n",
       "          0,   0,  10, 157,   6,   1,  13,   0,   0,   3,   1,   0,   2,\n",
       "          0,   1,   0,   0,   0,   1,   1,   0,   0,   0,   3],\n",
       "       [  1,   1,   4,   3,   5,   9,   0,   0,   0,   0,   0,   0,   2,\n",
       "          4,   0,   1,   9, 181,  12,  28,   0,   0,  19,   0,   1,   0,\n",
       "          0,   2,   5,   0,   0,   0,   1,   2,   4,   0,   2],\n",
       "       [  0,   2,   7,   9,   3,   1,   1,   2,   1,   1,   0,   1,   1,\n",
       "          0,   0,   5,   1,  12, 149,  53,   0,   0,   7,   0,   0,   2,\n",
       "          2,   4,   6,   2,   0,   1,   0,   0,   2,   0,   0],\n",
       "       [  2,   5,  12,  12,   2,   2,   1,   1,   1,   3,   0,  20,   1,\n",
       "          2,   0,   6,  14,   8,  45, 393,   1,   0,  14,   2,   0,   5,\n",
       "          1,   3,   5,   0,   1,   1,   0,   1,   4,   0,   0],\n",
       "       [  0,   0,   3,   0,   0,   1,   0,   0,   0,   0,   0,   0,   0,\n",
       "          2,   0,   1,   0,   1,   0,   0, 149,   0,   1,   0,   1,   0,\n",
       "          0,   0,   0,   0,   0,   0,   1,   0,   0,   0,   0],\n",
       "       [  0,   0,   0,   0,   0,   0,  29,   0,   0,   1,   0,   3,   2,\n",
       "          1,   0,   0,   1,   0,   0,   0,   0, 128,   0,  19,   1,  13,\n",
       "          1,   0,   2,   0,   0,   1,   0,   4,   0,   0,   0],\n",
       "       [  0,   2,   2,   1,   1,   2,   2,   0,   0,   0,   0,   0,   1,\n",
       "          2,   0,  12,   1,  14,   4,  13,   1,   0, 214,   3,   0,   0,\n",
       "          0,   1,   0,   0,   0,   2,   0,   1,   3,   0,   0],\n",
       "       [  0,   0,   2,   7,   2,   1,  36,   1,   0,   3,   1,   1,   1,\n",
       "          4,   0,   1,   1,   1,   0,   1,   0,  20,   2, 179,   1,  61,\n",
       "          4,   0,   5,   4,   0,   1,   0,   3,   7,   3,   0],\n",
       "       [  0,   0,   1,   0,   0,   0,  10,   0,   0,   1,   0,   0,   0,\n",
       "          4,   1,   0,   0,   0,   0,   1,   0,   0,   0,   0,  59,   9,\n",
       "          1,   0,   0,   1,   0,   0,   0,   1,   1,   0,   0],\n",
       "       [  0,   1,   2,   2,   0,   0,  54,   0,   0,   0,   0,   0,   1,\n",
       "          8,   0,   5,   0,   0,   0,   2,   0,   2,   1,  18,  14, 371,\n",
       "          4,   2,   3,   1,   0,   5,   1,  13,  11,   3,   1],\n",
       "       [  0,   1,   4,   3,   0,   0,   3,   0,   5,   0,   0,   4,   7,\n",
       "          2,   0,   0,   0,   3,   0,   4,   0,   0,   0,   1,   0,   4,\n",
       "        185,   0,   4,   0,   0,   2,   0,   0,   7,   0,   2],\n",
       "       [  0,   0,   8,   0,   0,   0,   2,   0,   0,   0,   0,   0,   0,\n",
       "          0,   0,   0,   1,   9,   5,   8,   1,   0,   1,   0,   0,   3,\n",
       "          3,  87,   0,   0,   0,   0,   0,   0,   1,   0,   0],\n",
       "       [  0,   2,   3,  10,   1,   2,   2,   0,   0,   1,   0,   1,   2,\n",
       "          1,   0,   7,   1,   1,   8,  14,   0,   0,   7,   5,   0,   3,\n",
       "          0,   0, 203,   3,   0,   1,   1,   1,   2,   1,   3],\n",
       "       [  0,   1,   0,   0,   0,   3,   6,   0,   1,   0,   0,   0,   1,\n",
       "          0,   0,   5,   1,   3,   1,   2,   1,   1,   0,   3,   0,   2,\n",
       "          0,   0,   2,  76,   0,   1,   0,   0,   2,   0,   0],\n",
       "       [  0,   0,   0,   0,   1,   0,   1,   0,   0,   0,   0,   0,   0,\n",
       "          0,   0,   1,   0,   0,   0,   0,   0,   0,   0,   0,   0,   0,\n",
       "          0,   0,   0,   0,  95,   1,   2,   0,   0,   0,   0],\n",
       "       [  0,   2,   2,   0,   0,   0,  17,   2,   3,   0,   0,   2,   1,\n",
       "          0,   0,   0,   0,   1,   1,   3,   0,   0,   0,   4,   2,   1,\n",
       "          2,   1,   0,   0,   0, 333,   0,   2,   5,   3,   0],\n",
       "       [  0,   1,   0,   1,   1,   1,   0,   1,   1,   3,   0,   0,   1,\n",
       "          0,   0,   0,   1,   3,   2,   1,   1,   0,   4,   1,   0,   1,\n",
       "          0,   0,   0,   0,   2,   0,  19,   3,   3,   0,   0],\n",
       "       [  0,   0,   1,   3,   1,   0,   6,   2,   0,   2,   0,   0,   0,\n",
       "         19,   0,   2,   0,   1,   0,   3,   0,   1,   3,   3,   0,   5,\n",
       "          1,   0,   0,   0,   2,   0,   1, 793,   6,   0,   0],\n",
       "       [  0,   0,  13,   8,  16,   1,  10,   6,   0,   1,   0,   1,   1,\n",
       "          5,   0,   2,   2,   2,   0,  18,   2,   0,   4,   5,   7,   5,\n",
       "          5,   6,   7,   3,   0,   2,   1,   9, 382,   5,   1],\n",
       "       [  0,   1,   0,   1,   0,   0,   3,   3,   4,   0,   0,  12,   3,\n",
       "          1,   0,   0,   0,   0,   2,   2,   0,   1,   1,   1,   1,   6,\n",
       "          1,   0,   3,   0,   0,   4,   0,   0,   6, 214,   2],\n",
       "       [  0,   0,   0,   2,   0,   0,   0,   1,   0,   2,   0,   0,   0,\n",
       "          0,   0,   0,   0,   0,   0,   2,   1,   0,   0,   0,   0,   0,\n",
       "          0,   0,   1,   0,   1,   1,   0,   1,   1,   0, 115]])"
      ]
     },
     "execution_count": 28,
     "metadata": {},
     "output_type": "execute_result"
    }
   ],
   "source": [
    "from sklearn.metrics import confusion_matrix,classification_report\n",
    "confusion_matrix(y_test, log_pred)"
   ]
  },
  {
   "cell_type": "code",
   "execution_count": 30,
   "metadata": {
    "collapsed": true,
    "nbpresent": {
     "id": "59fd21fe-6b5a-40a8-8c83-b868ed5e05ab"
    },
    "slideshow": {
     "slide_type": "subslide"
    }
   },
   "outputs": [
    {
     "data": {
      "image/png": "[encoded data removed]",
      "text/plain": [
       "<matplotlib.figure.Figure at 0x121fb8810>"
      ]
     },
     "metadata": {},
     "output_type": "display_data"
    }
   ],
   "source": [
    "confusionMatrixPlt(log_pred)"
   ]
  },
  {
   "cell_type": "code",
   "execution_count": 22,
   "metadata": {
    "collapsed": true,
    "nbpresent": {
     "id": "1599d737-9d62-49a7-9dfe-f271ecebd579"
    },
    "slideshow": {
     "slide_type": "subslide"
    }
   },
   "outputs": [
    {
     "name": "stdout",
     "output_type": "stream",
     "text": [
      "             precision    recall  f1-score   support\n",
      "\n",
      "Amazon Launchpad       0.91      0.56      0.69       121\n",
      " Appliances       0.93      0.90      0.92       377\n",
      "Arts, Crafts & Sewing       0.79      0.83      0.81       417\n",
      " Automotive       0.75      0.71      0.73       299\n",
      "       Baby       0.85      0.84      0.84       369\n",
      "     Beauty       0.72      0.78      0.75       196\n",
      "      Books       0.73      0.78      0.75       741\n",
      "Camera & Photo       0.88      0.94      0.91       279\n",
      "Cell Phones & Accessories       0.81      0.95      0.87       175\n",
      "   Clothing       0.81      0.90      0.85       129\n",
      "Collectible Coins       0.95      0.95      0.95        62\n",
      "Computers & Accessories       0.86      0.93      0.89       455\n",
      "Electronics       0.79      0.70      0.74       269\n",
      "Entertainment Collectibles       0.92      0.92      0.92       867\n",
      " Gift Cards       1.00      0.99      0.99       290\n",
      "Grocery & Gourmet Food       0.86      0.94      0.90       748\n",
      "Health & Personal Care       0.70      0.69      0.69       229\n",
      "Home & Kitchen       0.64      0.61      0.63       296\n",
      "Home Improvement       0.56      0.54      0.55       275\n",
      "Industrial & Scientific       0.63      0.69      0.66       568\n",
      "    Jewelry       0.89      0.93      0.91       160\n",
      "Kindle Store       0.73      0.62      0.67       206\n",
      "Kitchen & Dining       0.70      0.76      0.73       282\n",
      "  Magazines       0.64      0.51      0.57       353\n",
      "Movies & TV       0.59      0.66      0.62        90\n",
      "      Music       0.64      0.71      0.67       525\n",
      "Musical Instruments       0.85      0.77      0.81       241\n",
      "Office Products       0.74      0.67      0.70       129\n",
      "Patio, Lawn & Garden       0.75      0.71      0.73       286\n",
      "Pet Supplies       0.82      0.68      0.74       112\n",
      "      Shoes       0.90      0.94      0.92       101\n",
      "   Software       0.87      0.86      0.87       387\n",
      "Sports & Outdoors       0.68      0.37      0.48        51\n",
      "Sports Collectibles       0.92      0.93      0.92       855\n",
      "Toys & Games       0.80      0.72      0.76       530\n",
      "Video Games       0.86      0.79      0.82       272\n",
      "    Watches       0.86      0.90      0.88       128\n",
      "\n",
      "avg / total       0.80      0.80      0.80     11870\n",
      "\n",
      "****************\n",
      "('accuracy:', 0.79915754001684924)\n",
      "****************\n",
      "('average-per-class accuracy:', 0.9891436508117218)\n"
     ]
    }
   ],
   "source": [
    "print classification_report(y_test, log_pred)\n",
    "print \"****************\"\n",
    "print('accuracy:', accuracy(y_test, log_pred))\n",
    "print \"****************\"\n",
    "print('average-per-class accuracy:', macro(y_test, log_pred))"
   ]
  },
  {
   "cell_type": "code",
   "execution_count": 46,
   "metadata": {
    "collapsed": false
   },
   "outputs": [
    {
     "data": {
      "text/plain": [
       "array([ 0.58649693,  0.60789813,  0.57915908])"
      ]
     },
     "execution_count": 46,
     "metadata": {},
     "output_type": "execute_result"
    }
   ],
   "source": [
    "from sklearn.cross_validation import cross_val_score, StratifiedKFold\n",
    "cvscore = cross_val_score(log_pipeline, ADS.title, ADS.Category, cv=3, n_jobs=-1, verbose=3)\n",
    "cvscore"
   ]
  },
  {
   "cell_type": "code",
   "execution_count": 61,
   "metadata": {
    "collapsed": false
   },
   "outputs": [
    {
     "name": "stdout",
     "output_type": "stream",
     "text": [
      "CPU times: user 3min 12s, sys: 19.8 s, total: 3min 32s\n",
      "Wall time: 2min 6s\n",
      "CPU times: user 29.8 s, sys: 510 ms, total: 30.3 s\n",
      "Wall time: 30.1 s\n",
      "CPU times: user 12.8 s, sys: 143 ms, total: 12.9 s\n",
      "Wall time: 13 s\n"
     ]
    }
   ],
   "source": [
    "from sklearn.pipeline import make_pipeline\n",
    "from sklearn.feature_extraction.text import TfidfVectorizer\n",
    "from sklearn.linear_model import LogisticRegression\n",
    "from sklearn.feature_selection import SelectKBest, chi2\n",
    "\n",
    "log_pipeline1 = make_pipeline(StemmedTfidfVectorizer(ngram_range=(1,3), stop_words='english', max_features=None),\n",
    "                             SelectKBest(chi2,10000),\n",
    "                             LogisticRegression(solver='newton-cg', max_iter=50000,class_weight= 'balanced',\n",
    "                                                dual= False, fit_intercept= True, intercept_scaling= 1,\n",
    "                                                multi_class='multinomial',n_jobs=1,penalty='l2', C=100))\n",
    "\n",
    "%time log_pipeline1.fit(text_train,y_train)\n",
    "%time log1 = log_pipeline1.score(text_train,y_train)\n",
    "%time log_pred1=log_pipeline1.predict(text_test)"
   ]
  },
  {
   "cell_type": "code",
   "execution_count": 62,
   "metadata": {
    "collapsed": true
   },
   "outputs": [
    {
     "name": "stdout",
     "output_type": "stream",
     "text": [
      "             precision    recall  f1-score   support\n",
      "\n",
      "Amazon Launchpad       0.50      0.53      0.51       121\n",
      " Appliances       0.90      0.91      0.90       377\n",
      "Arts, Crafts & Sewing       0.74      0.80      0.77       417\n",
      " Automotive       0.59      0.63      0.61       299\n",
      "       Baby       0.76      0.75      0.75       369\n",
      "     Beauty       0.64      0.70      0.67       196\n",
      "      Books       0.76      0.57      0.65       741\n",
      "Camera & Photo       0.85      0.90      0.88       279\n",
      "Cell Phones & Accessories       0.81      0.90      0.85       175\n",
      "   Clothing       0.80      0.89      0.84       129\n",
      "Collectible Coins       0.97      0.94      0.95        62\n",
      "Computers & Accessories       0.83      0.88      0.86       455\n",
      "Electronics       0.71      0.67      0.69       269\n",
      "Entertainment Collectibles       0.91      0.87      0.89       867\n",
      " Gift Cards       1.00      0.98      0.99       290\n",
      "Grocery & Gourmet Food       0.88      0.88      0.88       748\n",
      "Health & Personal Care       0.54      0.62      0.58       229\n",
      "Home & Kitchen       0.53      0.55      0.54       296\n",
      "Home Improvement       0.44      0.49      0.46       275\n",
      "Industrial & Scientific       0.62      0.57      0.59       568\n",
      "    Jewelry       0.82      0.89      0.86       160\n",
      "Kindle Store       0.66      0.61      0.63       206\n",
      "Kitchen & Dining       0.66      0.72      0.69       282\n",
      "  Magazines       0.34      0.70      0.46       353\n",
      "Movies & TV       0.58      0.61      0.59        90\n",
      "      Music       0.59      0.46      0.52       525\n",
      "Musical Instruments       0.72      0.72      0.72       241\n",
      "Office Products       0.59      0.64      0.61       129\n",
      "Patio, Lawn & Garden       0.61      0.58      0.60       286\n",
      "Pet Supplies       0.70      0.60      0.64       112\n",
      "      Shoes       0.96      0.92      0.94       101\n",
      "   Software       0.80      0.83      0.81       387\n",
      "Sports & Outdoors       0.73      0.31      0.44        51\n",
      "Sports Collectibles       0.92      0.83      0.87       855\n",
      "Toys & Games       0.70      0.54      0.61       530\n",
      "Video Games       0.77      0.75      0.76       272\n",
      "    Watches       0.77      0.85      0.81       128\n",
      "\n",
      "avg / total       0.74      0.73      0.73     11870\n",
      "\n",
      "****************\n",
      "('accuracy:', 0.72679022746419542)\n",
      "****************\n",
      "('average-per-class accuracy:', 0.9852319041872538)\n"
     ]
    }
   ],
   "source": [
    "print classification_report(y_test, log_pred1)\n",
    "print \"****************\"\n",
    "print('accuracy:', accuracy(y_test, log_pred1))\n",
    "print \"****************\"\n",
    "print('average-per-class accuracy:', macro(y_test, log_pred1))"
   ]
  },
  {
   "cell_type": "code",
   "execution_count": 37,
   "metadata": {
    "collapsed": true
   },
   "outputs": [
    {
     "name": "stdout",
     "output_type": "stream",
     "text": [
      "[CV] no parameters to be set .........................................\n",
      "[CV] no parameters to be set .........................................\n",
      "[CV] no parameters to be set .........................................\n",
      "[CV] ................ no parameters to be set, score=0.552793 - 2.8min\n",
      "[CV] ................ no parameters to be set, score=0.539010 - 2.9min\n",
      "[CV] ................ no parameters to be set, score=0.522922 - 3.1min\n"
     ]
    },
    {
     "name": "stderr",
     "output_type": "stream",
     "text": [
      "[Parallel(n_jobs=-1)]: Done   3 out of   3 | elapsed:  3.1min finished\n"
     ]
    },
    {
     "data": {
      "text/plain": [
       "array([ 0.52292188,  0.55279315,  0.53901032])"
      ]
     },
     "execution_count": 37,
     "metadata": {},
     "output_type": "execute_result"
    }
   ],
   "source": [
    "from sklearn.cross_validation import cross_val_score, StratifiedKFold\n",
    "cvscore1 = cross_val_score(log_pipeline1, ADS.title, ADS.Category, cv=3, n_jobs=-1, verbose=3)\n",
    "cvscore1"
   ]
  },
  {
   "cell_type": "markdown",
   "metadata": {
    "nbpresent": {
     "id": "664ad45e-f27f-476d-9eb3-d02d632d2041"
    },
    "slideshow": {
     "slide_type": "slide"
    }
   },
   "source": [
    "# Naive Bayes"
   ]
  },
  {
   "cell_type": "code",
   "execution_count": 16,
   "metadata": {
    "collapsed": true,
    "nbpresent": {
     "id": "761f8494-35aa-4f3c-9faf-0ef7494121d0"
    },
    "slideshow": {
     "slide_type": "subslide"
    }
   },
   "outputs": [
    {
     "name": "stdout",
     "output_type": "stream",
     "text": [
      "CPU times: user 22.4 s, sys: 340 ms, total: 22.7 s\n",
      "Wall time: 23 s\n",
      "CPU times: user 20.1 s, sys: 230 ms, total: 20.3 s\n",
      "Wall time: 20.4 s\n",
      "CPU times: user 9.01 s, sys: 113 ms, total: 9.12 s\n",
      "Wall time: 9.2 s\n"
     ]
    }
   ],
   "source": [
    "from sklearn.naive_bayes import MultinomialNB\n",
    "from sklearn.pipeline import make_pipeline\n",
    "from sklearn.feature_extraction.text import TfidfVectorizer\n",
    "\n",
    "nb_pipeline = make_pipeline(StemmedCountVectorizer(ngram_range=(1,2), stop_words='english', max_features=20000),\\\n",
    "                            MultinomialNB())\n",
    "%time nb_pipeline.fit(text_train,y_train)\n",
    "%time nb=nb_pipeline.score(text_train,y_train)\n",
    "%time nb_pred=nb_pipeline.predict(text_test)\n",
    "\n"
   ]
  },
  {
   "cell_type": "code",
   "execution_count": null,
   "metadata": {
    "collapsed": true,
    "nbpresent": {
     "id": "7722af93-e74a-4fb3-a7cb-a07a59cdfe11"
    },
    "slideshow": {
     "slide_type": "subslide"
    }
   },
   "outputs": [],
   "source": [
    "from sklearn.externals import joblib\n",
    "filename = \"./NBmodels.pkl\"\n",
    "joblib.dump(nb_pipeline, filename, compress=9)\n",
    "\n",
    "#sum(x==0 for x in pred - y_test)/len(pred)"
   ]
  },
  {
   "cell_type": "code",
   "execution_count": 218,
   "metadata": {
    "collapsed": true,
    "nbpresent": {
     "id": "c6776fed-067f-43ac-b554-09fc4d18626d"
    },
    "slideshow": {
     "slide_type": "subslide"
    }
   },
   "outputs": [
    {
     "data": {
      "text/html": [
       "<div>\n",
       "<table border=\"1\" class=\"dataframe\">\n",
       "  <thead>\n",
       "    <tr style=\"text-align: right;\">\n",
       "      <th></th>\n",
       "      <th>intercept</th>\n",
       "      <th></th>\n",
       "      <th>a</th>\n",
       "      <th>aa</th>\n",
       "      <th>aaa</th>\n",
       "      <th>aaaaa</th>\n",
       "      <th>aaabatteri</th>\n",
       "      <th>aaaqual</th>\n",
       "      <th>aaarecharg</th>\n",
       "      <th>aabatteri</th>\n",
       "      <th>...</th>\n",
       "      <th>zupreem</th>\n",
       "      <th>zupreemfruit</th>\n",
       "      <th>zus</th>\n",
       "      <th>zw</th>\n",
       "      <th>zwsisu</th>\n",
       "      <th>zx</th>\n",
       "      <th>zxe</th>\n",
       "      <th>zxehigh</th>\n",
       "      <th>zxuy</th>\n",
       "      <th>zz</th>\n",
       "    </tr>\n",
       "  </thead>\n",
       "  <tbody>\n",
       "    <tr>\n",
       "      <th>Amazon Launchpad</th>\n",
       "      <td>-4.583596</td>\n",
       "      <td>-5.663252</td>\n",
       "      <td>-9.343763</td>\n",
       "      <td>-10.442376</td>\n",
       "      <td>-10.442376</td>\n",
       "      <td>-10.442376</td>\n",
       "      <td>-10.442376</td>\n",
       "      <td>-10.442376</td>\n",
       "      <td>-10.442376</td>\n",
       "      <td>-10.442376</td>\n",
       "      <td>...</td>\n",
       "      <td>-10.442376</td>\n",
       "      <td>-10.442376</td>\n",
       "      <td>-9.343763</td>\n",
       "      <td>-10.442376</td>\n",
       "      <td>-10.442376</td>\n",
       "      <td>-10.442376</td>\n",
       "      <td>-10.442376</td>\n",
       "      <td>-10.442376</td>\n",
       "      <td>-10.442376</td>\n",
       "      <td>-10.442376</td>\n",
       "    </tr>\n",
       "    <tr>\n",
       "      <th>Appliances</th>\n",
       "      <td>-3.450258</td>\n",
       "      <td>-3.847097</td>\n",
       "      <td>-8.444235</td>\n",
       "      <td>-10.053673</td>\n",
       "      <td>-10.746820</td>\n",
       "      <td>-10.746820</td>\n",
       "      <td>-10.746820</td>\n",
       "      <td>-10.746820</td>\n",
       "      <td>-10.746820</td>\n",
       "      <td>-10.746820</td>\n",
       "      <td>...</td>\n",
       "      <td>-10.746820</td>\n",
       "      <td>-10.746820</td>\n",
       "      <td>-10.746820</td>\n",
       "      <td>-10.746820</td>\n",
       "      <td>-10.746820</td>\n",
       "      <td>-10.746820</td>\n",
       "      <td>-10.746820</td>\n",
       "      <td>-10.746820</td>\n",
       "      <td>-10.746820</td>\n",
       "      <td>-10.746820</td>\n",
       "    </tr>\n",
       "    <tr>\n",
       "      <th>Arts, Crafts &amp; Sewing</th>\n",
       "      <td>-3.349687</td>\n",
       "      <td>-3.828641</td>\n",
       "      <td>-8.623398</td>\n",
       "      <td>-10.702840</td>\n",
       "      <td>-10.702840</td>\n",
       "      <td>-10.702840</td>\n",
       "      <td>-10.702840</td>\n",
       "      <td>-10.702840</td>\n",
       "      <td>-10.702840</td>\n",
       "      <td>-10.702840</td>\n",
       "      <td>...</td>\n",
       "      <td>-10.702840</td>\n",
       "      <td>-10.702840</td>\n",
       "      <td>-10.702840</td>\n",
       "      <td>-10.702840</td>\n",
       "      <td>-10.702840</td>\n",
       "      <td>-10.702840</td>\n",
       "      <td>-10.702840</td>\n",
       "      <td>-10.702840</td>\n",
       "      <td>-9.316546</td>\n",
       "      <td>-10.702840</td>\n",
       "    </tr>\n",
       "    <tr>\n",
       "      <th>Automotive</th>\n",
       "      <td>-3.679393</td>\n",
       "      <td>-3.855223</td>\n",
       "      <td>-7.332466</td>\n",
       "      <td>-10.628303</td>\n",
       "      <td>-8.682393</td>\n",
       "      <td>-10.628303</td>\n",
       "      <td>-10.628303</td>\n",
       "      <td>-10.628303</td>\n",
       "      <td>-10.628303</td>\n",
       "      <td>-10.628303</td>\n",
       "      <td>...</td>\n",
       "      <td>-10.628303</td>\n",
       "      <td>-10.628303</td>\n",
       "      <td>-10.628303</td>\n",
       "      <td>-9.935156</td>\n",
       "      <td>-10.628303</td>\n",
       "      <td>-10.628303</td>\n",
       "      <td>-9.529691</td>\n",
       "      <td>-9.529691</td>\n",
       "      <td>-10.628303</td>\n",
       "      <td>-10.628303</td>\n",
       "    </tr>\n",
       "    <tr>\n",
       "      <th>Baby</th>\n",
       "      <td>-3.469788</td>\n",
       "      <td>-4.725784</td>\n",
       "      <td>-8.693377</td>\n",
       "      <td>-10.639287</td>\n",
       "      <td>-10.639287</td>\n",
       "      <td>-10.639287</td>\n",
       "      <td>-10.639287</td>\n",
       "      <td>-10.639287</td>\n",
       "      <td>-10.639287</td>\n",
       "      <td>-10.639287</td>\n",
       "      <td>...</td>\n",
       "      <td>-10.639287</td>\n",
       "      <td>-10.639287</td>\n",
       "      <td>-10.639287</td>\n",
       "      <td>-10.639287</td>\n",
       "      <td>-10.639287</td>\n",
       "      <td>-10.639287</td>\n",
       "      <td>-10.639287</td>\n",
       "      <td>-10.639287</td>\n",
       "      <td>-10.639287</td>\n",
       "      <td>-10.639287</td>\n",
       "    </tr>\n",
       "    <tr>\n",
       "      <th>Beauty</th>\n",
       "      <td>-4.102174</td>\n",
       "      <td>-5.004079</td>\n",
       "      <td>-10.537468</td>\n",
       "      <td>-10.537468</td>\n",
       "      <td>-9.844321</td>\n",
       "      <td>-10.537468</td>\n",
       "      <td>-10.537468</td>\n",
       "      <td>-10.537468</td>\n",
       "      <td>-10.537468</td>\n",
       "      <td>-10.537468</td>\n",
       "      <td>...</td>\n",
       "      <td>-10.537468</td>\n",
       "      <td>-10.537468</td>\n",
       "      <td>-10.537468</td>\n",
       "      <td>-10.537468</td>\n",
       "      <td>-10.537468</td>\n",
       "      <td>-10.537468</td>\n",
       "      <td>-10.537468</td>\n",
       "      <td>-10.537468</td>\n",
       "      <td>-10.537468</td>\n",
       "      <td>-10.537468</td>\n",
       "    </tr>\n",
       "    <tr>\n",
       "      <th>Books</th>\n",
       "      <td>-2.773167</td>\n",
       "      <td>-4.930567</td>\n",
       "      <td>-9.973993</td>\n",
       "      <td>-10.667140</td>\n",
       "      <td>-10.667140</td>\n",
       "      <td>-10.667140</td>\n",
       "      <td>-10.667140</td>\n",
       "      <td>-10.667140</td>\n",
       "      <td>-10.667140</td>\n",
       "      <td>-10.667140</td>\n",
       "      <td>...</td>\n",
       "      <td>-10.667140</td>\n",
       "      <td>-10.667140</td>\n",
       "      <td>-10.667140</td>\n",
       "      <td>-10.667140</td>\n",
       "      <td>-10.667140</td>\n",
       "      <td>-10.667140</td>\n",
       "      <td>-10.667140</td>\n",
       "      <td>-10.667140</td>\n",
       "      <td>-10.667140</td>\n",
       "      <td>-10.667140</td>\n",
       "    </tr>\n",
       "    <tr>\n",
       "      <th>Camera &amp; Photo</th>\n",
       "      <td>-3.750534</td>\n",
       "      <td>-4.730051</td>\n",
       "      <td>-8.603852</td>\n",
       "      <td>-8.891534</td>\n",
       "      <td>-9.073856</td>\n",
       "      <td>-9.990147</td>\n",
       "      <td>-10.683294</td>\n",
       "      <td>-10.683294</td>\n",
       "      <td>-9.584682</td>\n",
       "      <td>-9.990147</td>\n",
       "      <td>...</td>\n",
       "      <td>-10.683294</td>\n",
       "      <td>-10.683294</td>\n",
       "      <td>-10.683294</td>\n",
       "      <td>-10.683294</td>\n",
       "      <td>-10.683294</td>\n",
       "      <td>-10.683294</td>\n",
       "      <td>-10.683294</td>\n",
       "      <td>-10.683294</td>\n",
       "      <td>-10.683294</td>\n",
       "      <td>-10.683294</td>\n",
       "    </tr>\n",
       "    <tr>\n",
       "      <th>Cell Phones &amp; Accessories</th>\n",
       "      <td>-4.215328</td>\n",
       "      <td>-5.632885</td>\n",
       "      <td>-8.606956</td>\n",
       "      <td>-10.552866</td>\n",
       "      <td>-10.552866</td>\n",
       "      <td>-10.552866</td>\n",
       "      <td>-10.552866</td>\n",
       "      <td>-10.552866</td>\n",
       "      <td>-10.552866</td>\n",
       "      <td>-10.552866</td>\n",
       "      <td>...</td>\n",
       "      <td>-10.552866</td>\n",
       "      <td>-10.552866</td>\n",
       "      <td>-10.552866</td>\n",
       "      <td>-10.552866</td>\n",
       "      <td>-10.552866</td>\n",
       "      <td>-10.552866</td>\n",
       "      <td>-10.552866</td>\n",
       "      <td>-10.552866</td>\n",
       "      <td>-10.552866</td>\n",
       "      <td>-10.552866</td>\n",
       "    </tr>\n",
       "    <tr>\n",
       "      <th>Clothing</th>\n",
       "      <td>-4.525261</td>\n",
       "      <td>-6.452474</td>\n",
       "      <td>-10.403717</td>\n",
       "      <td>-10.403717</td>\n",
       "      <td>-10.403717</td>\n",
       "      <td>-10.403717</td>\n",
       "      <td>-10.403717</td>\n",
       "      <td>-10.403717</td>\n",
       "      <td>-10.403717</td>\n",
       "      <td>-10.403717</td>\n",
       "      <td>...</td>\n",
       "      <td>-10.403717</td>\n",
       "      <td>-10.403717</td>\n",
       "      <td>-10.403717</td>\n",
       "      <td>-10.403717</td>\n",
       "      <td>-10.403717</td>\n",
       "      <td>-10.403717</td>\n",
       "      <td>-10.403717</td>\n",
       "      <td>-10.403717</td>\n",
       "      <td>-10.403717</td>\n",
       "      <td>-10.403717</td>\n",
       "    </tr>\n",
       "    <tr>\n",
       "      <th>Collectible Coins</th>\n",
       "      <td>-5.252310</td>\n",
       "      <td>-5.039490</td>\n",
       "      <td>-10.372209</td>\n",
       "      <td>-10.372209</td>\n",
       "      <td>-10.372209</td>\n",
       "      <td>-10.372209</td>\n",
       "      <td>-10.372209</td>\n",
       "      <td>-10.372209</td>\n",
       "      <td>-10.372209</td>\n",
       "      <td>-10.372209</td>\n",
       "      <td>...</td>\n",
       "      <td>-10.372209</td>\n",
       "      <td>-10.372209</td>\n",
       "      <td>-10.372209</td>\n",
       "      <td>-10.372209</td>\n",
       "      <td>-10.372209</td>\n",
       "      <td>-10.372209</td>\n",
       "      <td>-10.372209</td>\n",
       "      <td>-10.372209</td>\n",
       "      <td>-10.372209</td>\n",
       "      <td>-10.372209</td>\n",
       "    </tr>\n",
       "    <tr>\n",
       "      <th>Computers &amp; Accessories</th>\n",
       "      <td>-3.260193</td>\n",
       "      <td>-3.875438</td>\n",
       "      <td>-6.652545</td>\n",
       "      <td>-7.842129</td>\n",
       "      <td>-10.886652</td>\n",
       "      <td>-10.886652</td>\n",
       "      <td>-10.886652</td>\n",
       "      <td>-10.886652</td>\n",
       "      <td>-10.886652</td>\n",
       "      <td>-10.886652</td>\n",
       "      <td>...</td>\n",
       "      <td>-10.886652</td>\n",
       "      <td>-10.886652</td>\n",
       "      <td>-10.886652</td>\n",
       "      <td>-10.886652</td>\n",
       "      <td>-10.886652</td>\n",
       "      <td>-10.886652</td>\n",
       "      <td>-10.886652</td>\n",
       "      <td>-10.886652</td>\n",
       "      <td>-10.886652</td>\n",
       "      <td>-10.886652</td>\n",
       "    </tr>\n",
       "    <tr>\n",
       "      <th>Electronics</th>\n",
       "      <td>-3.784912</td>\n",
       "      <td>-4.355283</td>\n",
       "      <td>-8.667041</td>\n",
       "      <td>-8.821191</td>\n",
       "      <td>-9.514339</td>\n",
       "      <td>-9.919804</td>\n",
       "      <td>-9.514339</td>\n",
       "      <td>-10.612951</td>\n",
       "      <td>-10.612951</td>\n",
       "      <td>-10.612951</td>\n",
       "      <td>...</td>\n",
       "      <td>-10.612951</td>\n",
       "      <td>-10.612951</td>\n",
       "      <td>-10.612951</td>\n",
       "      <td>-9.919804</td>\n",
       "      <td>-10.612951</td>\n",
       "      <td>-9.919804</td>\n",
       "      <td>-10.612951</td>\n",
       "      <td>-10.612951</td>\n",
       "      <td>-10.612951</td>\n",
       "      <td>-10.612951</td>\n",
       "    </tr>\n",
       "    <tr>\n",
       "      <th>Entertainment Collectibles</th>\n",
       "      <td>-2.616706</td>\n",
       "      <td>-3.791574</td>\n",
       "      <td>-9.856134</td>\n",
       "      <td>-10.261599</td>\n",
       "      <td>-8.246696</td>\n",
       "      <td>-10.954746</td>\n",
       "      <td>-10.954746</td>\n",
       "      <td>-10.954746</td>\n",
       "      <td>-10.954746</td>\n",
       "      <td>-10.954746</td>\n",
       "      <td>...</td>\n",
       "      <td>-10.954746</td>\n",
       "      <td>-10.954746</td>\n",
       "      <td>-10.954746</td>\n",
       "      <td>-10.954746</td>\n",
       "      <td>-10.954746</td>\n",
       "      <td>-10.954746</td>\n",
       "      <td>-10.954746</td>\n",
       "      <td>-10.954746</td>\n",
       "      <td>-10.954746</td>\n",
       "      <td>-10.954746</td>\n",
       "    </tr>\n",
       "    <tr>\n",
       "      <th>Gift Cards</th>\n",
       "      <td>-3.709896</td>\n",
       "      <td>-6.366731</td>\n",
       "      <td>-10.556385</td>\n",
       "      <td>-10.556385</td>\n",
       "      <td>-10.556385</td>\n",
       "      <td>-10.556385</td>\n",
       "      <td>-10.556385</td>\n",
       "      <td>-10.556385</td>\n",
       "      <td>-10.556385</td>\n",
       "      <td>-10.556385</td>\n",
       "      <td>...</td>\n",
       "      <td>-10.556385</td>\n",
       "      <td>-10.556385</td>\n",
       "      <td>-10.556385</td>\n",
       "      <td>-10.556385</td>\n",
       "      <td>-10.556385</td>\n",
       "      <td>-10.556385</td>\n",
       "      <td>-10.556385</td>\n",
       "      <td>-10.556385</td>\n",
       "      <td>-10.556385</td>\n",
       "      <td>-10.556385</td>\n",
       "    </tr>\n",
       "    <tr>\n",
       "      <th>Grocery &amp; Gourmet Food</th>\n",
       "      <td>-2.765107</td>\n",
       "      <td>-3.590039</td>\n",
       "      <td>-10.867978</td>\n",
       "      <td>-9.481683</td>\n",
       "      <td>-10.867978</td>\n",
       "      <td>-10.867978</td>\n",
       "      <td>-10.867978</td>\n",
       "      <td>-10.867978</td>\n",
       "      <td>-10.867978</td>\n",
       "      <td>-10.867978</td>\n",
       "      <td>...</td>\n",
       "      <td>-10.867978</td>\n",
       "      <td>-10.867978</td>\n",
       "      <td>-10.867978</td>\n",
       "      <td>-10.867978</td>\n",
       "      <td>-10.867978</td>\n",
       "      <td>-10.867978</td>\n",
       "      <td>-10.867978</td>\n",
       "      <td>-10.867978</td>\n",
       "      <td>-10.867978</td>\n",
       "      <td>-10.867978</td>\n",
       "    </tr>\n",
       "    <tr>\n",
       "      <th>Health &amp; Personal Care</th>\n",
       "      <td>-3.950522</td>\n",
       "      <td>-4.479894</td>\n",
       "      <td>-8.763480</td>\n",
       "      <td>-9.168945</td>\n",
       "      <td>-9.862092</td>\n",
       "      <td>-10.555240</td>\n",
       "      <td>-9.862092</td>\n",
       "      <td>-10.555240</td>\n",
       "      <td>-10.555240</td>\n",
       "      <td>-10.555240</td>\n",
       "      <td>...</td>\n",
       "      <td>-10.555240</td>\n",
       "      <td>-10.555240</td>\n",
       "      <td>-10.555240</td>\n",
       "      <td>-10.555240</td>\n",
       "      <td>-10.555240</td>\n",
       "      <td>-10.555240</td>\n",
       "      <td>-10.555240</td>\n",
       "      <td>-10.555240</td>\n",
       "      <td>-10.555240</td>\n",
       "      <td>-10.555240</td>\n",
       "    </tr>\n",
       "    <tr>\n",
       "      <th>Home &amp; Kitchen</th>\n",
       "      <td>-3.690903</td>\n",
       "      <td>-4.103553</td>\n",
       "      <td>-8.255309</td>\n",
       "      <td>-9.960057</td>\n",
       "      <td>-10.653204</td>\n",
       "      <td>-10.653204</td>\n",
       "      <td>-10.653204</td>\n",
       "      <td>-10.653204</td>\n",
       "      <td>-10.653204</td>\n",
       "      <td>-9.960057</td>\n",
       "      <td>...</td>\n",
       "      <td>-10.653204</td>\n",
       "      <td>-10.653204</td>\n",
       "      <td>-10.653204</td>\n",
       "      <td>-10.653204</td>\n",
       "      <td>-10.653204</td>\n",
       "      <td>-10.653204</td>\n",
       "      <td>-10.653204</td>\n",
       "      <td>-10.653204</td>\n",
       "      <td>-10.653204</td>\n",
       "      <td>-10.653204</td>\n",
       "    </tr>\n",
       "    <tr>\n",
       "      <th>Home Improvement</th>\n",
       "      <td>-3.762899</td>\n",
       "      <td>-4.149343</td>\n",
       "      <td>-7.332193</td>\n",
       "      <td>-9.491677</td>\n",
       "      <td>-9.203995</td>\n",
       "      <td>-10.590290</td>\n",
       "      <td>-9.491677</td>\n",
       "      <td>-10.590290</td>\n",
       "      <td>-10.590290</td>\n",
       "      <td>-9.491677</td>\n",
       "      <td>...</td>\n",
       "      <td>-10.590290</td>\n",
       "      <td>-10.590290</td>\n",
       "      <td>-10.590290</td>\n",
       "      <td>-10.590290</td>\n",
       "      <td>-10.590290</td>\n",
       "      <td>-10.590290</td>\n",
       "      <td>-10.590290</td>\n",
       "      <td>-10.590290</td>\n",
       "      <td>-10.590290</td>\n",
       "      <td>-10.590290</td>\n",
       "    </tr>\n",
       "    <tr>\n",
       "      <th>Industrial &amp; Scientific</th>\n",
       "      <td>-3.040631</td>\n",
       "      <td>-3.349165</td>\n",
       "      <td>-7.459492</td>\n",
       "      <td>-10.860690</td>\n",
       "      <td>-10.860690</td>\n",
       "      <td>-10.860690</td>\n",
       "      <td>-10.860690</td>\n",
       "      <td>-10.860690</td>\n",
       "      <td>-10.860690</td>\n",
       "      <td>-10.860690</td>\n",
       "      <td>...</td>\n",
       "      <td>-10.860690</td>\n",
       "      <td>-10.860690</td>\n",
       "      <td>-10.860690</td>\n",
       "      <td>-10.860690</td>\n",
       "      <td>-10.860690</td>\n",
       "      <td>-10.860690</td>\n",
       "      <td>-10.860690</td>\n",
       "      <td>-10.860690</td>\n",
       "      <td>-10.860690</td>\n",
       "      <td>-9.474396</td>\n",
       "    </tr>\n",
       "    <tr>\n",
       "      <th>Jewelry</th>\n",
       "      <td>-4.307465</td>\n",
       "      <td>-5.209096</td>\n",
       "      <td>-10.487210</td>\n",
       "      <td>-10.487210</td>\n",
       "      <td>-9.388598</td>\n",
       "      <td>-10.487210</td>\n",
       "      <td>-10.487210</td>\n",
       "      <td>-9.388598</td>\n",
       "      <td>-10.487210</td>\n",
       "      <td>-10.487210</td>\n",
       "      <td>...</td>\n",
       "      <td>-10.487210</td>\n",
       "      <td>-10.487210</td>\n",
       "      <td>-10.487210</td>\n",
       "      <td>-10.487210</td>\n",
       "      <td>-10.487210</td>\n",
       "      <td>-10.487210</td>\n",
       "      <td>-10.487210</td>\n",
       "      <td>-10.487210</td>\n",
       "      <td>-10.487210</td>\n",
       "      <td>-10.487210</td>\n",
       "    </tr>\n",
       "    <tr>\n",
       "      <th>Kindle Store</th>\n",
       "      <td>-4.055257</td>\n",
       "      <td>-5.809383</td>\n",
       "      <td>-10.453774</td>\n",
       "      <td>-10.453774</td>\n",
       "      <td>-10.453774</td>\n",
       "      <td>-10.453774</td>\n",
       "      <td>-10.453774</td>\n",
       "      <td>-10.453774</td>\n",
       "      <td>-10.453774</td>\n",
       "      <td>-10.453774</td>\n",
       "      <td>...</td>\n",
       "      <td>-10.453774</td>\n",
       "      <td>-10.453774</td>\n",
       "      <td>-10.453774</td>\n",
       "      <td>-10.453774</td>\n",
       "      <td>-10.453774</td>\n",
       "      <td>-10.453774</td>\n",
       "      <td>-10.453774</td>\n",
       "      <td>-10.453774</td>\n",
       "      <td>-10.453774</td>\n",
       "      <td>-10.453774</td>\n",
       "    </tr>\n",
       "    <tr>\n",
       "      <th>Kitchen &amp; Dining</th>\n",
       "      <td>-3.741359</td>\n",
       "      <td>-4.457924</td>\n",
       "      <td>-8.295224</td>\n",
       "      <td>-9.904662</td>\n",
       "      <td>-10.597809</td>\n",
       "      <td>-10.597809</td>\n",
       "      <td>-10.597809</td>\n",
       "      <td>-10.597809</td>\n",
       "      <td>-10.597809</td>\n",
       "      <td>-9.904662</td>\n",
       "      <td>...</td>\n",
       "      <td>-10.597809</td>\n",
       "      <td>-10.597809</td>\n",
       "      <td>-10.597809</td>\n",
       "      <td>-10.597809</td>\n",
       "      <td>-10.597809</td>\n",
       "      <td>-10.597809</td>\n",
       "      <td>-10.597809</td>\n",
       "      <td>-10.597809</td>\n",
       "      <td>-10.597809</td>\n",
       "      <td>-10.597809</td>\n",
       "    </tr>\n",
       "    <tr>\n",
       "      <th>Magazines</th>\n",
       "      <td>-3.516087</td>\n",
       "      <td>-9.272564</td>\n",
       "      <td>-10.371176</td>\n",
       "      <td>-10.371176</td>\n",
       "      <td>-10.371176</td>\n",
       "      <td>-10.371176</td>\n",
       "      <td>-10.371176</td>\n",
       "      <td>-10.371176</td>\n",
       "      <td>-10.371176</td>\n",
       "      <td>-10.371176</td>\n",
       "      <td>...</td>\n",
       "      <td>-10.371176</td>\n",
       "      <td>-10.371176</td>\n",
       "      <td>-10.371176</td>\n",
       "      <td>-10.371176</td>\n",
       "      <td>-10.371176</td>\n",
       "      <td>-10.371176</td>\n",
       "      <td>-10.371176</td>\n",
       "      <td>-10.371176</td>\n",
       "      <td>-10.371176</td>\n",
       "      <td>-10.371176</td>\n",
       "    </tr>\n",
       "    <tr>\n",
       "      <th>Movies &amp; TV</th>\n",
       "      <td>-4.881936</td>\n",
       "      <td>-7.698321</td>\n",
       "      <td>-10.337378</td>\n",
       "      <td>-10.337378</td>\n",
       "      <td>-10.337378</td>\n",
       "      <td>-10.337378</td>\n",
       "      <td>-10.337378</td>\n",
       "      <td>-10.337378</td>\n",
       "      <td>-10.337378</td>\n",
       "      <td>-10.337378</td>\n",
       "      <td>...</td>\n",
       "      <td>-10.337378</td>\n",
       "      <td>-10.337378</td>\n",
       "      <td>-10.337378</td>\n",
       "      <td>-10.337378</td>\n",
       "      <td>-10.337378</td>\n",
       "      <td>-10.337378</td>\n",
       "      <td>-10.337378</td>\n",
       "      <td>-10.337378</td>\n",
       "      <td>-10.337378</td>\n",
       "      <td>-10.337378</td>\n",
       "    </tr>\n",
       "    <tr>\n",
       "      <th>Music</th>\n",
       "      <td>-3.118347</td>\n",
       "      <td>-5.665569</td>\n",
       "      <td>-10.427743</td>\n",
       "      <td>-10.427743</td>\n",
       "      <td>-10.427743</td>\n",
       "      <td>-10.427743</td>\n",
       "      <td>-10.427743</td>\n",
       "      <td>-10.427743</td>\n",
       "      <td>-10.427743</td>\n",
       "      <td>-10.427743</td>\n",
       "      <td>...</td>\n",
       "      <td>-10.427743</td>\n",
       "      <td>-10.427743</td>\n",
       "      <td>-10.427743</td>\n",
       "      <td>-10.427743</td>\n",
       "      <td>-10.427743</td>\n",
       "      <td>-10.427743</td>\n",
       "      <td>-10.427743</td>\n",
       "      <td>-10.427743</td>\n",
       "      <td>-10.427743</td>\n",
       "      <td>-10.427743</td>\n",
       "    </tr>\n",
       "    <tr>\n",
       "      <th>Musical Instruments</th>\n",
       "      <td>-3.897541</td>\n",
       "      <td>-5.274629</td>\n",
       "      <td>-10.427920</td>\n",
       "      <td>-10.427920</td>\n",
       "      <td>-10.427920</td>\n",
       "      <td>-10.427920</td>\n",
       "      <td>-10.427920</td>\n",
       "      <td>-10.427920</td>\n",
       "      <td>-10.427920</td>\n",
       "      <td>-10.427920</td>\n",
       "      <td>...</td>\n",
       "      <td>-10.427920</td>\n",
       "      <td>-10.427920</td>\n",
       "      <td>-10.427920</td>\n",
       "      <td>-10.427920</td>\n",
       "      <td>-10.427920</td>\n",
       "      <td>-10.427920</td>\n",
       "      <td>-10.427920</td>\n",
       "      <td>-10.427920</td>\n",
       "      <td>-10.427920</td>\n",
       "      <td>-10.427920</td>\n",
       "    </tr>\n",
       "    <tr>\n",
       "      <th>Office Products</th>\n",
       "      <td>-4.518616</td>\n",
       "      <td>-5.329182</td>\n",
       "      <td>-8.992744</td>\n",
       "      <td>-10.379038</td>\n",
       "      <td>-10.379038</td>\n",
       "      <td>-10.379038</td>\n",
       "      <td>-10.379038</td>\n",
       "      <td>-10.379038</td>\n",
       "      <td>-10.379038</td>\n",
       "      <td>-10.379038</td>\n",
       "      <td>...</td>\n",
       "      <td>-10.379038</td>\n",
       "      <td>-10.379038</td>\n",
       "      <td>-10.379038</td>\n",
       "      <td>-10.379038</td>\n",
       "      <td>-10.379038</td>\n",
       "      <td>-10.379038</td>\n",
       "      <td>-10.379038</td>\n",
       "      <td>-10.379038</td>\n",
       "      <td>-10.379038</td>\n",
       "      <td>-10.379038</td>\n",
       "    </tr>\n",
       "    <tr>\n",
       "      <th>Patio, Lawn &amp; Garden</th>\n",
       "      <td>-3.724755</td>\n",
       "      <td>-4.406977</td>\n",
       "      <td>-7.974160</td>\n",
       "      <td>-10.459067</td>\n",
       "      <td>-10.459067</td>\n",
       "      <td>-10.459067</td>\n",
       "      <td>-10.459067</td>\n",
       "      <td>-10.459067</td>\n",
       "      <td>-10.459067</td>\n",
       "      <td>-10.459067</td>\n",
       "      <td>...</td>\n",
       "      <td>-10.459067</td>\n",
       "      <td>-10.459067</td>\n",
       "      <td>-10.459067</td>\n",
       "      <td>-10.459067</td>\n",
       "      <td>-10.459067</td>\n",
       "      <td>-10.459067</td>\n",
       "      <td>-10.459067</td>\n",
       "      <td>-10.459067</td>\n",
       "      <td>-10.459067</td>\n",
       "      <td>-10.459067</td>\n",
       "    </tr>\n",
       "    <tr>\n",
       "      <th>Pet Supplies</th>\n",
       "      <td>-4.660699</td>\n",
       "      <td>-6.009695</td>\n",
       "      <td>-10.366404</td>\n",
       "      <td>-10.366404</td>\n",
       "      <td>-10.366404</td>\n",
       "      <td>-10.366404</td>\n",
       "      <td>-10.366404</td>\n",
       "      <td>-10.366404</td>\n",
       "      <td>-10.366404</td>\n",
       "      <td>-10.366404</td>\n",
       "      <td>...</td>\n",
       "      <td>-8.286962</td>\n",
       "      <td>-9.267791</td>\n",
       "      <td>-10.366404</td>\n",
       "      <td>-10.366404</td>\n",
       "      <td>-10.366404</td>\n",
       "      <td>-10.366404</td>\n",
       "      <td>-10.366404</td>\n",
       "      <td>-10.366404</td>\n",
       "      <td>-10.366404</td>\n",
       "      <td>-10.366404</td>\n",
       "    </tr>\n",
       "    <tr>\n",
       "      <th>Shoes</th>\n",
       "      <td>-4.769458</td>\n",
       "      <td>-7.022622</td>\n",
       "      <td>-10.389918</td>\n",
       "      <td>-10.389918</td>\n",
       "      <td>-10.389918</td>\n",
       "      <td>-10.389918</td>\n",
       "      <td>-10.389918</td>\n",
       "      <td>-10.389918</td>\n",
       "      <td>-10.389918</td>\n",
       "      <td>-10.389918</td>\n",
       "      <td>...</td>\n",
       "      <td>-10.389918</td>\n",
       "      <td>-10.389918</td>\n",
       "      <td>-10.389918</td>\n",
       "      <td>-10.389918</td>\n",
       "      <td>-10.389918</td>\n",
       "      <td>-10.389918</td>\n",
       "      <td>-10.389918</td>\n",
       "      <td>-10.389918</td>\n",
       "      <td>-10.389918</td>\n",
       "      <td>-10.389918</td>\n",
       "    </tr>\n",
       "    <tr>\n",
       "      <th>Software</th>\n",
       "      <td>-3.424429</td>\n",
       "      <td>-4.065775</td>\n",
       "      <td>-9.030017</td>\n",
       "      <td>-10.639455</td>\n",
       "      <td>-10.639455</td>\n",
       "      <td>-10.639455</td>\n",
       "      <td>-10.639455</td>\n",
       "      <td>-10.639455</td>\n",
       "      <td>-10.639455</td>\n",
       "      <td>-10.639455</td>\n",
       "      <td>...</td>\n",
       "      <td>-10.639455</td>\n",
       "      <td>-10.639455</td>\n",
       "      <td>-10.639455</td>\n",
       "      <td>-10.639455</td>\n",
       "      <td>-10.639455</td>\n",
       "      <td>-9.946308</td>\n",
       "      <td>-10.639455</td>\n",
       "      <td>-10.639455</td>\n",
       "      <td>-10.639455</td>\n",
       "      <td>-10.639455</td>\n",
       "    </tr>\n",
       "    <tr>\n",
       "      <th>Sports &amp; Outdoors</th>\n",
       "      <td>-5.449920</td>\n",
       "      <td>-6.338436</td>\n",
       "      <td>-9.265176</td>\n",
       "      <td>-10.363788</td>\n",
       "      <td>-10.363788</td>\n",
       "      <td>-10.363788</td>\n",
       "      <td>-10.363788</td>\n",
       "      <td>-10.363788</td>\n",
       "      <td>-10.363788</td>\n",
       "      <td>-10.363788</td>\n",
       "      <td>...</td>\n",
       "      <td>-10.363788</td>\n",
       "      <td>-10.363788</td>\n",
       "      <td>-10.363788</td>\n",
       "      <td>-10.363788</td>\n",
       "      <td>-10.363788</td>\n",
       "      <td>-10.363788</td>\n",
       "      <td>-10.363788</td>\n",
       "      <td>-10.363788</td>\n",
       "      <td>-10.363788</td>\n",
       "      <td>-10.363788</td>\n",
       "    </tr>\n",
       "    <tr>\n",
       "      <th>Sports Collectibles</th>\n",
       "      <td>-2.630644</td>\n",
       "      <td>-3.840401</td>\n",
       "      <td>-10.721813</td>\n",
       "      <td>-10.721813</td>\n",
       "      <td>-10.721813</td>\n",
       "      <td>-10.721813</td>\n",
       "      <td>-10.721813</td>\n",
       "      <td>-10.721813</td>\n",
       "      <td>-10.721813</td>\n",
       "      <td>-10.721813</td>\n",
       "      <td>...</td>\n",
       "      <td>-10.721813</td>\n",
       "      <td>-10.721813</td>\n",
       "      <td>-10.721813</td>\n",
       "      <td>-10.721813</td>\n",
       "      <td>-10.721813</td>\n",
       "      <td>-10.721813</td>\n",
       "      <td>-10.721813</td>\n",
       "      <td>-10.721813</td>\n",
       "      <td>-10.721813</td>\n",
       "      <td>-10.721813</td>\n",
       "    </tr>\n",
       "    <tr>\n",
       "      <th>Toys &amp; Games</th>\n",
       "      <td>-3.109408</td>\n",
       "      <td>-4.935056</td>\n",
       "      <td>-8.749098</td>\n",
       "      <td>-10.540858</td>\n",
       "      <td>-10.540858</td>\n",
       "      <td>-10.540858</td>\n",
       "      <td>-10.540858</td>\n",
       "      <td>-10.540858</td>\n",
       "      <td>-10.540858</td>\n",
       "      <td>-10.540858</td>\n",
       "      <td>...</td>\n",
       "      <td>-10.540858</td>\n",
       "      <td>-10.540858</td>\n",
       "      <td>-10.540858</td>\n",
       "      <td>-10.540858</td>\n",
       "      <td>-9.442245</td>\n",
       "      <td>-10.540858</td>\n",
       "      <td>-10.540858</td>\n",
       "      <td>-10.540858</td>\n",
       "      <td>-10.540858</td>\n",
       "      <td>-10.540858</td>\n",
       "    </tr>\n",
       "    <tr>\n",
       "      <th>Video Games</th>\n",
       "      <td>-3.776994</td>\n",
       "      <td>-5.488850</td>\n",
       "      <td>-9.051315</td>\n",
       "      <td>-10.437610</td>\n",
       "      <td>-10.437610</td>\n",
       "      <td>-10.437610</td>\n",
       "      <td>-10.437610</td>\n",
       "      <td>-10.437610</td>\n",
       "      <td>-10.437610</td>\n",
       "      <td>-10.437610</td>\n",
       "      <td>...</td>\n",
       "      <td>-10.437610</td>\n",
       "      <td>-10.437610</td>\n",
       "      <td>-10.437610</td>\n",
       "      <td>-10.437610</td>\n",
       "      <td>-10.437610</td>\n",
       "      <td>-10.437610</td>\n",
       "      <td>-10.437610</td>\n",
       "      <td>-10.437610</td>\n",
       "      <td>-10.437610</td>\n",
       "      <td>-10.437610</td>\n",
       "    </tr>\n",
       "    <tr>\n",
       "      <th>Watches</th>\n",
       "      <td>-4.535311</td>\n",
       "      <td>-6.091093</td>\n",
       "      <td>-8.078967</td>\n",
       "      <td>-10.381552</td>\n",
       "      <td>-10.381552</td>\n",
       "      <td>-10.381552</td>\n",
       "      <td>-10.381552</td>\n",
       "      <td>-10.381552</td>\n",
       "      <td>-10.381552</td>\n",
       "      <td>-10.381552</td>\n",
       "      <td>...</td>\n",
       "      <td>-10.381552</td>\n",
       "      <td>-10.381552</td>\n",
       "      <td>-10.381552</td>\n",
       "      <td>-10.381552</td>\n",
       "      <td>-10.381552</td>\n",
       "      <td>-10.381552</td>\n",
       "      <td>-10.381552</td>\n",
       "      <td>-10.381552</td>\n",
       "      <td>-10.381552</td>\n",
       "      <td>-10.381552</td>\n",
       "    </tr>\n",
       "  </tbody>\n",
       "</table>\n",
       "<p>37 rows × 30001 columns</p>\n",
       "</div>"
      ],
      "text/plain": [
       "                            intercept                    a         aa  \\\n",
       "Amazon Launchpad            -4.583596 -5.663252  -9.343763 -10.442376   \n",
       "Appliances                  -3.450258 -3.847097  -8.444235 -10.053673   \n",
       "Arts, Crafts & Sewing       -3.349687 -3.828641  -8.623398 -10.702840   \n",
       "Automotive                  -3.679393 -3.855223  -7.332466 -10.628303   \n",
       "Baby                        -3.469788 -4.725784  -8.693377 -10.639287   \n",
       "Beauty                      -4.102174 -5.004079 -10.537468 -10.537468   \n",
       "Books                       -2.773167 -4.930567  -9.973993 -10.667140   \n",
       "Camera & Photo              -3.750534 -4.730051  -8.603852  -8.891534   \n",
       "Cell Phones & Accessories   -4.215328 -5.632885  -8.606956 -10.552866   \n",
       "Clothing                    -4.525261 -6.452474 -10.403717 -10.403717   \n",
       "Collectible Coins           -5.252310 -5.039490 -10.372209 -10.372209   \n",
       "Computers & Accessories     -3.260193 -3.875438  -6.652545  -7.842129   \n",
       "Electronics                 -3.784912 -4.355283  -8.667041  -8.821191   \n",
       "Entertainment Collectibles  -2.616706 -3.791574  -9.856134 -10.261599   \n",
       "Gift Cards                  -3.709896 -6.366731 -10.556385 -10.556385   \n",
       "Grocery & Gourmet Food      -2.765107 -3.590039 -10.867978  -9.481683   \n",
       "Health & Personal Care      -3.950522 -4.479894  -8.763480  -9.168945   \n",
       "Home & Kitchen              -3.690903 -4.103553  -8.255309  -9.960057   \n",
       "Home Improvement            -3.762899 -4.149343  -7.332193  -9.491677   \n",
       "Industrial & Scientific     -3.040631 -3.349165  -7.459492 -10.860690   \n",
       "Jewelry                     -4.307465 -5.209096 -10.487210 -10.487210   \n",
       "Kindle Store                -4.055257 -5.809383 -10.453774 -10.453774   \n",
       "Kitchen & Dining            -3.741359 -4.457924  -8.295224  -9.904662   \n",
       "Magazines                   -3.516087 -9.272564 -10.371176 -10.371176   \n",
       "Movies & TV                 -4.881936 -7.698321 -10.337378 -10.337378   \n",
       "Music                       -3.118347 -5.665569 -10.427743 -10.427743   \n",
       "Musical Instruments         -3.897541 -5.274629 -10.427920 -10.427920   \n",
       "Office Products             -4.518616 -5.329182  -8.992744 -10.379038   \n",
       "Patio, Lawn & Garden        -3.724755 -4.406977  -7.974160 -10.459067   \n",
       "Pet Supplies                -4.660699 -6.009695 -10.366404 -10.366404   \n",
       "Shoes                       -4.769458 -7.022622 -10.389918 -10.389918   \n",
       "Software                    -3.424429 -4.065775  -9.030017 -10.639455   \n",
       "Sports & Outdoors           -5.449920 -6.338436  -9.265176 -10.363788   \n",
       "Sports Collectibles         -2.630644 -3.840401 -10.721813 -10.721813   \n",
       "Toys & Games                -3.109408 -4.935056  -8.749098 -10.540858   \n",
       "Video Games                 -3.776994 -5.488850  -9.051315 -10.437610   \n",
       "Watches                     -4.535311 -6.091093  -8.078967 -10.381552   \n",
       "\n",
       "                                  aaa      aaaaa  aaabatteri    aaaqual  \\\n",
       "Amazon Launchpad           -10.442376 -10.442376  -10.442376 -10.442376   \n",
       "Appliances                 -10.746820 -10.746820  -10.746820 -10.746820   \n",
       "Arts, Crafts & Sewing      -10.702840 -10.702840  -10.702840 -10.702840   \n",
       "Automotive                  -8.682393 -10.628303  -10.628303 -10.628303   \n",
       "Baby                       -10.639287 -10.639287  -10.639287 -10.639287   \n",
       "Beauty                      -9.844321 -10.537468  -10.537468 -10.537468   \n",
       "Books                      -10.667140 -10.667140  -10.667140 -10.667140   \n",
       "Camera & Photo              -9.073856  -9.990147  -10.683294 -10.683294   \n",
       "Cell Phones & Accessories  -10.552866 -10.552866  -10.552866 -10.552866   \n",
       "Clothing                   -10.403717 -10.403717  -10.403717 -10.403717   \n",
       "Collectible Coins          -10.372209 -10.372209  -10.372209 -10.372209   \n",
       "Computers & Accessories    -10.886652 -10.886652  -10.886652 -10.886652   \n",
       "Electronics                 -9.514339  -9.919804   -9.514339 -10.612951   \n",
       "Entertainment Collectibles  -8.246696 -10.954746  -10.954746 -10.954746   \n",
       "Gift Cards                 -10.556385 -10.556385  -10.556385 -10.556385   \n",
       "Grocery & Gourmet Food     -10.867978 -10.867978  -10.867978 -10.867978   \n",
       "Health & Personal Care      -9.862092 -10.555240   -9.862092 -10.555240   \n",
       "Home & Kitchen             -10.653204 -10.653204  -10.653204 -10.653204   \n",
       "Home Improvement            -9.203995 -10.590290   -9.491677 -10.590290   \n",
       "Industrial & Scientific    -10.860690 -10.860690  -10.860690 -10.860690   \n",
       "Jewelry                     -9.388598 -10.487210  -10.487210  -9.388598   \n",
       "Kindle Store               -10.453774 -10.453774  -10.453774 -10.453774   \n",
       "Kitchen & Dining           -10.597809 -10.597809  -10.597809 -10.597809   \n",
       "Magazines                  -10.371176 -10.371176  -10.371176 -10.371176   \n",
       "Movies & TV                -10.337378 -10.337378  -10.337378 -10.337378   \n",
       "Music                      -10.427743 -10.427743  -10.427743 -10.427743   \n",
       "Musical Instruments        -10.427920 -10.427920  -10.427920 -10.427920   \n",
       "Office Products            -10.379038 -10.379038  -10.379038 -10.379038   \n",
       "Patio, Lawn & Garden       -10.459067 -10.459067  -10.459067 -10.459067   \n",
       "Pet Supplies               -10.366404 -10.366404  -10.366404 -10.366404   \n",
       "Shoes                      -10.389918 -10.389918  -10.389918 -10.389918   \n",
       "Software                   -10.639455 -10.639455  -10.639455 -10.639455   \n",
       "Sports & Outdoors          -10.363788 -10.363788  -10.363788 -10.363788   \n",
       "Sports Collectibles        -10.721813 -10.721813  -10.721813 -10.721813   \n",
       "Toys & Games               -10.540858 -10.540858  -10.540858 -10.540858   \n",
       "Video Games                -10.437610 -10.437610  -10.437610 -10.437610   \n",
       "Watches                    -10.381552 -10.381552  -10.381552 -10.381552   \n",
       "\n",
       "                            aaarecharg  aabatteri    ...        zupreem  \\\n",
       "Amazon Launchpad            -10.442376 -10.442376    ...     -10.442376   \n",
       "Appliances                  -10.746820 -10.746820    ...     -10.746820   \n",
       "Arts, Crafts & Sewing       -10.702840 -10.702840    ...     -10.702840   \n",
       "Automotive                  -10.628303 -10.628303    ...     -10.628303   \n",
       "Baby                        -10.639287 -10.639287    ...     -10.639287   \n",
       "Beauty                      -10.537468 -10.537468    ...     -10.537468   \n",
       "Books                       -10.667140 -10.667140    ...     -10.667140   \n",
       "Camera & Photo               -9.584682  -9.990147    ...     -10.683294   \n",
       "Cell Phones & Accessories   -10.552866 -10.552866    ...     -10.552866   \n",
       "Clothing                    -10.403717 -10.403717    ...     -10.403717   \n",
       "Collectible Coins           -10.372209 -10.372209    ...     -10.372209   \n",
       "Computers & Accessories     -10.886652 -10.886652    ...     -10.886652   \n",
       "Electronics                 -10.612951 -10.612951    ...     -10.612951   \n",
       "Entertainment Collectibles  -10.954746 -10.954746    ...     -10.954746   \n",
       "Gift Cards                  -10.556385 -10.556385    ...     -10.556385   \n",
       "Grocery & Gourmet Food      -10.867978 -10.867978    ...     -10.867978   \n",
       "Health & Personal Care      -10.555240 -10.555240    ...     -10.555240   \n",
       "Home & Kitchen              -10.653204  -9.960057    ...     -10.653204   \n",
       "Home Improvement            -10.590290  -9.491677    ...     -10.590290   \n",
       "Industrial & Scientific     -10.860690 -10.860690    ...     -10.860690   \n",
       "Jewelry                     -10.487210 -10.487210    ...     -10.487210   \n",
       "Kindle Store                -10.453774 -10.453774    ...     -10.453774   \n",
       "Kitchen & Dining            -10.597809  -9.904662    ...     -10.597809   \n",
       "Magazines                   -10.371176 -10.371176    ...     -10.371176   \n",
       "Movies & TV                 -10.337378 -10.337378    ...     -10.337378   \n",
       "Music                       -10.427743 -10.427743    ...     -10.427743   \n",
       "Musical Instruments         -10.427920 -10.427920    ...     -10.427920   \n",
       "Office Products             -10.379038 -10.379038    ...     -10.379038   \n",
       "Patio, Lawn & Garden        -10.459067 -10.459067    ...     -10.459067   \n",
       "Pet Supplies                -10.366404 -10.366404    ...      -8.286962   \n",
       "Shoes                       -10.389918 -10.389918    ...     -10.389918   \n",
       "Software                    -10.639455 -10.639455    ...     -10.639455   \n",
       "Sports & Outdoors           -10.363788 -10.363788    ...     -10.363788   \n",
       "Sports Collectibles         -10.721813 -10.721813    ...     -10.721813   \n",
       "Toys & Games                -10.540858 -10.540858    ...     -10.540858   \n",
       "Video Games                 -10.437610 -10.437610    ...     -10.437610   \n",
       "Watches                     -10.381552 -10.381552    ...     -10.381552   \n",
       "\n",
       "                            zupreemfruit        zus         zw     zwsisu  \\\n",
       "Amazon Launchpad              -10.442376  -9.343763 -10.442376 -10.442376   \n",
       "Appliances                    -10.746820 -10.746820 -10.746820 -10.746820   \n",
       "Arts, Crafts & Sewing         -10.702840 -10.702840 -10.702840 -10.702840   \n",
       "Automotive                    -10.628303 -10.628303  -9.935156 -10.628303   \n",
       "Baby                          -10.639287 -10.639287 -10.639287 -10.639287   \n",
       "Beauty                        -10.537468 -10.537468 -10.537468 -10.537468   \n",
       "Books                         -10.667140 -10.667140 -10.667140 -10.667140   \n",
       "Camera & Photo                -10.683294 -10.683294 -10.683294 -10.683294   \n",
       "Cell Phones & Accessories     -10.552866 -10.552866 -10.552866 -10.552866   \n",
       "Clothing                      -10.403717 -10.403717 -10.403717 -10.403717   \n",
       "Collectible Coins             -10.372209 -10.372209 -10.372209 -10.372209   \n",
       "Computers & Accessories       -10.886652 -10.886652 -10.886652 -10.886652   \n",
       "Electronics                   -10.612951 -10.612951  -9.919804 -10.612951   \n",
       "Entertainment Collectibles    -10.954746 -10.954746 -10.954746 -10.954746   \n",
       "Gift Cards                    -10.556385 -10.556385 -10.556385 -10.556385   \n",
       "Grocery & Gourmet Food        -10.867978 -10.867978 -10.867978 -10.867978   \n",
       "Health & Personal Care        -10.555240 -10.555240 -10.555240 -10.555240   \n",
       "Home & Kitchen                -10.653204 -10.653204 -10.653204 -10.653204   \n",
       "Home Improvement              -10.590290 -10.590290 -10.590290 -10.590290   \n",
       "Industrial & Scientific       -10.860690 -10.860690 -10.860690 -10.860690   \n",
       "Jewelry                       -10.487210 -10.487210 -10.487210 -10.487210   \n",
       "Kindle Store                  -10.453774 -10.453774 -10.453774 -10.453774   \n",
       "Kitchen & Dining              -10.597809 -10.597809 -10.597809 -10.597809   \n",
       "Magazines                     -10.371176 -10.371176 -10.371176 -10.371176   \n",
       "Movies & TV                   -10.337378 -10.337378 -10.337378 -10.337378   \n",
       "Music                         -10.427743 -10.427743 -10.427743 -10.427743   \n",
       "Musical Instruments           -10.427920 -10.427920 -10.427920 -10.427920   \n",
       "Office Products               -10.379038 -10.379038 -10.379038 -10.379038   \n",
       "Patio, Lawn & Garden          -10.459067 -10.459067 -10.459067 -10.459067   \n",
       "Pet Supplies                   -9.267791 -10.366404 -10.366404 -10.366404   \n",
       "Shoes                         -10.389918 -10.389918 -10.389918 -10.389918   \n",
       "Software                      -10.639455 -10.639455 -10.639455 -10.639455   \n",
       "Sports & Outdoors             -10.363788 -10.363788 -10.363788 -10.363788   \n",
       "Sports Collectibles           -10.721813 -10.721813 -10.721813 -10.721813   \n",
       "Toys & Games                  -10.540858 -10.540858 -10.540858  -9.442245   \n",
       "Video Games                   -10.437610 -10.437610 -10.437610 -10.437610   \n",
       "Watches                       -10.381552 -10.381552 -10.381552 -10.381552   \n",
       "\n",
       "                                   zx        zxe    zxehigh       zxuy  \\\n",
       "Amazon Launchpad           -10.442376 -10.442376 -10.442376 -10.442376   \n",
       "Appliances                 -10.746820 -10.746820 -10.746820 -10.746820   \n",
       "Arts, Crafts & Sewing      -10.702840 -10.702840 -10.702840  -9.316546   \n",
       "Automotive                 -10.628303  -9.529691  -9.529691 -10.628303   \n",
       "Baby                       -10.639287 -10.639287 -10.639287 -10.639287   \n",
       "Beauty                     -10.537468 -10.537468 -10.537468 -10.537468   \n",
       "Books                      -10.667140 -10.667140 -10.667140 -10.667140   \n",
       "Camera & Photo             -10.683294 -10.683294 -10.683294 -10.683294   \n",
       "Cell Phones & Accessories  -10.552866 -10.552866 -10.552866 -10.552866   \n",
       "Clothing                   -10.403717 -10.403717 -10.403717 -10.403717   \n",
       "Collectible Coins          -10.372209 -10.372209 -10.372209 -10.372209   \n",
       "Computers & Accessories    -10.886652 -10.886652 -10.886652 -10.886652   \n",
       "Electronics                 -9.919804 -10.612951 -10.612951 -10.612951   \n",
       "Entertainment Collectibles -10.954746 -10.954746 -10.954746 -10.954746   \n",
       "Gift Cards                 -10.556385 -10.556385 -10.556385 -10.556385   \n",
       "Grocery & Gourmet Food     -10.867978 -10.867978 -10.867978 -10.867978   \n",
       "Health & Personal Care     -10.555240 -10.555240 -10.555240 -10.555240   \n",
       "Home & Kitchen             -10.653204 -10.653204 -10.653204 -10.653204   \n",
       "Home Improvement           -10.590290 -10.590290 -10.590290 -10.590290   \n",
       "Industrial & Scientific    -10.860690 -10.860690 -10.860690 -10.860690   \n",
       "Jewelry                    -10.487210 -10.487210 -10.487210 -10.487210   \n",
       "Kindle Store               -10.453774 -10.453774 -10.453774 -10.453774   \n",
       "Kitchen & Dining           -10.597809 -10.597809 -10.597809 -10.597809   \n",
       "Magazines                  -10.371176 -10.371176 -10.371176 -10.371176   \n",
       "Movies & TV                -10.337378 -10.337378 -10.337378 -10.337378   \n",
       "Music                      -10.427743 -10.427743 -10.427743 -10.427743   \n",
       "Musical Instruments        -10.427920 -10.427920 -10.427920 -10.427920   \n",
       "Office Products            -10.379038 -10.379038 -10.379038 -10.379038   \n",
       "Patio, Lawn & Garden       -10.459067 -10.459067 -10.459067 -10.459067   \n",
       "Pet Supplies               -10.366404 -10.366404 -10.366404 -10.366404   \n",
       "Shoes                      -10.389918 -10.389918 -10.389918 -10.389918   \n",
       "Software                    -9.946308 -10.639455 -10.639455 -10.639455   \n",
       "Sports & Outdoors          -10.363788 -10.363788 -10.363788 -10.363788   \n",
       "Sports Collectibles        -10.721813 -10.721813 -10.721813 -10.721813   \n",
       "Toys & Games               -10.540858 -10.540858 -10.540858 -10.540858   \n",
       "Video Games                -10.437610 -10.437610 -10.437610 -10.437610   \n",
       "Watches                    -10.381552 -10.381552 -10.381552 -10.381552   \n",
       "\n",
       "                                   zz  \n",
       "Amazon Launchpad           -10.442376  \n",
       "Appliances                 -10.746820  \n",
       "Arts, Crafts & Sewing      -10.702840  \n",
       "Automotive                 -10.628303  \n",
       "Baby                       -10.639287  \n",
       "Beauty                     -10.537468  \n",
       "Books                      -10.667140  \n",
       "Camera & Photo             -10.683294  \n",
       "Cell Phones & Accessories  -10.552866  \n",
       "Clothing                   -10.403717  \n",
       "Collectible Coins          -10.372209  \n",
       "Computers & Accessories    -10.886652  \n",
       "Electronics                -10.612951  \n",
       "Entertainment Collectibles -10.954746  \n",
       "Gift Cards                 -10.556385  \n",
       "Grocery & Gourmet Food     -10.867978  \n",
       "Health & Personal Care     -10.555240  \n",
       "Home & Kitchen             -10.653204  \n",
       "Home Improvement           -10.590290  \n",
       "Industrial & Scientific     -9.474396  \n",
       "Jewelry                    -10.487210  \n",
       "Kindle Store               -10.453774  \n",
       "Kitchen & Dining           -10.597809  \n",
       "Magazines                  -10.371176  \n",
       "Movies & TV                -10.337378  \n",
       "Music                      -10.427743  \n",
       "Musical Instruments        -10.427920  \n",
       "Office Products            -10.379038  \n",
       "Patio, Lawn & Garden       -10.459067  \n",
       "Pet Supplies               -10.366404  \n",
       "Shoes                      -10.389918  \n",
       "Software                   -10.639455  \n",
       "Sports & Outdoors          -10.363788  \n",
       "Sports Collectibles        -10.721813  \n",
       "Toys & Games               -10.540858  \n",
       "Video Games                -10.437610  \n",
       "Watches                    -10.381552  \n",
       "\n",
       "[37 rows x 30001 columns]"
      ]
     },
     "execution_count": 218,
     "metadata": {},
     "output_type": "execute_result"
    }
   ],
   "source": [
    "nb_coef_df = coeffMatrix(nb_pipeline, 'stemmedcountfvectorizer', 'multinomialnb')"
   ]
  },
  {
   "cell_type": "code",
   "execution_count": 17,
   "metadata": {
    "collapsed": true,
    "nbpresent": {
     "id": "b35a1a0a-2479-40a6-94f3-ce632ef41384"
    },
    "slideshow": {
     "slide_type": "subslide"
    }
   },
   "outputs": [
    {
     "data": {
      "image/png": "[encoded data removed]",
      "text/plain": [
       "<matplotlib.figure.Figure at 0x119154190>"
      ]
     },
     "metadata": {},
     "output_type": "display_data"
    }
   ],
   "source": [
    "visualize_coefficients(nb_pipeline,'stemmedcountvectorizer', 'multinomialnb','Books')"
   ]
  },
  {
   "cell_type": "markdown",
   "metadata": {
    "nbpresent": {
     "id": "ea48fa52-b0c8-4226-83c2-ce3ade9fd998"
    },
    "slideshow": {
     "slide_type": "slide"
    }
   },
   "source": [
    "### Model Diagnostics "
   ]
  },
  {
   "cell_type": "code",
   "execution_count": 68,
   "metadata": {
    "collapsed": true,
    "nbpresent": {
     "id": "8e1e3097-7ee8-40f7-8c95-7ddf0664767b"
    },
    "slideshow": {
     "slide_type": "subslide"
    }
   },
   "outputs": [
    {
     "data": {
      "text/plain": [
       "array([[ 13,   1,   2, ...,   9,   1,   0],\n",
       "       [  0, 335,   2, ...,   0,   0,   0],\n",
       "       [  0,   1, 334, ...,   4,   0,   0],\n",
       "       ..., \n",
       "       [  0,   1,  15, ..., 332,   0,   0],\n",
       "       [  0,   2,   0, ...,   9, 162,   0],\n",
       "       [  0,   0,   0, ...,  15,   1,  74]])"
      ]
     },
     "execution_count": 68,
     "metadata": {},
     "output_type": "execute_result"
    }
   ],
   "source": [
    "from sklearn.metrics import confusion_matrix,classification_report\n",
    "confusion_matrix(y_test, nb_pred)"
   ]
  },
  {
   "cell_type": "code",
   "execution_count": 29,
   "metadata": {
    "collapsed": true,
    "nbpresent": {
     "id": "9ff0f621-de25-498f-93d8-f5531bdb3f1b"
    },
    "slideshow": {
     "slide_type": "subslide"
    }
   },
   "outputs": [
    {
     "ename": "NameError",
     "evalue": "name 'nb_pred' is not defined",
     "output_type": "error",
     "traceback": [
      "\u001b[0;31m---------------------------------------------------------------------------\u001b[0m",
      "\u001b[0;31mNameError\u001b[0m                                 Traceback (most recent call last)",
      "\u001b[0;32m<ipython-input-29-03e4737d0d8f>\u001b[0m in \u001b[0;36m<module>\u001b[0;34m()\u001b[0m\n\u001b[0;32m----> 1\u001b[0;31m \u001b[0mconfusionMatrixPlt\u001b[0m\u001b[0;34m(\u001b[0m\u001b[0mnb_pred\u001b[0m\u001b[0;34m)\u001b[0m\u001b[0;34m\u001b[0m\u001b[0m\n\u001b[0m",
      "\u001b[0;31mNameError\u001b[0m: name 'nb_pred' is not defined"
     ]
    }
   ],
   "source": [
    "confusionMatrixPlt(nb_pred)"
   ]
  },
  {
   "cell_type": "code",
   "execution_count": 18,
   "metadata": {
    "collapsed": true,
    "nbpresent": {
     "id": "f68c9c76-5738-4f00-9876-fb2f2c35858f"
    },
    "slideshow": {
     "slide_type": "subslide"
    }
   },
   "outputs": [
    {
     "name": "stdout",
     "output_type": "stream",
     "text": [
      "             precision    recall  f1-score   support\n",
      "\n",
      "Amazon Launchpad       0.94      0.26      0.40       121\n",
      " Appliances       0.84      0.87      0.86       377\n",
      "Arts, Crafts & Sewing       0.68      0.83      0.75       417\n",
      " Automotive       0.69      0.69      0.69       299\n",
      "       Baby       0.76      0.78      0.77       369\n",
      "     Beauty       0.70      0.67      0.69       196\n",
      "      Books       0.65      0.81      0.72       741\n",
      "Camera & Photo       0.79      0.91      0.85       279\n",
      "Cell Phones & Accessories       0.76      0.87      0.81       175\n",
      "   Clothing       0.87      0.86      0.87       129\n",
      "Collectible Coins       1.00      0.95      0.98        62\n",
      "Computers & Accessories       0.76      0.89      0.82       455\n",
      "Electronics       0.60      0.70      0.64       269\n",
      "Entertainment Collectibles       0.64      0.95      0.77       867\n",
      " Gift Cards       0.96      1.00      0.98       290\n",
      "Grocery & Gourmet Food       0.75      0.97      0.84       748\n",
      "Health & Personal Care       0.70      0.62      0.66       229\n",
      "Home & Kitchen       0.57      0.52      0.54       296\n",
      "Home Improvement       0.64      0.48      0.55       275\n",
      "Industrial & Scientific       0.49      0.76      0.60       568\n",
      "    Jewelry       0.88      0.91      0.90       160\n",
      "Kindle Store       0.87      0.55      0.67       206\n",
      "Kitchen & Dining       0.67      0.74      0.70       282\n",
      "  Magazines       0.89      0.26      0.41       353\n",
      "Movies & TV       0.88      0.26      0.40        90\n",
      "      Music       0.87      0.42      0.57       525\n",
      "Musical Instruments       0.91      0.57      0.70       241\n",
      "Office Products       0.91      0.47      0.62       129\n",
      "Patio, Lawn & Garden       0.87      0.42      0.57       286\n",
      "Pet Supplies       0.87      0.40      0.55       112\n",
      "      Shoes       0.97      0.92      0.94       101\n",
      "   Software       0.84      0.78      0.81       387\n",
      "Sports & Outdoors       0.75      0.12      0.20        51\n",
      "Sports Collectibles       0.86      0.89      0.87       855\n",
      "Toys & Games       0.77      0.62      0.68       530\n",
      "Video Games       0.89      0.65      0.75       272\n",
      "    Watches       0.95      0.77      0.85       128\n",
      "\n",
      "avg / total       0.76      0.74      0.72     11870\n",
      "\n",
      "****************\n",
      "('accuracy:', 0.73563605728727888)\n",
      "****************\n",
      "('average-per-class accuracy:', 0.9857100571506634)\n"
     ]
    }
   ],
   "source": [
    "print classification_report(y_test, nb_pred)\n",
    "print \"****************\"\n",
    "print('accuracy:', accuracy(y_test, nb_pred))\n",
    "print \"****************\"\n",
    "print('average-per-class accuracy:', macro(y_test, nb_pred))"
   ]
  },
  {
   "cell_type": "markdown",
   "metadata": {
    "nbpresent": {
     "id": "c8d3d6b1-f7bc-4059-b250-155836b3d8ff"
    }
   },
   "source": [
    "# Random Forest"
   ]
  },
  {
   "cell_type": "code",
   "execution_count": 46,
   "metadata": {
    "collapsed": true,
    "nbpresent": {
     "id": "c350afae-e250-499b-b6fb-9a8c3ef2fcff"
    }
   },
   "outputs": [
    {
     "name": "stdout",
     "output_type": "stream",
     "text": [
      "CPU times: user 10min 35s, sys: 8.95 s, total: 10min 44s\n",
      "Wall time: 10min 50s\n",
      "CPU times: user 58.3 s, sys: 16.2 s, total: 1min 14s\n",
      "Wall time: 1min 19s\n",
      "CPU times: user 26.5 s, sys: 9.54 s, total: 36 s\n",
      "Wall time: 39.2 s\n"
     ]
    }
   ],
   "source": [
    "from sklearn.ensemble import RandomForestClassifier\n",
    "\n",
    "rf_pipeline = make_pipeline(StemmedTfidfVectorizer(ngram_range=(1,2), stop_words='english', max_features=5000),\\\n",
    "                         RandomForestClassifier(n_estimators= 1000))\n",
    "\n",
    "'''\n",
    "RandomForestClassifier(bootstrap= True, class_weight= None, criterion= 'gini',max_depth= 100, max_leaf_nodes=100, min_samples_leaf= 1,min_samples_split= 1, min_weight_fraction_leaf= 0, n_estimators= 100, n_jobs= -1, oob_score= False, random_state= None, verbose= 1, warm_start=True)\n",
    "'''\n",
    "\n",
    "%time rf_pipeline.fit(text_train,y_train)\n",
    "%time rf=rf_pipeline.score(text_train,y_train)\n",
    "%time rf_pred=rf_pipeline.predict(text_test)"
   ]
  },
  {
   "cell_type": "code",
   "execution_count": 59,
   "metadata": {
    "collapsed": false,
    "nbpresent": {
     "id": "6bfea4b1-0b81-45b2-a234-415b82817c0e"
    }
   },
   "outputs": [
    {
     "data": {
      "text/plain": [
       "RandomForestClassifier(bootstrap=True, class_weight=None, criterion='gini',\n",
       "            max_depth=None, max_features='auto', max_leaf_nodes=None,\n",
       "            min_samples_leaf=1, min_samples_split=2,\n",
       "            min_weight_fraction_leaf=0.0, n_estimators=10, n_jobs=1,\n",
       "            oob_score=False, random_state=None, verbose=0,\n",
       "            warm_start=False)"
      ]
     },
     "execution_count": 59,
     "metadata": {},
     "output_type": "execute_result"
    }
   ],
   "source": [
    "rf_pipeline.named_steps['randomforestclassifier']"
   ]
  },
  {
   "cell_type": "code",
   "execution_count": null,
   "metadata": {
    "collapsed": true,
    "nbpresent": {
     "id": "1ea4e324-e199-455d-afc7-b9512722bf07"
    }
   },
   "outputs": [],
   "source": [
    "from sklearn.externals import joblib\n",
    "filename = \"./RFmodels.pkl\"\n",
    "joblib.dump(rf_pipeline, filename, compress=9)"
   ]
  },
  {
   "cell_type": "markdown",
   "metadata": {
    "nbpresent": {
     "id": "4686d76f-a60e-4ee6-99cd-5213d77c32f2"
    }
   },
   "source": [
    "### Model Diagnostics"
   ]
  },
  {
   "cell_type": "code",
   "execution_count": 47,
   "metadata": {
    "collapsed": true,
    "nbpresent": {
     "id": "ce4e8548-8866-40ce-8ab4-162e609be829"
    }
   },
   "outputs": [
    {
     "name": "stdout",
     "output_type": "stream",
     "text": [
      "             precision    recall  f1-score   support\n",
      "\n",
      "Amazon Launchpad       0.85      0.43      0.57       121\n",
      " Appliances       0.92      0.86      0.89       377\n",
      "Arts, Crafts & Sewing       0.76      0.69      0.73       417\n",
      " Automotive       0.78      0.60      0.67       299\n",
      "       Baby       0.77      0.71      0.74       369\n",
      "     Beauty       0.72      0.54      0.61       196\n",
      "      Books       0.69      0.71      0.70       741\n",
      "Camera & Photo       0.87      0.92      0.89       279\n",
      "Cell Phones & Accessories       0.83      0.87      0.85       175\n",
      "   Clothing       0.75      0.88      0.81       129\n",
      "Collectible Coins       0.92      0.98      0.95        62\n",
      "Computers & Accessories       0.86      0.89      0.88       455\n",
      "Electronics       0.77      0.61      0.68       269\n",
      "Entertainment Collectibles       0.94      0.89      0.91       867\n",
      " Gift Cards       0.99      0.99      0.99       290\n",
      "Grocery & Gourmet Food       0.72      0.91      0.81       748\n",
      "Health & Personal Care       0.61      0.48      0.54       229\n",
      "Home & Kitchen       0.69      0.46      0.55       296\n",
      "Home Improvement       0.63      0.39      0.48       275\n",
      "Industrial & Scientific       0.53      0.62      0.57       568\n",
      "    Jewelry       0.90      0.88      0.89       160\n",
      "Kindle Store       0.74      0.57      0.64       206\n",
      "Kitchen & Dining       0.66      0.61      0.63       282\n",
      "  Magazines       0.57      0.50      0.53       353\n",
      "Movies & TV       0.55      0.57      0.56        90\n",
      "      Music       0.49      0.75      0.59       525\n",
      "Musical Instruments       0.69      0.63      0.66       241\n",
      "Office Products       0.65      0.64      0.65       129\n",
      "Patio, Lawn & Garden       0.46      0.55      0.50       286\n",
      "Pet Supplies       0.69      0.60      0.64       112\n",
      "      Shoes       0.85      0.94      0.89       101\n",
      "   Software       0.81      0.76      0.79       387\n",
      "Sports & Outdoors       0.65      0.25      0.37        51\n",
      "Sports Collectibles       0.83      0.93      0.88       855\n",
      "Toys & Games       0.69      0.67      0.68       530\n",
      "Video Games       0.75      0.74      0.74       272\n",
      "    Watches       0.86      0.81      0.84       128\n",
      "\n",
      "avg / total       0.74      0.73      0.73     11870\n",
      "\n",
      "****************\n",
      "('accuracy:', 0.7340353833192923)\n",
      "****************\n",
      "('average-per-class accuracy:', 0.9856235342334753)\n"
     ]
    }
   ],
   "source": [
    "print classification_report(y_test, rf_pred)\n",
    "print \"****************\"\n",
    "print('accuracy:', accuracy(y_test, rf_pred))\n",
    "print \"****************\"\n",
    "print('average-per-class accuracy:', macro(y_test, rf_pred))"
   ]
  },
  {
   "cell_type": "code",
   "execution_count": null,
   "metadata": {
    "collapsed": true,
    "nbpresent": {
     "id": "f4c31942-1e94-4439-86c3-351f2d89602e"
    }
   },
   "outputs": [
    {
     "name": "stdout",
     "output_type": "stream",
     "text": [
      "Fitting 3 folds for each of 3 candidates, totalling 9 fits\n",
      "[CV] randomforestclassifier__n_estimators=1000, randomforestclassifier__max_depth=None, stemmedtfidfvectorizer__max_features=15000 \n",
      "[CV] randomforestclassifier__n_estimators=1000, randomforestclassifier__max_depth=None, stemmedtfidfvectorizer__max_features=15000 \n",
      "[CV] randomforestclassifier__n_estimators=1000, randomforestclassifier__max_depth=None, stemmedtfidfvectorizer__max_features=15000 \n",
      "[CV] randomforestclassifier__n_estimators=10000, randomforestclassifier__max_depth=None, stemmedtfidfvectorizer__max_features=15000 \n",
      "[CV]  randomforestclassifier__n_estimators=1000, randomforestclassifier__max_depth=None, stemmedtfidfvectorizer__max_features=15000, score=0.705494 -15.0min\n",
      "[CV]  randomforestclassifier__n_estimators=1000, randomforestclassifier__max_depth=None, stemmedtfidfvectorizer__max_features=15000, score=0.712829 -15.0min\n",
      "[CV]  randomforestclassifier__n_estimators=1000, randomforestclassifier__max_depth=None, stemmedtfidfvectorizer__max_features=15000, score=0.714812 -15.0min\n",
      "[CV] randomforestclassifier__n_estimators=10000, randomforestclassifier__max_depth=None, stemmedtfidfvectorizer__max_features=15000 \n",
      "[CV] randomforestclassifier__n_estimators=10000, randomforestclassifier__max_depth=None, stemmedtfidfvectorizer__max_features=15000 \n",
      "[CV] randomforestclassifier__n_estimators=25000, randomforestclassifier__max_depth=None, stemmedtfidfvectorizer__max_features=15000 \n"
     ]
    }
   ],
   "source": [
    "from sklearn.ensemble import RandomForestClassifier\n",
    "from sklearn.decomposition import TruncatedSVD\n",
    "\n",
    "rf_pipeline = make_pipeline(StemmedTfidfVectorizer(ngram_range=(1,2), stop_words='english'),\\\n",
    "                            TruncatedSVD(),\\\n",
    "                            RandomForestClassifier())\n",
    "'''\n",
    "RandomForestClassifier(bootstrap= True, class_weight= None, criterion= 'gini',max_depth= 100, max_leaf_nodes=100, min_samples_leaf= 1,min_samples_split= 1, min_weight_fraction_leaf= 0, n_estimators= 100, n_jobs= -1, oob_score= False, random_state= None, verbose= 1, warm_start=True)\n",
    "'''\n",
    "params = {\"stemmedtfidfvectorizer__max_features\":[15000],\\\n",
    "          \"randomforestclassifier__n_estimators\": [10000],\\\n",
    "          \"randomforestclassifier__max_depth\": [None] }\n",
    "\n",
    "grid_rf_pipeline = GridSearchCV(rf_pipeline, param_grid=params, cv=3, verbose = 3, n_jobs=1) \n",
    "\n",
    "\n",
    "%time grid_rf_pipeline.fit(text_train,y_train)"
   ]
  },
  {
   "cell_type": "markdown",
   "metadata": {
    "nbpresent": {
     "id": "1c49ce2e-c0c2-4171-8827-b9e2df2d65d8"
    }
   },
   "source": [
    "# K Nearest Neighbour"
   ]
  },
  {
   "cell_type": "code",
   "execution_count": 21,
   "metadata": {
    "collapsed": true,
    "nbpresent": {
     "id": "02d379d4-4a15-4eb1-90ad-782946270d60"
    }
   },
   "outputs": [
    {
     "name": "stderr",
     "output_type": "stream",
     "text": [
      "/Users/rajesh/anaconda/lib/python2.7/site-packages/ipykernel/__main__.py:3: DeprecationWarning: Passing additional arguments to the metric function as **kwargs is deprecated and will no longer be supported in 0.18. Use metric_params instead.\n",
      "  app.launch_new_instance()\n"
     ]
    },
    {
     "name": "stdout",
     "output_type": "stream",
     "text": [
      "CPU times: user 20.6 s, sys: 219 ms, total: 20.8 s\n",
      "Wall time: 20.8 s\n",
      "CPU times: user 58.8 s, sys: 1min 50s, total: 2min 48s\n",
      "Wall time: 6min 1s\n",
      "CPU times: user 21.1 s, sys: 19.2 s, total: 40.4 s\n",
      "Wall time: 49.1 s\n"
     ]
    }
   ],
   "source": [
    "from sklearn.neighbors import KNeighborsClassifier\n",
    "\n",
    "kn_pipeline = make_pipeline(StemmedTfidfVectorizer(ngram_range=(1,2), stop_words='english', max_features=5000),\\\n",
    "                         KNeighborsClassifier(neighbors=5))\n",
    " \n",
    "%time kn_pipeline.fit(text_train,y_train)\n",
    "%time kn=kn_pipeline.score(text_train,y_train)\n",
    "%time kn_pred=kn_pipeline.predict(text_test)\n"
   ]
  },
  {
   "cell_type": "code",
   "execution_count": null,
   "metadata": {
    "collapsed": true,
    "nbpresent": {
     "id": "7d1f1fd7-ab35-4056-8610-4c1b755b6913"
    }
   },
   "outputs": [],
   "source": [
    "from sklearn.externals import joblib\n",
    "filename = \"./KNmodels.pkl\"\n",
    "joblib.dump(kn_pipeline, filename, compress=9)"
   ]
  },
  {
   "cell_type": "markdown",
   "metadata": {
    "nbpresent": {
     "id": "8637db2b-008c-489a-9a53-7483c2d06164"
    }
   },
   "source": [
    "### Model Diagnostics"
   ]
  },
  {
   "cell_type": "code",
   "execution_count": 22,
   "metadata": {
    "collapsed": true,
    "nbpresent": {
     "id": "976c49f0-9036-4725-ab45-bad0b8fce77f"
    }
   },
   "outputs": [
    {
     "name": "stdout",
     "output_type": "stream",
     "text": [
      "             precision    recall  f1-score   support\n",
      "\n",
      "Amazon Launchpad       0.47      0.36      0.41       121\n",
      " Appliances       0.89      0.77      0.82       377\n",
      "Arts, Crafts & Sewing       0.74      0.55      0.63       417\n",
      " Automotive       0.68      0.46      0.55       299\n",
      "       Baby       0.77      0.60      0.68       369\n",
      "     Beauty       0.69      0.42      0.52       196\n",
      "      Books       0.38      0.58      0.46       741\n",
      "Camera & Photo       0.90      0.73      0.81       279\n",
      "Cell Phones & Accessories       0.87      0.71      0.78       175\n",
      "   Clothing       0.84      0.59      0.69       129\n",
      "Collectible Coins       0.88      0.71      0.79        62\n",
      "Computers & Accessories       0.88      0.69      0.77       455\n",
      "Electronics       0.82      0.48      0.60       269\n",
      "Entertainment Collectibles       0.89      0.65      0.75       867\n",
      " Gift Cards       0.97      1.00      0.98       290\n",
      "Grocery & Gourmet Food       0.82      0.77      0.80       748\n",
      "Health & Personal Care       0.64      0.33      0.43       229\n",
      "Home & Kitchen       0.63      0.38      0.48       296\n",
      "Home Improvement       0.67      0.30      0.41       275\n",
      "Industrial & Scientific       0.71      0.35      0.47       568\n",
      "    Jewelry       0.92      0.53      0.67       160\n",
      "Kindle Store       0.48      0.50      0.49       206\n",
      "Kitchen & Dining       0.79      0.42      0.55       282\n",
      "  Magazines       0.10      0.44      0.17       353\n",
      "Movies & TV       0.33      0.42      0.37        90\n",
      "      Music       0.20      0.66      0.31       525\n",
      "Musical Instruments       0.67      0.42      0.52       241\n",
      "Office Products       0.73      0.53      0.62       129\n",
      "Patio, Lawn & Garden       0.60      0.35      0.44       286\n",
      "Pet Supplies       0.76      0.42      0.54       112\n",
      "      Shoes       0.97      0.67      0.80       101\n",
      "   Software       0.83      0.59      0.69       387\n",
      "Sports & Outdoors       0.44      0.08      0.13        51\n",
      "Sports Collectibles       0.86      0.77      0.81       855\n",
      "Toys & Games       0.73      0.47      0.57       530\n",
      "Video Games       0.80      0.65      0.72       272\n",
      "    Watches       0.88      0.70      0.78       128\n",
      "\n",
      "avg / total       0.71      0.58      0.61     11870\n",
      "\n",
      "****************\n",
      "('accuracy:', 0.5773378264532435)\n",
      "****************\n",
      "('average-per-class accuracy:', 0.9771533960244996)\n"
     ]
    }
   ],
   "source": [
    "print classification_report(y_test, kn_pred)\n",
    "print \"****************\"\n",
    "print('accuracy:', accuracy(y_test, kn_pred))\n",
    "print \"****************\"\n",
    "print('average-per-class accuracy:', macro(y_test, kn_pred))"
   ]
  },
  {
   "cell_type": "markdown",
   "metadata": {
    "nbpresent": {
     "id": "cc4c99f7-bf79-42ea-aca8-8ec2ba8817e8"
    }
   },
   "source": [
    "# Support Vectror Machine"
   ]
  },
  {
   "cell_type": "code",
   "execution_count": 25,
   "metadata": {
    "collapsed": false,
    "nbpresent": {
     "id": "b4b39d14-24d9-4073-9cd6-e75d15ff7da9"
    }
   },
   "outputs": [],
   "source": [
    "from sklearn.svm import LinearSVC\n",
    "from sklearn.pipeline import make_pipeline\n",
    "from sklearn.feature_extraction.text import TfidfVectorizer\n",
    "\n",
    "sv_pipeline = make_pipeline(StemmedTfidfVectorizer(ngram_range=(1,2), stop_words='english', max_features=5000),\\\n",
    "                            LinearSVC())\n",
    "\n",
    "%time sv_pipeline.fit(text_train,y_train)\n",
    "%time sv=sv_pipeline.score(text_train,y_train)\n",
    "%time sv_pred=sv_pipeline.predict(text_test)\n"
   ]
  },
  {
   "cell_type": "code",
   "execution_count": null,
   "metadata": {
    "collapsed": true,
    "nbpresent": {
     "id": "961bc191-14ae-4804-9889-e81f428bb292"
    }
   },
   "outputs": [],
   "source": [
    "from sklearn.externals import joblib\n",
    "filename = \"./SVmodels.pkl\"\n",
    "joblib.dump(sv_pipeline, filename, compress=9)"
   ]
  },
  {
   "cell_type": "markdown",
   "metadata": {
    "nbpresent": {
     "id": "1cff797c-c657-4014-9bc0-7205d9e1f860"
    }
   },
   "source": [
    "### Model Diagnostics"
   ]
  },
  {
   "cell_type": "code",
   "execution_count": 26,
   "metadata": {
    "collapsed": true,
    "nbpresent": {
     "id": "db4a66d9-464f-45ff-b377-3e67f3a0e91c"
    }
   },
   "outputs": [
    {
     "name": "stdout",
     "output_type": "stream",
     "text": [
      "             precision    recall  f1-score   support\n",
      "\n",
      "Amazon Launchpad       0.73      0.40      0.52       121\n",
      " Appliances       0.92      0.90      0.91       377\n",
      "Arts, Crafts & Sewing       0.80      0.79      0.80       417\n",
      " Automotive       0.71      0.64      0.68       299\n",
      "       Baby       0.82      0.76      0.78       369\n",
      "     Beauty       0.73      0.76      0.74       196\n",
      "      Books       0.70      0.76      0.73       741\n",
      "Camera & Photo       0.85      0.92      0.89       279\n",
      "Cell Phones & Accessories       0.83      0.89      0.86       175\n",
      "   Clothing       0.80      0.91      0.86       129\n",
      "Collectible Coins       0.95      0.98      0.97        62\n",
      "Computers & Accessories       0.86      0.89      0.88       455\n",
      "Electronics       0.73      0.67      0.70       269\n",
      "Entertainment Collectibles       0.92      0.89      0.90       867\n",
      " Gift Cards       0.99      0.99      0.99       290\n",
      "Grocery & Gourmet Food       0.82      0.95      0.88       748\n",
      "Health & Personal Care       0.63      0.59      0.61       229\n",
      "Home & Kitchen       0.65      0.54      0.59       296\n",
      "Home Improvement       0.58      0.49      0.53       275\n",
      "Industrial & Scientific       0.62      0.68      0.65       568\n",
      "    Jewelry       0.91      0.90      0.90       160\n",
      "Kindle Store       0.75      0.59      0.66       206\n",
      "Kitchen & Dining       0.70      0.73      0.72       282\n",
      "  Magazines       0.60      0.48      0.54       353\n",
      "Movies & TV       0.63      0.58      0.60        90\n",
      "      Music       0.55      0.69      0.62       525\n",
      "Musical Instruments       0.70      0.71      0.70       241\n",
      "Office Products       0.71      0.71      0.71       129\n",
      "Patio, Lawn & Garden       0.60      0.53      0.57       286\n",
      "Pet Supplies       0.69      0.64      0.66       112\n",
      "      Shoes       0.98      0.93      0.95       101\n",
      "   Software       0.83      0.78      0.80       387\n",
      "Sports & Outdoors       0.65      0.33      0.44        51\n",
      "Sports Collectibles       0.86      0.94      0.90       855\n",
      "Toys & Games       0.70      0.68      0.69       530\n",
      "Video Games       0.75      0.72      0.73       272\n",
      "    Watches       0.89      0.87      0.88       128\n",
      "\n",
      "avg / total       0.76      0.77      0.76     11870\n",
      "\n",
      "****************\n",
      "('accuracy:', 0.76554338668913224)\n",
      "****************\n",
      "('average-per-class accuracy:', 0.9873266695507639)\n"
     ]
    }
   ],
   "source": [
    "from sklearn.metrics import confusion_matrix\n",
    "from sklearn.metrics import classification_report\n",
    "\n",
    "print classification_report(y_test, sv_pred)\n",
    "print \"****************\"\n",
    "print('accuracy:', accuracy(y_test, sv_pred))\n",
    "print \"****************\"\n",
    "print('average-per-class accuracy:', macro(y_test, sv_pred))"
   ]
  },
  {
   "cell_type": "markdown",
   "metadata": {
    "nbpresent": {
     "id": "ee7164ed-c5d2-408f-9209-982e00bb47bf"
    }
   },
   "source": [
    "# Gradient Boosting Classifier"
   ]
  },
  {
   "cell_type": "code",
   "execution_count": 26,
   "metadata": {
    "collapsed": true,
    "nbpresent": {
     "id": "70d7bcb7-1146-4b90-933d-265b0b49a239"
    }
   },
   "outputs": [
    {
     "name": "stdout",
     "output_type": "stream",
     "text": [
      "      Iter       Train Loss   Remaining Time \n",
      "         1      907332.5804          241.48m\n",
      "         2 12863641630907348847029998877409280.0000          237.75m\n",
      "         3 12863641630907348847029998877409280.0000          236.60m\n",
      "         4 12863641630907348847029998877409280.0000          236.10m\n",
      "         5 12863641630907348847029998877409280.0000          235.46m\n",
      "         6 12863641630907348847029998877409280.0000          235.26m\n",
      "         7 12863641630907348847029998877409280.0000          234.82m\n",
      "         8 12863641630907348847029998877409280.0000          234.68m\n",
      "         9 12863641630907348847029998877409280.0000          234.29m\n",
      "        10 12863641630907348847029998877409280.0000          234.01m\n",
      "        20 12863641630907348847029998877409280.0000          230.91m\n",
      "        30 12863641630907348847029998877409280.0000          228.36m\n",
      "        40 12863641630907348847029998877409280.0000          225.81m\n",
      "        50 12863641630907348847029998877409280.0000          223.55m\n",
      "        60 12863641630907348847029998877409280.0000          222.59m\n",
      "        70 12863641630907348847029998877409280.0000          219.96m\n",
      "        80 12863641630907348847029998877409280.0000          217.39m\n",
      "        90 12863641630907348847029998877409280.0000          214.95m\n",
      "       100 12863641630907348847029998877409280.0000          212.47m\n",
      "       200 12863641630907348847029998877409280.0000          188.48m\n",
      "       300 12863641630907348847029998877409280.0000          164.78m\n",
      "       400 12863641630907348847029998877409280.0000          141.34m\n",
      "       500 12863641630907348847029998877409280.0000          117.69m\n",
      "       600 12863641630907348847029998877409280.0000           94.46m\n",
      "       700 12863641630907348847029998877409280.0000           70.78m\n",
      "       800 12863641630907348847029998877409280.0000           47.16m\n",
      "       900 12863641630907348847029998877409280.0000           23.58m\n",
      "      1000 12863641630907348847029998877409280.0000            0.00s\n"
     ]
    },
    {
     "data": {
      "text/plain": [
       "['./GBoostmodels.pkl']"
      ]
     },
     "execution_count": 26,
     "metadata": {},
     "output_type": "execute_result"
    }
   ],
   "source": [
    "from sklearn.ensemble import GradientBoostingClassifier\n",
    "from sklearn.pipeline import make_pipeline\n",
    "from sklearn.feature_extraction.text import TfidfVectorizer\n",
    "from sklearn.preprocessing import FunctionTransformer\n",
    "from sklearn.decomposition import TruncatedSVD\n",
    "import numpy as np\n",
    "   \n",
    "gb_pipeline = make_pipeline(StemmedTfidfVectorizer(ngram_range=(1,1), stop_words='english'), \n",
    "                            TruncatedSVD(n_components=120),\n",
    "                         GradientBoostingClassifier( init= None, learning_rate= 0.6,\\\n",
    "                                                    loss= 'deviance', max_depth= 5, max_leaf_nodes= 4,\\\n",
    "                                                    min_samples_leaf= 1, min_samples_split= 1, min_weight_fraction_leaf= 0.0,\\\n",
    "                                                    n_estimators= 1000, random_state= None,\\\n",
    "                                                    subsample= 1.0, verbose=1, warm_start= False))\n",
    "                         \n",
    "gb_pipeline.fit(text_train.values,y_train)\n",
    "gb=gb_pipeline.score(text_train.values, y_train)\n",
    "gb_pred=gb_pipeline.predict(text_test.values)\n",
    "\n",
    "from sklearn.externals import joblib\n",
    "filename = \"./GBoostmodels.pkl\"\n",
    "joblib.dump(gb_pipeline, filename, compress=9)"
   ]
  },
  {
   "cell_type": "markdown",
   "metadata": {
    "nbpresent": {
     "id": "98f0a160-1aa5-4e74-add7-b93a498578e8"
    }
   },
   "source": [
    "### Model Diagnostics"
   ]
  },
  {
   "cell_type": "code",
   "execution_count": 27,
   "metadata": {
    "collapsed": true,
    "nbpresent": {
     "id": "94d1d882-82b3-4d7b-a2d2-e0fff2dd9954"
    }
   },
   "outputs": [
    {
     "name": "stdout",
     "output_type": "stream",
     "text": [
      "             precision    recall  f1-score   support\n",
      "\n",
      "Amazon Launchpad       0.00      0.00      0.00       121\n",
      " Appliances       0.00      0.00      0.00       377\n",
      "Arts, Crafts & Sewing       0.00      0.00      0.00       417\n",
      " Automotive       0.03      1.00      0.05       299\n",
      "       Baby       0.00      0.00      0.00       369\n",
      "     Beauty       0.00      0.00      0.00       196\n",
      "      Books       0.00      0.00      0.00       741\n",
      "Camera & Photo       0.00      0.00      0.00       279\n",
      "Cell Phones & Accessories       0.00      0.00      0.00       175\n",
      "   Clothing       0.00      0.00      0.00       129\n",
      "Collectible Coins       0.00      0.00      0.00        62\n",
      "Computers & Accessories       0.00      0.00      0.00       455\n",
      "Electronics       0.00      0.00      0.00       269\n",
      "Entertainment Collectibles       0.00      0.00      0.00       867\n",
      " Gift Cards       0.00      0.00      0.00       290\n",
      "Grocery & Gourmet Food       0.00      0.00      0.00       748\n",
      "Health & Personal Care       0.00      0.00      0.00       229\n",
      "Home & Kitchen       0.00      0.00      0.00       296\n",
      "Home Improvement       0.00      0.00      0.00       275\n",
      "Industrial & Scientific       0.00      0.00      0.00       568\n",
      "    Jewelry       0.00      0.00      0.00       160\n",
      "Kindle Store       0.00      0.00      0.00       206\n",
      "Kitchen & Dining       0.00      0.00      0.00       282\n",
      "  Magazines       0.00      0.00      0.00       353\n",
      "Movies & TV       0.00      0.00      0.00        90\n",
      "      Music       0.00      0.00      0.00       525\n",
      "Musical Instruments       0.00      0.00      0.00       241\n",
      "Office Products       0.00      0.00      0.00       129\n",
      "Patio, Lawn & Garden       0.00      0.00      0.00       286\n",
      "Pet Supplies       0.00      0.00      0.00       112\n",
      "      Shoes       0.00      0.00      0.00       101\n",
      "   Software       0.00      0.00      0.00       387\n",
      "Sports & Outdoors       0.00      0.00      0.00        51\n",
      "Sports Collectibles       0.00      0.00      0.00       855\n",
      "Toys & Games       0.00      0.00      0.00       530\n",
      "Video Games       0.00      0.00      0.00       272\n",
      "    Watches       0.00      0.00      0.00       128\n",
      "\n",
      "avg / total       0.00      0.03      0.00     11870\n",
      "\n",
      "****************\n",
      "('accuracy:', 0.025189553496208932)\n",
      "****************\n",
      "('average-per-class accuracy:', 0.9473075434322277)\n"
     ]
    }
   ],
   "source": [
    "from sklearn.metrics import confusion_matrix\n",
    "from sklearn.metrics import classification_report\n",
    "\n",
    "print classification_report(y_test, gb_pred)\n",
    "print \"****************\"\n",
    "print('accuracy:', accuracy(y_test, gb_pred))\n",
    "print \"****************\"\n",
    "print('average-per-class accuracy:', macro(y_test, gb_pred))"
   ]
  },
  {
   "cell_type": "markdown",
   "metadata": {
    "nbpresent": {
     "id": "07b1bd8a-45dd-494f-b404-39891b8df97e"
    }
   },
   "source": [
    "#### GBC is very slow. Lets use XGBoost"
   ]
  },
  {
   "cell_type": "markdown",
   "metadata": {
    "nbpresent": {
     "id": "49a4ccdc-09d8-4690-b5ef-95504c69d85d"
    }
   },
   "source": [
    "# XGBoost"
   ]
  },
  {
   "cell_type": "code",
   "execution_count": 42,
   "metadata": {
    "collapsed": true,
    "nbpresent": {
     "id": "16b71505-d678-4a24-ac82-546270dc059d"
    }
   },
   "outputs": [
    {
     "name": "stdout",
     "output_type": "stream",
     "text": [
      "CPU times: user 28min 53s, sys: 7.85 s, total: 29min 1s\n",
      "Wall time: 29min 12s\n",
      "CPU times: user 7min 45s, sys: 2.02 s, total: 7min 47s\n",
      "Wall time: 7min 50s\n",
      "CPU times: user 3min 20s, sys: 1.01 s, total: 3min 21s\n",
      "Wall time: 3min 22s\n"
     ]
    }
   ],
   "source": [
    "import xgboost as xgb\n",
    "\n",
    "xgb_pipeline = make_pipeline(StemmedTfidfVectorizer(ngram_range=(1,2), stop_words='english', max_features=5000),\\\n",
    "                             xgb.XGBClassifier(n_estimators=1000))\n",
    "                         \n",
    "%time xgb_pipeline.fit(text_train.values,y_train)\n",
    "%time xgb=xgb_pipeline.score(text_train.values, y_train)\n",
    "%time xgb_pred=xgb_pipeline.predict(text_test.values)"
   ]
  },
  {
   "cell_type": "code",
   "execution_count": 43,
   "metadata": {
    "collapsed": true,
    "nbpresent": {
     "id": "f2a1b6cb-7957-4ff7-b001-f261410882bd"
    }
   },
   "outputs": [
    {
     "name": "stdout",
     "output_type": "stream",
     "text": [
      "             precision    recall  f1-score   support\n",
      "\n",
      "Amazon Launchpad       0.62      0.39      0.48       121\n",
      " Appliances       0.92      0.89      0.91       377\n",
      "Arts, Crafts & Sewing       0.79      0.72      0.75       417\n",
      " Automotive       0.71      0.61      0.65       299\n",
      "       Baby       0.82      0.74      0.78       369\n",
      "     Beauty       0.75      0.66      0.70       196\n",
      "      Books       0.69      0.69      0.69       741\n",
      "Camera & Photo       0.89      0.92      0.90       279\n",
      "Cell Phones & Accessories       0.86      0.87      0.86       175\n",
      "   Clothing       0.75      0.82      0.78       129\n",
      "Collectible Coins       0.95      0.87      0.91        62\n",
      "Computers & Accessories       0.87      0.87      0.87       455\n",
      "Electronics       0.74      0.62      0.67       269\n",
      "Entertainment Collectibles       0.92      0.88      0.90       867\n",
      " Gift Cards       0.99      0.99      0.99       290\n",
      "Grocery & Gourmet Food       0.80      0.92      0.85       748\n",
      "Health & Personal Care       0.62      0.54      0.58       229\n",
      "Home & Kitchen       0.61      0.51      0.56       296\n",
      "Home Improvement       0.53      0.41      0.46       275\n",
      "Industrial & Scientific       0.53      0.64      0.58       568\n",
      "    Jewelry       0.91      0.91      0.91       160\n",
      "Kindle Store       0.70      0.55      0.61       206\n",
      "Kitchen & Dining       0.71      0.65      0.67       282\n",
      "  Magazines       0.61      0.43      0.51       353\n",
      "Movies & TV       0.59      0.46      0.51        90\n",
      "      Music       0.42      0.80      0.55       525\n",
      "Musical Instruments       0.74      0.68      0.71       241\n",
      "Office Products       0.66      0.63      0.64       129\n",
      "Patio, Lawn & Garden       0.62      0.51      0.56       286\n",
      "Pet Supplies       0.69      0.63      0.66       112\n",
      "      Shoes       0.88      0.91      0.89       101\n",
      "   Software       0.85      0.74      0.79       387\n",
      "Sports & Outdoors       0.35      0.14      0.20        51\n",
      "Sports Collectibles       0.86      0.92      0.89       855\n",
      "Toys & Games       0.68      0.66      0.67       530\n",
      "Video Games       0.79      0.72      0.75       272\n",
      "    Watches       0.86      0.84      0.85       128\n",
      "\n",
      "avg / total       0.75      0.74      0.74     11870\n",
      "\n",
      "****************\n",
      "('accuracy:', 0.73715248525695032)\n",
      "****************\n",
      "('average-per-class accuracy:', 0.9857920262301055)\n"
     ]
    }
   ],
   "source": [
    "print classification_report(y_test, xgb_pred)\n",
    "print \"****************\"\n",
    "print('accuracy:', accuracy(y_test, xgb_pred))\n",
    "print \"****************\"\n",
    "print('average-per-class accuracy:', macro(y_test, xgb_pred))"
   ]
  },
  {
   "cell_type": "markdown",
   "metadata": {
    "nbpresent": {
     "id": "ba7b4e7b-abf0-4795-9ced-06687d85ef08"
    }
   },
   "source": [
    "# Selecting the best Classifier"
   ]
  },
  {
   "cell_type": "code",
   "execution_count": 48,
   "metadata": {
    "collapsed": false,
    "nbpresent": {
     "id": "5e9778cb-4fa1-42af-8715-6df4cff458ec"
    }
   },
   "outputs": [],
   "source": [
    "import numpy as np\n",
    "\n",
    "ss2=[nb,xgb,kn,log,sv,rf]\n",
    "algos=[\"NaiveB\", \"xgBoost\", \"KNN\", \"Logit\", \"SVM\", \"Rand Forest\"]\n",
    "\n",
    "best=[int(i) for i in np.where(ss2==max(ss2))[0]]\n",
    "best2=[]\n",
    "for i in best:\n",
    "    best2.append([algos[i],round(ss2[i],4)])\n",
    "\n",
    "s2 = pd.Series( ss2, index = [\"NaiveB\", \"xgBoost\", \"KNN\",\"Logistic\",\"SVM\",\"Rand Forest\"])"
   ]
  },
  {
   "cell_type": "code",
   "execution_count": 49,
   "metadata": {
    "collapsed": false,
    "nbpresent": {
     "id": "e06da263-0f73-4c98-9c49-cc4eb50a1181"
    }
   },
   "outputs": [
    {
     "data": {
      "image/png": "[encoded data removed]",
      "text/plain": [
       "<matplotlib.figure.Figure at 0x119156310>"
      ]
     },
     "metadata": {},
     "output_type": "display_data"
    },
    {
     "name": "stdout",
     "output_type": "stream",
     "text": [
      "('BEST MODELS:', [['Rand Forest', 0.9797]])\n"
     ]
    }
   ],
   "source": [
    "plt.figure(figsize=(6,6))\n",
    "plt.title(\"ENSEMBLED MACHINE LEARNING\")\n",
    "plt.ylabel('MODEL SCORE')\n",
    "plt.xlabel('MODEL TYPE')\n",
    "my_colors = 'rgbcmyk'\n",
    "s2.plot( kind='bar', color=my_colors)\n",
    "plt.axhline(0, color='black')\n",
    "plt.xticks(rotation=0)\n",
    "plt.ylim(0,1.1)\n",
    "plt.show()\n",
    "\n",
    "print('BEST MODELS:',best2) "
   ]
  },
  {
   "cell_type": "markdown",
   "metadata": {},
   "source": [
    "# Feature Selection"
   ]
  },
  {
   "cell_type": "markdown",
   "metadata": {},
   "source": [
    "### Choose K best Chi2 features"
   ]
  },
  {
   "cell_type": "code",
   "execution_count": 50,
   "metadata": {
    "collapsed": false,
    "nbpresent": {
     "id": "da02135f-17dc-46a1-9c34-f217397ec7c7"
    }
   },
   "outputs": [],
   "source": [
    "from sklearn.feature_selection import f_classif, f_regression, chi2\n",
    "\n",
    "F, p = chi2(StemmedTfidfVectorizer(ngram_range=(1,2), stop_words='english', max_features=None).fit_transform(text_train),\\\n",
    "            y_train)\n",
    "#plt.figure()\n",
    "#plt.plot(p, 'o')"
   ]
  },
  {
   "cell_type": "code",
   "execution_count": 58,
   "metadata": {
    "collapsed": false,
    "nbpresent": {
     "id": "c37fc8d2-e578-4af0-943f-89586c1e3cf4"
    }
   },
   "outputs": [
    {
     "data": {
      "text/plain": [
       "5931"
      ]
     },
     "execution_count": 58,
     "metadata": {},
     "output_type": "execute_result"
    }
   ],
   "source": [
    "len(p[np.where(p<=0.05)])"
   ]
  },
  {
   "cell_type": "code",
   "execution_count": 18,
   "metadata": {
    "collapsed": false,
    "nbpresent": {
     "id": "b4626be1-7afa-4920-ab2d-aff640f61edf"
    }
   },
   "outputs": [
    {
     "data": {
      "text/plain": [
       "5931"
      ]
     },
     "execution_count": 18,
     "metadata": {},
     "output_type": "execute_result"
    }
   ],
   "source": [
    "#np.sort(F[np.where(p<=0.05)])\n",
    "len(F[np.where(F>=51.01)])"
   ]
  },
  {
   "cell_type": "markdown",
   "metadata": {},
   "source": [
    "### Backward Elimination Method"
   ]
  },
  {
   "cell_type": "code",
   "execution_count": null,
   "metadata": {
    "collapsed": true,
    "nbpresent": {
     "id": "2be373cc-0a7a-40c7-8b75-6a5c034299be"
    }
   },
   "outputs": [],
   "source": [
    "from sklearn.linear_model import LogisticRegression\n",
    "from sklearn.pipeline import make_pipeline\n",
    "from sklearn.feature_selection import RFE, SelectKBest, chi2\n",
    "\n",
    "rfe_log_pipeline = make_pipeline(StemmedTfidfVectorizer(ngram_range=(1,3), stop_words='english', max_features=None),\\\n",
    "                                 SelectKBest(chi2,6000),\n",
    "                                 RFE(LogisticRegression(multi_class='multinomial',solver='newton-cg'),\n",
    "                                     n_features_to_select=1000))\n",
    "\n",
    "%time rfe_log_pipeline.fit(text_train,y_train)\n",
    "%time rfe_log = rfe_log_pipeline.score(text_train,y_train)\n",
    "%time rfe_log_pred=rfe_log_pipeline.predict(text_test)\n",
    "\n"
   ]
  },
  {
   "cell_type": "code",
   "execution_count": null,
   "metadata": {
    "collapsed": true
   },
   "outputs": [],
   "source": [
    "print classification_report(y_test, rfe_log_pred)\n",
    "print \"****************\"\n",
    "print('accuracy:', accuracy(y_test, rfe_log_pred))\n",
    "print \"****************\"\n",
    "print('average-per-class accuracy:', macro(y_test, rfe_log_pred))"
   ]
  },
  {
   "cell_type": "markdown",
   "metadata": {},
   "source": [
    "### Text Preprocessing"
   ]
  },
  {
   "cell_type": "code",
   "execution_count": 11,
   "metadata": {
    "collapsed": true,
    "nbpresent": {
     "id": "a69deb49-3c69-4339-a718-876e6b59d0e4"
    }
   },
   "outputs": [
    {
     "name": "stdout",
     "output_type": "stream",
     "text": [
      "CPU times: user 1h 26min 11s, sys: 1h 33min 41s, total: 2h 59min 53s\n",
      "Wall time: 6h 25min 30s\n",
      "CPU times: user 33.7 s, sys: 2min 54s, total: 3min 27s\n",
      "Wall time: 17min 16s\n",
      "CPU times: user 19 s, sys: 55 s, total: 1min 14s\n",
      "Wall time: 5min 14s\n"
     ]
    }
   ],
   "source": [
    "from sklearn.pipeline import make_pipeline\n",
    "from sklearn.linear_model import LogisticRegression\n",
    "from sklearn.decomposition import TruncatedSVD\n",
    "from sklearn.feature_selection import RFE\n",
    "\n",
    "del kbest_svc_pipeline\n",
    "\n",
    "kbest_svc_pipeline = make_pipeline(StemmedTfidfVectorizer(ngram_range=(1,2), stop_words='english', max_features=None),\n",
    "                                   TruncatedSVD(n_components=5000),\n",
    "                                   LogisticRegression(multi_class='multinomial', C=100, solver='newton-cg'))\n",
    "\n",
    "\n",
    "#SelectKBest(chi2, k = 26052),\n",
    "#params = {\"onevsrestclassifier__estimator__C\": [0.001, 0.1, 1, 10, 100, 1000]}\n",
    "#grid_ovr_xbg_svc_pipeline = GridSearchCV(ovr_xbg_svc_pipeline, param_grid=params, cv=3, verbose = 3, n_jobs=-1) \n",
    "\n",
    "\n",
    "%time kbest_svc_pipeline.fit(text_train,y_train)\n",
    "%time kbest_svc = kbest_svc_pipeline.score(text_train,y_train)\n",
    "%time kbest_svc_pred=kbest_svc_pipeline.predict(text_test)\n",
    "\n"
   ]
  },
  {
   "cell_type": "code",
   "execution_count": 12,
   "metadata": {
    "collapsed": true,
    "nbpresent": {
     "id": "c59733e7-2000-4d6c-be54-94a90d07ac2a"
    }
   },
   "outputs": [
    {
     "name": "stdout",
     "output_type": "stream",
     "text": [
      "             precision    recall  f1-score   support\n",
      "\n",
      "Amazon Launchpad       0.75      0.50      0.60       121\n",
      " Appliances       0.92      0.89      0.90       377\n",
      "Arts, Crafts & Sewing       0.79      0.83      0.81       417\n",
      " Automotive       0.70      0.69      0.69       299\n",
      "       Baby       0.82      0.79      0.80       369\n",
      "     Beauty       0.73      0.76      0.74       196\n",
      "      Books       0.71      0.77      0.74       741\n",
      "Camera & Photo       0.91      0.92      0.92       279\n",
      "Cell Phones & Accessories       0.89      0.89      0.89       175\n",
      "   Clothing       0.85      0.91      0.88       129\n",
      "Collectible Coins       0.95      0.95      0.95        62\n",
      "Computers & Accessories       0.86      0.91      0.89       455\n",
      "Electronics       0.73      0.68      0.71       269\n",
      "Entertainment Collectibles       0.91      0.92      0.91       867\n",
      " Gift Cards       1.00      0.98      0.99       290\n",
      "Grocery & Gourmet Food       0.88      0.93      0.91       748\n",
      "Health & Personal Care       0.68      0.65      0.67       229\n",
      "Home & Kitchen       0.61      0.58      0.59       296\n",
      "Home Improvement       0.50      0.50      0.50       275\n",
      "Industrial & Scientific       0.61      0.68      0.64       568\n",
      "    Jewelry       0.92      0.91      0.92       160\n",
      "Kindle Store       0.71      0.61      0.66       206\n",
      "Kitchen & Dining       0.74      0.72      0.73       282\n",
      "  Magazines       0.60      0.53      0.56       353\n",
      "Movies & TV       0.68      0.61      0.64        90\n",
      "      Music       0.62      0.70      0.65       525\n",
      "Musical Instruments       0.81      0.76      0.79       241\n",
      "Office Products       0.73      0.66      0.69       129\n",
      "Patio, Lawn & Garden       0.72      0.67      0.70       286\n",
      "Pet Supplies       0.81      0.62      0.70       112\n",
      "      Shoes       0.95      0.92      0.93       101\n",
      "   Software       0.85      0.85      0.85       387\n",
      "Sports & Outdoors       0.61      0.37      0.46        51\n",
      "Sports Collectibles       0.91      0.92      0.91       855\n",
      "Toys & Games       0.74      0.72      0.73       530\n",
      "Video Games       0.81      0.77      0.79       272\n",
      "    Watches       0.88      0.91      0.90       128\n",
      "\n",
      "avg / total       0.78      0.78      0.78     11870\n",
      "\n",
      "****************\n",
      "('accuracy:', 0.78458298230834034)\n",
      "****************\n",
      "('average-per-class accuracy:', 0.9883558368815321)\n"
     ]
    }
   ],
   "source": [
    "print classification_report(y_test, kbest_svc_pred)\n",
    "print \"****************\"\n",
    "print('accuracy:', accuracy(y_test, kbest_svc_pred))\n",
    "print \"****************\"\n",
    "print('average-per-class accuracy:', macro(y_test, kbest_svc_pred))"
   ]
  },
  {
   "cell_type": "markdown",
   "metadata": {
    "nbpresent": {
     "id": "d46c8f66-c62d-42c7-83e9-d84f3d954458"
    }
   },
   "source": [
    "# Random Forest as input to Logistic"
   ]
  },
  {
   "cell_type": "code",
   "execution_count": 14,
   "metadata": {
    "collapsed": true,
    "nbpresent": {
     "id": "7df97fa4-0676-4a3c-8649-7c6d99acb917"
    }
   },
   "outputs": [
    {
     "ename": "NameError",
     "evalue": "name 'RandomForestClassifier' is not defined",
     "output_type": "error",
     "traceback": [
      "\u001b[0;31m---------------------------------------------------------------------------\u001b[0m",
      "\u001b[0;31mNameError\u001b[0m                                 Traceback (most recent call last)",
      "\u001b[0;32m<ipython-input-14-c5e2ab79471d>\u001b[0m in \u001b[0;36m<module>\u001b[0;34m()\u001b[0m\n\u001b[1;32m      6\u001b[0m \u001b[0;34m\u001b[0m\u001b[0m\n\u001b[1;32m      7\u001b[0m fs_log_pipeline = make_pipeline(StemmedTfidfVectorizer(ngram_range=(1,2), stop_words='english', max_features=None),\n\u001b[0;32m----> 8\u001b[0;31m                              \u001b[0mSelectFromModel\u001b[0m\u001b[0;34m(\u001b[0m\u001b[0mRandomForestClassifier\u001b[0m\u001b[0;34m(\u001b[0m\u001b[0mn_estimators\u001b[0m\u001b[0;34m=\u001b[0m\u001b[0;36m100\u001b[0m\u001b[0;34m,\u001b[0m \u001b[0mrandom_state\u001b[0m\u001b[0;34m=\u001b[0m\u001b[0;36m42\u001b[0m\u001b[0;34m)\u001b[0m\u001b[0;34m,\u001b[0m \u001b[0mthreshold\u001b[0m\u001b[0;34m=\u001b[0m\u001b[0;34m\"median\"\u001b[0m\u001b[0;34m)\u001b[0m\u001b[0;34m,\u001b[0m\u001b[0;34m\u001b[0m\u001b[0m\n\u001b[0m\u001b[1;32m      9\u001b[0m                              LogisticRegression(solver='newton-cg', max_iter=50000,class_weight= 'balanced',\n\u001b[1;32m     10\u001b[0m                                                 \u001b[0mdual\u001b[0m\u001b[0;34m=\u001b[0m \u001b[0mFalse\u001b[0m\u001b[0;34m,\u001b[0m \u001b[0mfit_intercept\u001b[0m\u001b[0;34m=\u001b[0m \u001b[0mTrue\u001b[0m\u001b[0;34m,\u001b[0m \u001b[0mintercept_scaling\u001b[0m\u001b[0;34m=\u001b[0m \u001b[0;36m1\u001b[0m\u001b[0;34m,\u001b[0m\u001b[0;34m\u001b[0m\u001b[0m\n",
      "\u001b[0;31mNameError\u001b[0m: name 'RandomForestClassifier' is not defined"
     ]
    }
   ],
   "source": [
    "from sklearn.pipeline import make_pipeline\n",
    "from sklearn.feature_selection import SelectKBest, chi2, SelectPercentile, SelectFromModel\n",
    "from sklearn.feature_extraction.text import TfidfVectorizer\n",
    "from sklearn.linear_model import LogisticRegression\n",
    "#from sklearn.multiclass import OneVsRestClassifier\n",
    "\n",
    "fs_log_pipeline = make_pipeline(StemmedTfidfVectorizer(ngram_range=(1,2), stop_words='english', max_features=None),\n",
    "                             SelectFromModel(RandomForestClassifier(n_estimators=100, random_state=42), threshold=\"median\"),\n",
    "                             LogisticRegression(solver='newton-cg', max_iter=50000,class_weight= 'balanced',\n",
    "                                                dual= False, fit_intercept= True, intercept_scaling= 1,\n",
    "                                                multi_class='multinomial',n_jobs=-1,penalty='l2', C=100))\n",
    "\n",
    "%time fs_log_pipeline.fit(text_train,y_train)\n",
    "%time fs_log = fs_log_pipeline.score(text_train,y_train)\n",
    "%time fs_log_pred=fs_log_pipeline.predict(text_test)"
   ]
  },
  {
   "cell_type": "code",
   "execution_count": 63,
   "metadata": {
    "collapsed": true,
    "nbpresent": {
     "id": "dc912b3b-8b15-48be-88ce-40a603729031"
    }
   },
   "outputs": [
    {
     "name": "stdout",
     "output_type": "stream",
     "text": [
      "             precision    recall  f1-score   support\n",
      "\n",
      "Amazon Launchpad       0.75      0.54      0.62       121\n",
      " Appliances       0.93      0.82      0.87       377\n",
      "Arts, Crafts & Sewing       0.75      0.75      0.75       417\n",
      " Automotive       0.66      0.68      0.67       299\n",
      "       Baby       0.80      0.75      0.78       369\n",
      "     Beauty       0.62      0.76      0.68       196\n",
      "      Books       0.73      0.72      0.72       741\n",
      "Camera & Photo       0.83      0.92      0.87       279\n",
      "Cell Phones & Accessories       0.75      0.92      0.82       175\n",
      "   Clothing       0.71      0.92      0.80       129\n",
      "Collectible Coins       0.95      1.00      0.98        62\n",
      "Computers & Accessories       0.89      0.86      0.88       455\n",
      "Electronics       0.66      0.67      0.66       269\n",
      "Entertainment Collectibles       0.91      0.84      0.87       867\n",
      " Gift Cards       0.98      1.00      0.99       290\n",
      "Grocery & Gourmet Food       0.83      0.89      0.86       748\n",
      "Health & Personal Care       0.57      0.68      0.62       229\n",
      "Home & Kitchen       0.63      0.57      0.60       296\n",
      "Home Improvement       0.54      0.56      0.55       275\n",
      "Industrial & Scientific       0.66      0.58      0.61       568\n",
      "    Jewelry       0.83      0.95      0.88       160\n",
      "Kindle Store       0.75      0.61      0.67       206\n",
      "Kitchen & Dining       0.60      0.79      0.68       282\n",
      "  Magazines       0.50      0.67      0.57       353\n",
      "Movies & TV       0.46      0.67      0.54        90\n",
      "      Music       0.71      0.55      0.62       525\n",
      "Musical Instruments       0.79      0.77      0.78       241\n",
      "Office Products       0.60      0.77      0.68       129\n",
      "Patio, Lawn & Garden       0.66      0.60      0.63       286\n",
      "Pet Supplies       0.63      0.79      0.70       112\n",
      "      Shoes       0.87      0.97      0.92       101\n",
      "   Software       0.86      0.78      0.82       387\n",
      "Sports & Outdoors       0.52      0.51      0.51        51\n",
      "Sports Collectibles       0.89      0.90      0.90       855\n",
      "Toys & Games       0.77      0.61      0.68       530\n",
      "Video Games       0.78      0.77      0.77       272\n",
      "    Watches       0.84      0.90      0.87       128\n",
      "\n",
      "avg / total       0.76      0.76      0.76     11870\n",
      "\n",
      "****************\n",
      "('accuracy:', 0.75652906486941873)\n",
      "****************\n",
      "('average-per-class accuracy:', 0.9868394089118605)\n"
     ]
    }
   ],
   "source": [
    "print classification_report(y_test, fs_log_pred)\n",
    "print \"****************\"\n",
    "print('accuracy:', accuracy(y_test, fs_log_pred))\n",
    "print \"****************\"\n",
    "print('average-per-class accuracy:', macro(y_test, fs_log_pred))"
   ]
  },
  {
   "cell_type": "markdown",
   "metadata": {
    "nbpresent": {
     "id": "567c351a-505a-4864-b185-4d211d4c2652"
    }
   },
   "source": [
    "# XGBoost as an input to Logistic"
   ]
  },
  {
   "cell_type": "code",
   "execution_count": 14,
   "metadata": {
    "collapsed": true,
    "nbpresent": {
     "id": "be101b32-aaa2-43c3-997d-8f8917941f26"
    }
   },
   "outputs": [
    {
     "name": "stdout",
     "output_type": "stream",
     "text": [
      "CPU times: user 8min 17s, sys: 1.46 s, total: 8min 19s\n",
      "Wall time: 9min 58s\n",
      "CPU times: user 19.5 s, sys: 239 ms, total: 19.7 s\n",
      "Wall time: 19.6 s\n",
      "CPU times: user 8.85 s, sys: 88.7 ms, total: 8.94 s\n",
      "Wall time: 8.93 s\n"
     ]
    }
   ],
   "source": [
    "from sklearn.pipeline import make_pipeline\n",
    "from sklearn.feature_selection import SelectKBest, chi2, SelectPercentile, SelectFromModel\n",
    "from sklearn.feature_extraction.text import TfidfVectorizer\n",
    "from sklearn.linear_model import LogisticRegression\n",
    "import xgboost as xgb\n",
    "#from sklearn.multiclass import OneVsRestClassifier\n",
    "\n",
    "xbg_log_pipeline = make_pipeline(StemmedTfidfVectorizer(ngram_range=(1,2), stop_words='english', max_features=None),\n",
    "                             SelectFromModel(xgb.XGBClassifier(n_estimators=100), threshold=\"median\"),\n",
    "                             LogisticRegression(solver='newton-cg', max_iter=50000,class_weight= 'balanced',\n",
    "                                                dual= False, fit_intercept= True, intercept_scaling= 1,\n",
    "                                                multi_class='multinomial',n_jobs=-1,penalty='l2', C=1))\n",
    "\n",
    "%time xbg_log_pipeline.fit(text_train,y_train)\n",
    "%time xgb_log = xbg_log_pipeline.score(text_train,y_train)\n",
    "%time xgb_log_pred=xbg_log_pipeline.predict(text_test)"
   ]
  },
  {
   "cell_type": "code",
   "execution_count": 17,
   "metadata": {
    "collapsed": true,
    "nbpresent": {
     "id": "775ed6e8-7097-4b0b-a5a1-7c93ce0eea72"
    }
   },
   "outputs": [
    {
     "name": "stdout",
     "output_type": "stream",
     "text": [
      "             precision    recall  f1-score   support\n",
      "\n",
      "Amazon Launchpad       0.77      0.56      0.65       121\n",
      " Appliances       0.92      0.83      0.87       377\n",
      "Arts, Crafts & Sewing       0.76      0.75      0.75       417\n",
      " Automotive       0.67      0.69      0.68       299\n",
      "       Baby       0.81      0.76      0.79       369\n",
      "     Beauty       0.62      0.75      0.68       196\n",
      "      Books       0.74      0.72      0.73       741\n",
      "Camera & Photo       0.83      0.93      0.88       279\n",
      "Cell Phones & Accessories       0.75      0.93      0.83       175\n",
      "   Clothing       0.71      0.92      0.80       129\n",
      "Collectible Coins       0.97      1.00      0.98        62\n",
      "Computers & Accessories       0.89      0.87      0.88       455\n",
      "Electronics       0.66      0.67      0.66       269\n",
      "Entertainment Collectibles       0.90      0.84      0.87       867\n",
      " Gift Cards       0.99      1.00      0.99       290\n",
      "Grocery & Gourmet Food       0.84      0.89      0.86       748\n",
      "Health & Personal Care       0.58      0.69      0.63       229\n",
      "Home & Kitchen       0.64      0.57      0.60       296\n",
      "Home Improvement       0.55      0.56      0.55       275\n",
      "Industrial & Scientific       0.66      0.59      0.63       568\n",
      "    Jewelry       0.85      0.94      0.89       160\n",
      "Kindle Store       0.74      0.61      0.67       206\n",
      "Kitchen & Dining       0.62      0.79      0.70       282\n",
      "  Magazines       0.52      0.67      0.58       353\n",
      "Movies & TV       0.46      0.66      0.54        90\n",
      "      Music       0.72      0.58      0.64       525\n",
      "Musical Instruments       0.79      0.78      0.78       241\n",
      "Office Products       0.61      0.78      0.68       129\n",
      "Patio, Lawn & Garden       0.66      0.60      0.63       286\n",
      "Pet Supplies       0.63      0.79      0.70       112\n",
      "      Shoes       0.88      0.97      0.92       101\n",
      "   Software       0.87      0.78      0.82       387\n",
      "Sports & Outdoors       0.57      0.49      0.53        51\n",
      "Sports Collectibles       0.89      0.90      0.90       855\n",
      "Toys & Games       0.77      0.62      0.68       530\n",
      "Video Games       0.78      0.78      0.78       272\n",
      "    Watches       0.83      0.91      0.87       128\n",
      "\n",
      "avg / total       0.77      0.76      0.76     11870\n",
      "\n",
      "****************\n",
      "('accuracy:', 0.7614995787700084)\n",
      "****************\n",
      "('average-per-class accuracy:', 0.9871080853389197)\n"
     ]
    }
   ],
   "source": [
    "print classification_report(y_test, xgb_log_pred)\n",
    "print \"****************\"\n",
    "print('accuracy:', accuracy(y_test, xgb_log_pred))\n",
    "print \"****************\"\n",
    "print('average-per-class accuracy:', macro(y_test, xgb_log_pred))"
   ]
  },
  {
   "cell_type": "markdown",
   "metadata": {
    "nbpresent": {
     "id": "07b4f1f6-7168-475c-b8cd-90107193f7a6"
    }
   },
   "source": [
    "# XGBoost with OneVsRest Classifier with Logistic + CountVectorizer"
   ]
  },
  {
   "cell_type": "code",
   "execution_count": 21,
   "metadata": {
    "collapsed": false,
    "nbpresent": {
     "id": "b3700e0a-658c-48fb-8412-afe3ccab1cf1"
    }
   },
   "outputs": [
    {
     "name": "stdout",
     "output_type": "stream",
     "text": [
      "CPU times: user 7min 24s, sys: 3.16 s, total: 7min 27s\n",
      "Wall time: 9min 51s\n",
      "CPU times: user 20.9 s, sys: 295 ms, total: 21.2 s\n",
      "Wall time: 21.2 s\n",
      "CPU times: user 9.63 s, sys: 158 ms, total: 9.78 s\n",
      "Wall time: 9.79 s\n"
     ]
    }
   ],
   "source": [
    "from sklearn.pipeline import make_pipeline\n",
    "from sklearn.feature_selection import SelectFromModel\n",
    "from sklearn.linear_model import LogisticRegression\n",
    "from sklearn.multiclass import OneVsRestClassifier\n",
    "import xgboost as xgb\n",
    "\n",
    "ovr_xbg_log_pipeline = make_pipeline(StemmedCountVectorizer(ngram_range=(1,2), stop_words='english', max_features=None),\n",
    "                             SelectFromModel(xgb.XGBClassifier(n_estimators=100), threshold=\"median\"),\n",
    "                             OneVsRestClassifier(LogisticRegression(solver='newton-cg', max_iter=50000,class_weight= 'balanced',\n",
    "                                                dual= False, fit_intercept= True, intercept_scaling= 1,\n",
    "                                                multi_class='multinomial',n_jobs=-1,penalty='l2', C=1)))\n",
    "\n",
    "%time ovr_xbg_log_pipeline.fit(text_train,y_train)\n",
    "%time ovr_xgb_log = ovr_xbg_log_pipeline.score(text_train,y_train)\n",
    "%time ovr_xgb_log_pred=ovr_xbg_log_pipeline.predict(text_test)"
   ]
  },
  {
   "cell_type": "code",
   "execution_count": 22,
   "metadata": {
    "collapsed": true,
    "nbpresent": {
     "id": "7b3a4245-5a11-45de-8b44-a59d4fcc51c9"
    }
   },
   "outputs": [
    {
     "name": "stdout",
     "output_type": "stream",
     "text": [
      "             precision    recall  f1-score   support\n",
      "\n",
      "Amazon Launchpad       0.84      0.56      0.67       121\n",
      " Appliances       0.96      0.89      0.92       377\n",
      "Arts, Crafts & Sewing       0.85      0.80      0.82       417\n",
      " Automotive       0.83      0.71      0.76       299\n",
      "       Baby       0.88      0.78      0.83       369\n",
      "     Beauty       0.80      0.78      0.79       196\n",
      "      Books       0.78      0.75      0.76       741\n",
      "Camera & Photo       0.91      0.92      0.91       279\n",
      "Cell Phones & Accessories       0.90      0.90      0.90       175\n",
      "   Clothing       0.86      0.91      0.88       129\n",
      "Collectible Coins       1.00      0.97      0.98        62\n",
      "Computers & Accessories       0.90      0.88      0.89       455\n",
      "Electronics       0.78      0.66      0.71       269\n",
      "Entertainment Collectibles       0.97      0.88      0.92       867\n",
      " Gift Cards       0.99      0.99      0.99       290\n",
      "Grocery & Gourmet Food       0.87      0.95      0.91       748\n",
      "Health & Personal Care       0.67      0.62      0.64       229\n",
      "Home & Kitchen       0.72      0.55      0.63       296\n",
      "Home Improvement       0.63      0.53      0.58       275\n",
      "Industrial & Scientific       0.69      0.67      0.68       568\n",
      "    Jewelry       0.92      0.88      0.89       160\n",
      "Kindle Store       0.71      0.58      0.64       206\n",
      "Kitchen & Dining       0.74      0.76      0.75       282\n",
      "  Magazines       0.51      0.66      0.58       353\n",
      "Movies & TV       0.41      0.64      0.50        90\n",
      "      Music       0.47      0.85      0.61       525\n",
      "Musical Instruments       0.82      0.78      0.80       241\n",
      "Office Products       0.70      0.73      0.71       129\n",
      "Patio, Lawn & Garden       0.70      0.63      0.66       286\n",
      "Pet Supplies       0.76      0.63      0.69       112\n",
      "      Shoes       0.98      0.94      0.96       101\n",
      "   Software       0.87      0.78      0.82       387\n",
      "Sports & Outdoors       0.70      0.31      0.43        51\n",
      "Sports Collectibles       0.91      0.95      0.93       855\n",
      "Toys & Games       0.76      0.69      0.72       530\n",
      "Video Games       0.79      0.80      0.79       272\n",
      "    Watches       0.91      0.92      0.92       128\n",
      "\n",
      "avg / total       0.81      0.79      0.79     11870\n",
      "\n",
      "****************\n",
      "('accuracy:', 0.79031171019376578)\n",
      "****************\n",
      "('average-per-class accuracy:', 0.9886654978483117)\n"
     ]
    }
   ],
   "source": [
    "print classification_report(y_test, ovr_xgb_log_pred)\n",
    "print \"****************\"\n",
    "print('accuracy:', accuracy(y_test, ovr_xgb_log_pred))\n",
    "print \"****************\"\n",
    "print('average-per-class accuracy:', macro(y_test, ovr_xgb_log_pred))"
   ]
  },
  {
   "cell_type": "markdown",
   "metadata": {
    "nbpresent": {
     "id": "022a5645-c1fe-4241-af0b-ae8c7853fde3"
    }
   },
   "source": [
    "# RandomForest with OneVsRest Classifier with SVC + Count"
   ]
  },
  {
   "cell_type": "code",
   "execution_count": 23,
   "metadata": {
    "collapsed": true,
    "nbpresent": {
     "id": "0b82e7c7-9add-43e6-9df6-6045d634d9f2"
    }
   },
   "outputs": [
    {
     "name": "stdout",
     "output_type": "stream",
     "text": [
      "CPU times: user 6min 11s, sys: 2.46 s, total: 6min 14s\n",
      "Wall time: 6min 15s\n",
      "CPU times: user 19.2 s, sys: 342 ms, total: 19.5 s\n",
      "Wall time: 19.4 s\n",
      "CPU times: user 8.54 s, sys: 267 ms, total: 8.8 s\n",
      "Wall time: 8.69 s\n"
     ]
    }
   ],
   "source": [
    "from sklearn.pipeline import make_pipeline\n",
    "from sklearn.feature_selection import SelectFromModel\n",
    "from sklearn.ensemble import RandomForestClassifier\n",
    "from sklearn.multiclass import OneVsRestClassifier\n",
    "from sklearn.svm import LinearSVC\n",
    "import xgboost as xgb\n",
    "\n",
    "ovr_rf_svc_pipeline = make_pipeline(StemmedCountVectorizer(ngram_range=(1,2), stop_words='english', max_features=None),\n",
    "                             SelectFromModel(RandomForestClassifier(n_estimators=100), threshold=\"median\"),\n",
    "                             OneVsRestClassifier(LinearSVC()))\n",
    "\n",
    "%time ovr_rf_svc_pipeline.fit(text_train,y_train)\n",
    "%time ovr_rf_svc = ovr_rf_svc_pipeline.score(text_train,y_train)\n",
    "%time ovr_rf_svc_pred=ovr_rf_svc_pipeline.predict(text_test)"
   ]
  },
  {
   "cell_type": "code",
   "execution_count": 24,
   "metadata": {
    "collapsed": true,
    "nbpresent": {
     "id": "ac262c21-b8d6-490a-8e6f-c60725c00030"
    }
   },
   "outputs": [
    {
     "name": "stdout",
     "output_type": "stream",
     "text": [
      "             precision    recall  f1-score   support\n",
      "\n",
      "Amazon Launchpad       0.85      0.55      0.66       121\n",
      " Appliances       0.95      0.90      0.92       377\n",
      "Arts, Crafts & Sewing       0.83      0.81      0.82       417\n",
      " Automotive       0.82      0.69      0.75       299\n",
      "       Baby       0.86      0.80      0.83       369\n",
      "     Beauty       0.75      0.79      0.77       196\n",
      "      Books       0.77      0.76      0.77       741\n",
      "Camera & Photo       0.90      0.93      0.91       279\n",
      "Cell Phones & Accessories       0.86      0.91      0.88       175\n",
      "   Clothing       0.84      0.91      0.88       129\n",
      "Collectible Coins       0.90      0.98      0.94        62\n",
      "Computers & Accessories       0.87      0.88      0.88       455\n",
      "Electronics       0.73      0.66      0.69       269\n",
      "Entertainment Collectibles       0.96      0.88      0.92       867\n",
      " Gift Cards       0.99      0.99      0.99       290\n",
      "Grocery & Gourmet Food       0.87      0.95      0.91       748\n",
      "Health & Personal Care       0.66      0.59      0.62       229\n",
      "Home & Kitchen       0.65      0.53      0.59       296\n",
      "Home Improvement       0.62      0.53      0.57       275\n",
      "Industrial & Scientific       0.67      0.68      0.67       568\n",
      "    Jewelry       0.91      0.89      0.90       160\n",
      "Kindle Store       0.73      0.55      0.63       206\n",
      "Kitchen & Dining       0.73      0.74      0.73       282\n",
      "  Magazines       0.56      0.58      0.57       353\n",
      "Movies & TV       0.55      0.62      0.58        90\n",
      "      Music       0.50      0.86      0.64       525\n",
      "Musical Instruments       0.81      0.77      0.79       241\n",
      "Office Products       0.70      0.74      0.72       129\n",
      "Patio, Lawn & Garden       0.75      0.62      0.68       286\n",
      "Pet Supplies       0.76      0.66      0.71       112\n",
      "      Shoes       0.96      0.96      0.96       101\n",
      "   Software       0.86      0.80      0.83       387\n",
      "Sports & Outdoors       0.73      0.31      0.44        51\n",
      "Sports Collectibles       0.90      0.96      0.93       855\n",
      "Toys & Games       0.77      0.69      0.73       530\n",
      "Video Games       0.80      0.79      0.80       272\n",
      "    Watches       0.88      0.91      0.89       128\n",
      "\n",
      "avg / total       0.80      0.79      0.79     11870\n",
      "\n",
      "****************\n",
      "('accuracy:', 0.78997472620050546)\n",
      "****************\n",
      "('average-per-class accuracy:', 0.9886472824973246)\n"
     ]
    }
   ],
   "source": [
    "print classification_report(y_test, ovr_xgb_svc_pred)\n",
    "print \"****************\"\n",
    "print('accuracy:', accuracy(y_test, ovr_xgb_svc_pred))\n",
    "print \"****************\"\n",
    "print('average-per-class accuracy:', macro(y_test, ovr_xgb_svc_pred))"
   ]
  },
  {
   "cell_type": "markdown",
   "metadata": {
    "nbpresent": {
     "id": "121f1295-fe1e-48b9-b526-5b8462d4f6c1"
    }
   },
   "source": [
    "# RandomForest with OneVsRest Classifier with SVC + TDIDF"
   ]
  },
  {
   "cell_type": "code",
   "execution_count": 26,
   "metadata": {
    "collapsed": true,
    "nbpresent": {
     "id": "39b736fb-72c7-41ac-9347-868afc83dd3c"
    }
   },
   "outputs": [
    {
     "name": "stdout",
     "output_type": "stream",
     "text": [
      "CPU times: user 5min, sys: 1.25 s, total: 5min 2s\n",
      "Wall time: 5min 2s\n",
      "CPU times: user 34.6 s, sys: 228 ms, total: 34.8 s\n",
      "Wall time: 34.8 s\n",
      "CPU times: user 20.4 s, sys: 522 ms, total: 20.9 s\n",
      "Wall time: 21.2 s\n"
     ]
    }
   ],
   "source": [
    "from sklearn.pipeline import make_pipeline\n",
    "from sklearn.feature_selection import SelectFromModel\n",
    "from sklearn.ensemble import RandomForestClassifier\n",
    "from sklearn.multiclass import OneVsRestClassifier\n",
    "from sklearn.svm import LinearSVC\n",
    "import xgboost as xgb\n",
    "\n",
    "ovr_xbg_svc_pipeline = make_pipeline(StemmedTfidfVectorizer(ngram_range=(1,2), stop_words='english', max_features=None),\n",
    "                             SelectFromModel(RandomForestClassifier(n_estimators=100), threshold=\"median\"),\n",
    "                             OneVsRestClassifier(LinearSVC()))\n",
    "\n",
    "%time ovr_xbg_svc_pipeline.fit(text_train,y_train)\n",
    "%time ovr_xgb_svc = ovr_xbg_svc_pipeline.score(text_train,y_train)\n",
    "%time ovr_xgb_svc_pred=ovr_xbg_svc_pipeline.predict(text_test)"
   ]
  },
  {
   "cell_type": "code",
   "execution_count": 27,
   "metadata": {
    "collapsed": true,
    "nbpresent": {
     "id": "fda5ce87-5a33-48a3-96e1-a5aae0d87769"
    }
   },
   "outputs": [
    {
     "name": "stdout",
     "output_type": "stream",
     "text": [
      "             precision    recall  f1-score   support\n",
      "\n",
      "Amazon Launchpad       0.90      0.53      0.67       121\n",
      " Appliances       0.93      0.91      0.92       377\n",
      "Arts, Crafts & Sewing       0.80      0.84      0.82       417\n",
      " Automotive       0.79      0.73      0.76       299\n",
      "       Baby       0.85      0.83      0.84       369\n",
      "     Beauty       0.76      0.82      0.79       196\n",
      "      Books       0.74      0.82      0.78       741\n",
      "Camera & Photo       0.86      0.95      0.90       279\n",
      "Cell Phones & Accessories       0.87      0.93      0.90       175\n",
      "   Clothing       0.81      0.92      0.86       129\n",
      "Collectible Coins       0.95      1.00      0.98        62\n",
      "Computers & Accessories       0.87      0.92      0.89       455\n",
      "Electronics       0.73      0.71      0.72       269\n",
      "Entertainment Collectibles       0.89      0.92      0.90       867\n",
      " Gift Cards       0.99      1.00      0.99       290\n",
      "Grocery & Gourmet Food       0.83      0.97      0.89       748\n",
      "Health & Personal Care       0.70      0.66      0.68       229\n",
      "Home & Kitchen       0.65      0.57      0.61       296\n",
      "Home Improvement       0.62      0.56      0.59       275\n",
      "Industrial & Scientific       0.64      0.73      0.68       568\n",
      "    Jewelry       0.88      0.91      0.89       160\n",
      "Kindle Store       0.81      0.59      0.69       206\n",
      "Kitchen & Dining       0.74      0.79      0.76       282\n",
      "  Magazines       0.71      0.50      0.59       353\n",
      "Movies & TV       0.67      0.62      0.64        90\n",
      "      Music       0.68      0.71      0.69       525\n",
      "Musical Instruments       0.85      0.80      0.82       241\n",
      "Office Products       0.77      0.74      0.76       129\n",
      "Patio, Lawn & Garden       0.80      0.65      0.71       286\n",
      "Pet Supplies       0.78      0.71      0.75       112\n",
      "      Shoes       0.92      0.97      0.95       101\n",
      "   Software       0.88      0.83      0.85       387\n",
      "Sports & Outdoors       0.68      0.29      0.41        51\n",
      "Sports Collectibles       0.90      0.96      0.93       855\n",
      "Toys & Games       0.77      0.70      0.73       530\n",
      "Video Games       0.86      0.79      0.82       272\n",
      "    Watches       0.90      0.89      0.89       128\n",
      "\n",
      "avg / total       0.80      0.81      0.80     11870\n",
      "\n",
      "****************\n",
      "('accuracy:', 0.80547598989048019)\n",
      "****************\n",
      "('average-per-class accuracy:', 0.9894851886427286)\n"
     ]
    }
   ],
   "source": [
    "print classification_report(y_test, ovr_xgb_svc_pred)\n",
    "print \"****************\"\n",
    "print('accuracy:', accuracy(y_test, ovr_xgb_svc_pred))\n",
    "print \"****************\"\n",
    "print('average-per-class accuracy:', macro(y_test, ovr_xgb_svc_pred))"
   ]
  },
  {
   "cell_type": "markdown",
   "metadata": {
    "nbpresent": {
     "id": "81535399-c3ca-4412-95d9-e9b2d910dfcf"
    }
   },
   "source": [
    "# RandomForest with OneVsRestClassifier with Naive Bayes + count Vectorizer"
   ]
  },
  {
   "cell_type": "code",
   "execution_count": 29,
   "metadata": {
    "collapsed": true,
    "nbpresent": {
     "id": "22f644f3-9422-4603-9d79-f484df9e9bba"
    }
   },
   "outputs": [
    {
     "name": "stdout",
     "output_type": "stream",
     "text": [
      "CPU times: user 5min 35s, sys: 1.56 s, total: 5min 37s\n",
      "Wall time: 5min 37s\n",
      "CPU times: user 19.1 s, sys: 307 ms, total: 19.4 s\n",
      "Wall time: 19.3 s\n",
      "CPU times: user 8.45 s, sys: 217 ms, total: 8.66 s\n",
      "Wall time: 8.61 s\n"
     ]
    }
   ],
   "source": [
    "from sklearn.pipeline import make_pipeline\n",
    "from sklearn.feature_selection import SelectFromModel\n",
    "from sklearn.ensemble import RandomForestClassifier\n",
    "from sklearn.multiclass import OneVsRestClassifier\n",
    "from sklearn.naive_bayes import MultinomialNB\n",
    "import xgboost as xgb\n",
    "\n",
    "ovr_rf_nb_pipeline = make_pipeline(StemmedCountVectorizer(ngram_range=(1,2), stop_words='english', max_features=None),\n",
    "                             SelectFromModel(RandomForestClassifier(n_estimators=100), threshold=\"median\"),\n",
    "                             MultinomialNB())\n",
    "\n",
    "%time ovr_rf_nb_pipeline.fit(text_train,y_train)\n",
    "%time ovr_rf_nb = ovr_rf_nb_pipeline.score(text_train,y_train)\n",
    "%time ovr_rf_nb_pred=ovr_rf_nb_pipeline.predict(text_test)"
   ]
  },
  {
   "cell_type": "code",
   "execution_count": 30,
   "metadata": {
    "collapsed": true,
    "nbpresent": {
     "id": "292f3687-7b36-497a-828d-a9e1cbf4415b"
    }
   },
   "outputs": [
    {
     "name": "stdout",
     "output_type": "stream",
     "text": [
      "             precision    recall  f1-score   support\n",
      "\n",
      "Amazon Launchpad       0.97      0.23      0.37       121\n",
      " Appliances       0.81      0.90      0.85       377\n",
      "Arts, Crafts & Sewing       0.70      0.82      0.75       417\n",
      " Automotive       0.73      0.67      0.70       299\n",
      "       Baby       0.78      0.79      0.79       369\n",
      "     Beauty       0.75      0.64      0.69       196\n",
      "      Books       0.66      0.81      0.73       741\n",
      "Camera & Photo       0.82      0.92      0.87       279\n",
      "Cell Phones & Accessories       0.80      0.87      0.83       175\n",
      "   Clothing       0.89      0.84      0.86       129\n",
      "Collectible Coins       1.00      0.87      0.93        62\n",
      "Computers & Accessories       0.69      0.95      0.80       455\n",
      "Electronics       0.64      0.67      0.66       269\n",
      "Entertainment Collectibles       0.60      0.96      0.74       867\n",
      " Gift Cards       0.96      1.00      0.98       290\n",
      "Grocery & Gourmet Food       0.71      0.98      0.82       748\n",
      "Health & Personal Care       0.74      0.54      0.62       229\n",
      "Home & Kitchen       0.61      0.52      0.56       296\n",
      "Home Improvement       0.68      0.43      0.52       275\n",
      "Industrial & Scientific       0.44      0.81      0.57       568\n",
      "    Jewelry       0.89      0.88      0.89       160\n",
      "Kindle Store       0.91      0.52      0.66       206\n",
      "Kitchen & Dining       0.72      0.72      0.72       282\n",
      "  Magazines       0.92      0.23      0.37       353\n",
      "Movies & TV       0.81      0.24      0.38        90\n",
      "      Music       0.95      0.36      0.52       525\n",
      "Musical Instruments       0.91      0.54      0.67       241\n",
      "Office Products       0.92      0.47      0.62       129\n",
      "Patio, Lawn & Garden       0.92      0.39      0.55       286\n",
      "Pet Supplies       0.88      0.38      0.53       112\n",
      "      Shoes       0.97      0.90      0.93       101\n",
      "   Software       0.85      0.79      0.82       387\n",
      "Sports & Outdoors       0.71      0.10      0.17        51\n",
      "Sports Collectibles       0.85      0.88      0.87       855\n",
      "Toys & Games       0.82      0.59      0.68       530\n",
      "Video Games       0.92      0.62      0.74       272\n",
      "    Watches       0.97      0.75      0.85       128\n",
      "\n",
      "avg / total       0.77      0.73      0.71     11870\n",
      "\n",
      "****************\n",
      "('accuracy:', 0.72796967144060654)\n",
      "****************\n",
      "('average-per-class accuracy:', 0.9852956579157084)\n"
     ]
    }
   ],
   "source": [
    "print classification_report(y_test, ovr_rf_nb_pred)\n",
    "print \"****************\"\n",
    "print('accuracy:', accuracy(y_test, ovr_rf_nb_pred))\n",
    "print \"****************\"\n",
    "print('average-per-class accuracy:', macro(y_test, ovr_rf_nb_pred))"
   ]
  },
  {
   "cell_type": "markdown",
   "metadata": {
    "nbpresent": {
     "id": "0ffb3a73-a4fd-4c59-b6de-224ec9710599"
    }
   },
   "source": [
    "# XGboost with Logistic"
   ]
  },
  {
   "cell_type": "code",
   "execution_count": 10,
   "metadata": {
    "collapsed": false,
    "nbpresent": {
     "id": "934a117d-f72b-4d21-809f-2ddc241eeac9"
    }
   },
   "outputs": [
    {
     "name": "stdout",
     "output_type": "stream",
     "text": [
      "CPU times: user 2h 22min 18s, sys: 2min, total: 2h 24min 18s\n",
      "Wall time: 2h 21min 18s\n",
      "CPU times: user 30.6 s, sys: 456 ms, total: 31.1 s\n",
      "Wall time: 31 s\n",
      "CPU times: user 15 s, sys: 316 ms, total: 15.3 s\n",
      "Wall time: 15.2 s\n"
     ]
    }
   ],
   "source": [
    "from sklearn.pipeline import make_pipeline\n",
    "from sklearn.feature_selection import SelectFromModel\n",
    "from sklearn.linear_model import LogisticRegression\n",
    "#from sklearn.multiclass import OneVsRestClassifier\n",
    "import xgboost as xgb\n",
    "\n",
    "xbg_log_pipeline = make_pipeline(StemmedTfidfVectorizer(ngram_range=(1,3), stop_words='english', max_features=None),\n",
    "                             SelectFromModel(xgb.XGBClassifier(n_estimators=1000), threshold=\"median\"),\n",
    "                             LogisticRegression(solver='newton-cg',multi_class='multinomial', penalty='l2', C=1))\n",
    "\n",
    "%time xbg_log_pipeline.fit(text_train,y_train)\n",
    "%time xgb_log = xbg_log_pipeline.score(text_train,y_train)\n",
    "%time xgb_log_pred=xbg_log_pipeline.predict(text_test)"
   ]
  },
  {
   "cell_type": "code",
   "execution_count": 11,
   "metadata": {
    "collapsed": true,
    "nbpresent": {
     "id": "769375d9-929a-4562-a540-105c37a02745"
    }
   },
   "outputs": [
    {
     "name": "stdout",
     "output_type": "stream",
     "text": [
      "             precision    recall  f1-score   support\n",
      "\n",
      "Amazon Launchpad       0.95      0.15      0.26       121\n",
      " Appliances       0.88      0.88      0.88       377\n",
      "Arts, Crafts & Sewing       0.73      0.76      0.75       417\n",
      " Automotive       0.73      0.54      0.62       299\n",
      "       Baby       0.79      0.78      0.79       369\n",
      "     Beauty       0.78      0.47      0.59       196\n",
      "      Books       0.52      0.87      0.65       741\n",
      "Camera & Photo       0.89      0.90      0.90       279\n",
      "Cell Phones & Accessories       0.74      0.87      0.80       175\n",
      "   Clothing       0.76      0.78      0.77       129\n",
      "Collectible Coins       0.98      0.82      0.89        62\n",
      "Computers & Accessories       0.76      0.92      0.83       455\n",
      "Electronics       0.72      0.59      0.65       269\n",
      "Entertainment Collectibles       0.81      0.91      0.86       867\n",
      " Gift Cards       0.98      0.98      0.98       290\n",
      "Grocery & Gourmet Food       0.68      0.95      0.79       748\n",
      "Health & Personal Care       0.71      0.45      0.55       229\n",
      "Home & Kitchen       0.70      0.49      0.58       296\n",
      "Home Improvement       0.64      0.37      0.47       275\n",
      "Industrial & Scientific       0.46      0.76      0.58       568\n",
      "    Jewelry       0.92      0.89      0.90       160\n",
      "Kindle Store       0.90      0.55      0.68       206\n",
      "Kitchen & Dining       0.70      0.66      0.68       282\n",
      "  Magazines       0.77      0.41      0.54       353\n",
      "Movies & TV       0.94      0.34      0.50        90\n",
      "      Music       0.71      0.59      0.64       525\n",
      "Musical Instruments       0.88      0.49      0.63       241\n",
      "Office Products       0.81      0.37      0.51       129\n",
      "Patio, Lawn & Garden       0.75      0.57      0.65       286\n",
      "Pet Supplies       0.81      0.38      0.51       112\n",
      "      Shoes       0.93      0.83      0.88       101\n",
      "   Software       0.85      0.81      0.83       387\n",
      "Sports & Outdoors       0.00      0.00      0.00        51\n",
      "Sports Collectibles       0.84      0.93      0.88       855\n",
      "Toys & Games       0.71      0.70      0.70       530\n",
      "Video Games       0.88      0.65      0.75       272\n",
      "    Watches       0.90      0.77      0.83       128\n",
      "\n",
      "avg / total       0.75      0.73      0.72     11870\n",
      "\n",
      "****************\n",
      "('accuracy:', 0.73201347935973038)\n",
      "****************\n",
      "('average-per-class accuracy:', 0.9855142421275531)\n"
     ]
    },
    {
     "name": "stderr",
     "output_type": "stream",
     "text": [
      "/Users/rajesh/anaconda/lib/python2.7/site-packages/sklearn/metrics/classification.py:1074: UndefinedMetricWarning: Precision and F-score are ill-defined and being set to 0.0 in labels with no predicted samples.\n",
      "  'precision', 'predicted', average, warn_for)\n"
     ]
    }
   ],
   "source": [
    "print classification_report(y_test, xgb_log_pred)\n",
    "print \"****************\"\n",
    "print('accuracy:', accuracy(y_test, xgb_log_pred))\n",
    "print \"****************\"\n",
    "print('average-per-class accuracy:', macro(y_test, xgb_log_pred))"
   ]
  },
  {
   "cell_type": "markdown",
   "metadata": {
    "nbpresent": {
     "id": "87736b8c-8d17-40fb-9b36-981e17ad49d5"
    }
   },
   "source": [
    "# RF with Logistic"
   ]
  },
  {
   "cell_type": "code",
   "execution_count": 12,
   "metadata": {
    "collapsed": false,
    "nbpresent": {
     "id": "5a965914-b9f3-4c7a-a3e7-2767f726239d"
    }
   },
   "outputs": [
    {
     "name": "stdout",
     "output_type": "stream",
     "text": [
      "CPU times: user 1h 56min 41s, sys: 1min 5s, total: 1h 57min 46s\n",
      "Wall time: 1h 55min 37s\n",
      "CPU times: user 33.8 s, sys: 9.58 s, total: 43.4 s\n",
      "Wall time: 45.9 s\n",
      "CPU times: user 17.5 s, sys: 8.79 s, total: 26.3 s\n",
      "Wall time: 28.1 s\n"
     ]
    }
   ],
   "source": [
    "from sklearn.pipeline import make_pipeline\n",
    "from sklearn.feature_selection import SelectFromModel\n",
    "from sklearn.ensemble import RandomForestClassifier\n",
    "#from sklearn.multiclass import OneVsRestClassifier\n",
    "#from sklearn.svm import LinearSVC\n",
    "from sklearn.linear_model import LogisticRegression\n",
    "#from sklearn.grid_search import GridSearchCV\n",
    "#from sklearn.decomposition import TruncatedSVD\n",
    "\n",
    "\n",
    "rf_log_pipeline = make_pipeline(StemmedTfidfVectorizer(ngram_range=(1,3), stop_words='english', max_features=None),\n",
    "                                SelectFromModel(RandomForestClassifier(n_estimators=1000), threshold=\"median\"),\n",
    "                                LogisticRegression(solver='newton-cg',multi_class='multinomial', penalty='l2', C=1)\n",
    "                               )\n",
    "\n",
    "%time rf_log_pipeline.fit(text_train,y_train)\n",
    "%time rf_log = rf_log_pipeline.score(text_train,y_train)\n",
    "%time rf_log_pred=rf_log_pipeline.predict(text_test)"
   ]
  },
  {
   "cell_type": "code",
   "execution_count": 13,
   "metadata": {
    "collapsed": true,
    "nbpresent": {
     "id": "0459f5b0-fbf6-4506-beeb-14311e4dae08"
    }
   },
   "outputs": [
    {
     "name": "stdout",
     "output_type": "stream",
     "text": [
      "             precision    recall  f1-score   support\n",
      "\n",
      "Amazon Launchpad       0.95      0.15      0.26       121\n",
      " Appliances       0.87      0.88      0.87       377\n",
      "Arts, Crafts & Sewing       0.72      0.75      0.74       417\n",
      " Automotive       0.72      0.53      0.61       299\n",
      "       Baby       0.79      0.78      0.79       369\n",
      "     Beauty       0.77      0.47      0.59       196\n",
      "      Books       0.51      0.86      0.64       741\n",
      "Camera & Photo       0.89      0.89      0.89       279\n",
      "Cell Phones & Accessories       0.75      0.87      0.80       175\n",
      "   Clothing       0.75      0.78      0.76       129\n",
      "Collectible Coins       0.98      0.84      0.90        62\n",
      "Computers & Accessories       0.75      0.92      0.83       455\n",
      "Electronics       0.72      0.59      0.65       269\n",
      "Entertainment Collectibles       0.80      0.92      0.85       867\n",
      " Gift Cards       0.98      0.98      0.98       290\n",
      "Grocery & Gourmet Food       0.68      0.95      0.79       748\n",
      "Health & Personal Care       0.71      0.46      0.56       229\n",
      "Home & Kitchen       0.70      0.49      0.58       296\n",
      "Home Improvement       0.64      0.35      0.45       275\n",
      "Industrial & Scientific       0.47      0.76      0.58       568\n",
      "    Jewelry       0.92      0.89      0.91       160\n",
      "Kindle Store       0.89      0.54      0.67       206\n",
      "Kitchen & Dining       0.69      0.66      0.67       282\n",
      "  Magazines       0.78      0.41      0.54       353\n",
      "Movies & TV       0.91      0.34      0.50        90\n",
      "      Music       0.70      0.57      0.63       525\n",
      "Musical Instruments       0.87      0.49      0.62       241\n",
      "Office Products       0.81      0.37      0.51       129\n",
      "Patio, Lawn & Garden       0.75      0.56      0.64       286\n",
      "Pet Supplies       0.82      0.37      0.51       112\n",
      "      Shoes       0.93      0.83      0.88       101\n",
      "   Software       0.85      0.80      0.83       387\n",
      "Sports & Outdoors       0.00      0.00      0.00        51\n",
      "Sports Collectibles       0.85      0.92      0.88       855\n",
      "Toys & Games       0.71      0.69      0.70       530\n",
      "Video Games       0.88      0.65      0.74       272\n",
      "    Watches       0.90      0.76      0.82       128\n",
      "\n",
      "avg / total       0.75      0.73      0.72     11870\n",
      "\n",
      "****************\n",
      "('accuracy:', 0.72864363942712718)\n",
      "****************\n",
      "('average-per-class accuracy:', 0.9853320886176827)\n"
     ]
    }
   ],
   "source": [
    "print classification_report(y_test, rf_log_pred)\n",
    "print \"****************\"\n",
    "print('accuracy:', accuracy(y_test, rf_log_pred))\n",
    "print \"****************\"\n",
    "print('average-per-class accuracy:', macro(y_test, rf_log_pred))"
   ]
  },
  {
   "cell_type": "markdown",
   "metadata": {},
   "source": [
    "# Xgboost with OVR+Logistic"
   ]
  },
  {
   "cell_type": "code",
   "execution_count": 14,
   "metadata": {
    "collapsed": false
   },
   "outputs": [
    {
     "name": "stdout",
     "output_type": "stream",
     "text": [
      "CPU times: user 2h 18min 2s, sys: 1min 16s, total: 2h 19min 19s\n",
      "Wall time: 2h 17min 39s\n",
      "CPU times: user 31.1 s, sys: 443 ms, total: 31.6 s\n",
      "Wall time: 31.1 s\n",
      "CPU times: user 15.2 s, sys: 397 ms, total: 15.6 s\n",
      "Wall time: 15.4 s\n"
     ]
    }
   ],
   "source": [
    "from sklearn.pipeline import make_pipeline\n",
    "from sklearn.feature_selection import SelectFromModel\n",
    "from sklearn.linear_model import LogisticRegression\n",
    "from sklearn.multiclass import OneVsRestClassifier\n",
    "import xgboost as xgb\n",
    "\n",
    "ovr_xbg_log_pipeline = make_pipeline(StemmedTfidfVectorizer(ngram_range=(1,3), stop_words='english', max_features=None),\n",
    "                                     SelectFromModel(xgb.XGBClassifier(n_estimators=1000), threshold=\"median\"),\n",
    "                                     OneVsRestClassifier(LogisticRegression(solver='newton-cg',multi_class='multinomial', penalty='l2', C=1))\n",
    "                                    )\n",
    "\n",
    "%time ovr_xbg_log_pipeline.fit(text_train,y_train)\n",
    "%time ovr_xgb_log = ovr_xbg_log_pipeline.score(text_train,y_train)\n",
    "%time ovr_xgb_log_pred=ovr_xbg_log_pipeline.predict(text_test)"
   ]
  },
  {
   "cell_type": "code",
   "execution_count": 15,
   "metadata": {
    "collapsed": true
   },
   "outputs": [
    {
     "name": "stdout",
     "output_type": "stream",
     "text": [
      "             precision    recall  f1-score   support\n",
      "\n",
      "Amazon Launchpad       0.94      0.27      0.42       121\n",
      " Appliances       0.88      0.90      0.89       377\n",
      "Arts, Crafts & Sewing       0.73      0.78      0.75       417\n",
      " Automotive       0.74      0.59      0.66       299\n",
      "       Baby       0.81      0.80      0.80       369\n",
      "     Beauty       0.74      0.59      0.66       196\n",
      "      Books       0.57      0.86      0.69       741\n",
      "Camera & Photo       0.90      0.92      0.91       279\n",
      "Cell Phones & Accessories       0.77      0.91      0.83       175\n",
      "   Clothing       0.77      0.85      0.81       129\n",
      "Collectible Coins       0.98      0.94      0.96        62\n",
      "Computers & Accessories       0.79      0.93      0.85       455\n",
      "Electronics       0.75      0.62      0.68       269\n",
      "Entertainment Collectibles       0.87      0.92      0.89       867\n",
      " Gift Cards       0.98      0.99      0.98       290\n",
      "Grocery & Gourmet Food       0.73      0.95      0.83       748\n",
      "Health & Personal Care       0.74      0.54      0.62       229\n",
      "Home & Kitchen       0.68      0.53      0.60       296\n",
      "Home Improvement       0.62      0.44      0.52       275\n",
      "Industrial & Scientific       0.53      0.76      0.63       568\n",
      "    Jewelry       0.91      0.92      0.92       160\n",
      "Kindle Store       0.84      0.55      0.67       206\n",
      "Kitchen & Dining       0.69      0.71      0.70       282\n",
      "  Magazines       0.75      0.46      0.57       353\n",
      "Movies & TV       0.88      0.41      0.56        90\n",
      "      Music       0.73      0.60      0.66       525\n",
      "Musical Instruments       0.88      0.62      0.73       241\n",
      "Office Products       0.81      0.53      0.64       129\n",
      "Patio, Lawn & Garden       0.74      0.61      0.67       286\n",
      "Pet Supplies       0.82      0.50      0.62       112\n",
      "      Shoes       0.91      0.89      0.90       101\n",
      "   Software       0.87      0.83      0.85       387\n",
      "Sports & Outdoors       0.80      0.08      0.14        51\n",
      "Sports Collectibles       0.87      0.93      0.90       855\n",
      "Toys & Games       0.73      0.72      0.72       530\n",
      "Video Games       0.87      0.71      0.78       272\n",
      "    Watches       0.89      0.84      0.87       128\n",
      "\n",
      "avg / total       0.77      0.76      0.75     11870\n",
      "\n",
      "****************\n",
      "('accuracy:', 0.76133108677337824)\n",
      "****************\n",
      "('average-per-class accuracy:', 0.9870989776634258)\n"
     ]
    }
   ],
   "source": [
    "print classification_report(y_test, ovr_xgb_log_pred)\n",
    "print \"****************\"\n",
    "print('accuracy:', accuracy(y_test, ovr_xgb_log_pred))\n",
    "print \"****************\"\n",
    "print('average-per-class accuracy:', macro(y_test, ovr_xgb_log_pred))"
   ]
  },
  {
   "cell_type": "markdown",
   "metadata": {},
   "source": [
    "# RF with ovc + Logistic"
   ]
  },
  {
   "cell_type": "code",
   "execution_count": 16,
   "metadata": {
    "collapsed": true
   },
   "outputs": [
    {
     "ename": "KeyboardInterrupt",
     "evalue": "",
     "output_type": "error",
     "traceback": [
      "\u001b[0;31m---------------------------------------------------------------------------\u001b[0m",
      "\u001b[0;31mKeyboardInterrupt\u001b[0m                         Traceback (most recent call last)",
      "\u001b[0;32m<ipython-input-16-0f61063fa11b>\u001b[0m in \u001b[0;36m<module>\u001b[0;34m()\u001b[0m\n\u001b[1;32m     14\u001b[0m                                )\n\u001b[1;32m     15\u001b[0m \u001b[0;34m\u001b[0m\u001b[0m\n\u001b[0;32m---> 16\u001b[0;31m \u001b[0mget_ipython\u001b[0m\u001b[0;34m(\u001b[0m\u001b[0;34m)\u001b[0m\u001b[0;34m.\u001b[0m\u001b[0mmagic\u001b[0m\u001b[0;34m(\u001b[0m\u001b[0;34mu'time ovc_rf_log_pipeline.fit(text_train,y_train)'\u001b[0m\u001b[0;34m)\u001b[0m\u001b[0;34m\u001b[0m\u001b[0m\n\u001b[0m\u001b[1;32m     17\u001b[0m \u001b[0mget_ipython\u001b[0m\u001b[0;34m(\u001b[0m\u001b[0;34m)\u001b[0m\u001b[0;34m.\u001b[0m\u001b[0mmagic\u001b[0m\u001b[0;34m(\u001b[0m\u001b[0;34mu'time ovc_rf_log = ovc_rf_log_pipeline.score(text_train,y_train)'\u001b[0m\u001b[0;34m)\u001b[0m\u001b[0;34m\u001b[0m\u001b[0m\n\u001b[1;32m     18\u001b[0m \u001b[0mget_ipython\u001b[0m\u001b[0;34m(\u001b[0m\u001b[0;34m)\u001b[0m\u001b[0;34m.\u001b[0m\u001b[0mmagic\u001b[0m\u001b[0;34m(\u001b[0m\u001b[0;34mu'time ovc_rf_log_pred=ovc_rf_log_pipeline.predict(text_test)'\u001b[0m\u001b[0;34m)\u001b[0m\u001b[0;34m\u001b[0m\u001b[0m\n",
      "\u001b[0;32m/Users/rajesh/anaconda/lib/python2.7/site-packages/IPython/core/interactiveshell.pyc\u001b[0m in \u001b[0;36mmagic\u001b[0;34m(self, arg_s)\u001b[0m\n\u001b[1;32m   2156\u001b[0m         \u001b[0mmagic_name\u001b[0m\u001b[0;34m,\u001b[0m \u001b[0m_\u001b[0m\u001b[0;34m,\u001b[0m \u001b[0mmagic_arg_s\u001b[0m \u001b[0;34m=\u001b[0m \u001b[0marg_s\u001b[0m\u001b[0;34m.\u001b[0m\u001b[0mpartition\u001b[0m\u001b[0;34m(\u001b[0m\u001b[0;34m' '\u001b[0m\u001b[0;34m)\u001b[0m\u001b[0;34m\u001b[0m\u001b[0m\n\u001b[1;32m   2157\u001b[0m         \u001b[0mmagic_name\u001b[0m \u001b[0;34m=\u001b[0m \u001b[0mmagic_name\u001b[0m\u001b[0;34m.\u001b[0m\u001b[0mlstrip\u001b[0m\u001b[0;34m(\u001b[0m\u001b[0mprefilter\u001b[0m\u001b[0;34m.\u001b[0m\u001b[0mESC_MAGIC\u001b[0m\u001b[0;34m)\u001b[0m\u001b[0;34m\u001b[0m\u001b[0m\n\u001b[0;32m-> 2158\u001b[0;31m         \u001b[0;32mreturn\u001b[0m \u001b[0mself\u001b[0m\u001b[0;34m.\u001b[0m\u001b[0mrun_line_magic\u001b[0m\u001b[0;34m(\u001b[0m\u001b[0mmagic_name\u001b[0m\u001b[0;34m,\u001b[0m \u001b[0mmagic_arg_s\u001b[0m\u001b[0;34m)\u001b[0m\u001b[0;34m\u001b[0m\u001b[0m\n\u001b[0m\u001b[1;32m   2159\u001b[0m \u001b[0;34m\u001b[0m\u001b[0m\n\u001b[1;32m   2160\u001b[0m     \u001b[0;31m#-------------------------------------------------------------------------\u001b[0m\u001b[0;34m\u001b[0m\u001b[0;34m\u001b[0m\u001b[0m\n",
      "\u001b[0;32m/Users/rajesh/anaconda/lib/python2.7/site-packages/IPython/core/interactiveshell.pyc\u001b[0m in \u001b[0;36mrun_line_magic\u001b[0;34m(self, magic_name, line)\u001b[0m\n\u001b[1;32m   2077\u001b[0m                 \u001b[0mkwargs\u001b[0m\u001b[0;34m[\u001b[0m\u001b[0;34m'local_ns'\u001b[0m\u001b[0;34m]\u001b[0m \u001b[0;34m=\u001b[0m \u001b[0msys\u001b[0m\u001b[0;34m.\u001b[0m\u001b[0m_getframe\u001b[0m\u001b[0;34m(\u001b[0m\u001b[0mstack_depth\u001b[0m\u001b[0;34m)\u001b[0m\u001b[0;34m.\u001b[0m\u001b[0mf_locals\u001b[0m\u001b[0;34m\u001b[0m\u001b[0m\n\u001b[1;32m   2078\u001b[0m             \u001b[0;32mwith\u001b[0m \u001b[0mself\u001b[0m\u001b[0;34m.\u001b[0m\u001b[0mbuiltin_trap\u001b[0m\u001b[0;34m:\u001b[0m\u001b[0;34m\u001b[0m\u001b[0m\n\u001b[0;32m-> 2079\u001b[0;31m                 \u001b[0mresult\u001b[0m \u001b[0;34m=\u001b[0m \u001b[0mfn\u001b[0m\u001b[0;34m(\u001b[0m\u001b[0;34m*\u001b[0m\u001b[0margs\u001b[0m\u001b[0;34m,\u001b[0m\u001b[0;34m**\u001b[0m\u001b[0mkwargs\u001b[0m\u001b[0;34m)\u001b[0m\u001b[0;34m\u001b[0m\u001b[0m\n\u001b[0m\u001b[1;32m   2080\u001b[0m             \u001b[0;32mreturn\u001b[0m \u001b[0mresult\u001b[0m\u001b[0;34m\u001b[0m\u001b[0m\n\u001b[1;32m   2081\u001b[0m \u001b[0;34m\u001b[0m\u001b[0m\n",
      "\u001b[0;32m<decorator-gen-59>\u001b[0m in \u001b[0;36mtime\u001b[0;34m(self, line, cell, local_ns)\u001b[0m\n",
      "\u001b[0;32m/Users/rajesh/anaconda/lib/python2.7/site-packages/IPython/core/magic.pyc\u001b[0m in \u001b[0;36m<lambda>\u001b[0;34m(f, *a, **k)\u001b[0m\n\u001b[1;32m    186\u001b[0m     \u001b[0;31m# but it's overkill for just that one bit of state.\u001b[0m\u001b[0;34m\u001b[0m\u001b[0;34m\u001b[0m\u001b[0m\n\u001b[1;32m    187\u001b[0m     \u001b[0;32mdef\u001b[0m \u001b[0mmagic_deco\u001b[0m\u001b[0;34m(\u001b[0m\u001b[0marg\u001b[0m\u001b[0;34m)\u001b[0m\u001b[0;34m:\u001b[0m\u001b[0;34m\u001b[0m\u001b[0m\n\u001b[0;32m--> 188\u001b[0;31m         \u001b[0mcall\u001b[0m \u001b[0;34m=\u001b[0m \u001b[0;32mlambda\u001b[0m \u001b[0mf\u001b[0m\u001b[0;34m,\u001b[0m \u001b[0;34m*\u001b[0m\u001b[0ma\u001b[0m\u001b[0;34m,\u001b[0m \u001b[0;34m**\u001b[0m\u001b[0mk\u001b[0m\u001b[0;34m:\u001b[0m \u001b[0mf\u001b[0m\u001b[0;34m(\u001b[0m\u001b[0;34m*\u001b[0m\u001b[0ma\u001b[0m\u001b[0;34m,\u001b[0m \u001b[0;34m**\u001b[0m\u001b[0mk\u001b[0m\u001b[0;34m)\u001b[0m\u001b[0;34m\u001b[0m\u001b[0m\n\u001b[0m\u001b[1;32m    189\u001b[0m \u001b[0;34m\u001b[0m\u001b[0m\n\u001b[1;32m    190\u001b[0m         \u001b[0;32mif\u001b[0m \u001b[0mcallable\u001b[0m\u001b[0;34m(\u001b[0m\u001b[0marg\u001b[0m\u001b[0;34m)\u001b[0m\u001b[0;34m:\u001b[0m\u001b[0;34m\u001b[0m\u001b[0m\n",
      "\u001b[0;32m/Users/rajesh/anaconda/lib/python2.7/site-packages/IPython/core/magics/execution.pyc\u001b[0m in \u001b[0;36mtime\u001b[0;34m(self, line, cell, local_ns)\u001b[0m\n\u001b[1;32m   1174\u001b[0m         \u001b[0;32mif\u001b[0m \u001b[0mmode\u001b[0m\u001b[0;34m==\u001b[0m\u001b[0;34m'eval'\u001b[0m\u001b[0;34m:\u001b[0m\u001b[0;34m\u001b[0m\u001b[0m\n\u001b[1;32m   1175\u001b[0m             \u001b[0mst\u001b[0m \u001b[0;34m=\u001b[0m \u001b[0mclock2\u001b[0m\u001b[0;34m(\u001b[0m\u001b[0;34m)\u001b[0m\u001b[0;34m\u001b[0m\u001b[0m\n\u001b[0;32m-> 1176\u001b[0;31m             \u001b[0mout\u001b[0m \u001b[0;34m=\u001b[0m \u001b[0meval\u001b[0m\u001b[0;34m(\u001b[0m\u001b[0mcode\u001b[0m\u001b[0;34m,\u001b[0m \u001b[0mglob\u001b[0m\u001b[0;34m,\u001b[0m \u001b[0mlocal_ns\u001b[0m\u001b[0;34m)\u001b[0m\u001b[0;34m\u001b[0m\u001b[0m\n\u001b[0m\u001b[1;32m   1177\u001b[0m             \u001b[0mend\u001b[0m \u001b[0;34m=\u001b[0m \u001b[0mclock2\u001b[0m\u001b[0;34m(\u001b[0m\u001b[0;34m)\u001b[0m\u001b[0;34m\u001b[0m\u001b[0m\n\u001b[1;32m   1178\u001b[0m         \u001b[0;32melse\u001b[0m\u001b[0;34m:\u001b[0m\u001b[0;34m\u001b[0m\u001b[0m\n",
      "\u001b[0;32m<timed eval>\u001b[0m in \u001b[0;36m<module>\u001b[0;34m()\u001b[0m\n",
      "\u001b[0;32m/Users/rajesh/anaconda/lib/python2.7/site-packages/sklearn/pipeline.pyc\u001b[0m in \u001b[0;36mfit\u001b[0;34m(self, X, y, **fit_params)\u001b[0m\n\u001b[1;32m    162\u001b[0m             \u001b[0mthe\u001b[0m \u001b[0mpipeline\u001b[0m\u001b[0;34m.\u001b[0m\u001b[0;34m\u001b[0m\u001b[0m\n\u001b[1;32m    163\u001b[0m         \"\"\"\n\u001b[0;32m--> 164\u001b[0;31m         \u001b[0mXt\u001b[0m\u001b[0;34m,\u001b[0m \u001b[0mfit_params\u001b[0m \u001b[0;34m=\u001b[0m \u001b[0mself\u001b[0m\u001b[0;34m.\u001b[0m\u001b[0m_pre_transform\u001b[0m\u001b[0;34m(\u001b[0m\u001b[0mX\u001b[0m\u001b[0;34m,\u001b[0m \u001b[0my\u001b[0m\u001b[0;34m,\u001b[0m \u001b[0;34m**\u001b[0m\u001b[0mfit_params\u001b[0m\u001b[0;34m)\u001b[0m\u001b[0;34m\u001b[0m\u001b[0m\n\u001b[0m\u001b[1;32m    165\u001b[0m         \u001b[0mself\u001b[0m\u001b[0;34m.\u001b[0m\u001b[0msteps\u001b[0m\u001b[0;34m[\u001b[0m\u001b[0;34m-\u001b[0m\u001b[0;36m1\u001b[0m\u001b[0;34m]\u001b[0m\u001b[0;34m[\u001b[0m\u001b[0;34m-\u001b[0m\u001b[0;36m1\u001b[0m\u001b[0;34m]\u001b[0m\u001b[0;34m.\u001b[0m\u001b[0mfit\u001b[0m\u001b[0;34m(\u001b[0m\u001b[0mXt\u001b[0m\u001b[0;34m,\u001b[0m \u001b[0my\u001b[0m\u001b[0;34m,\u001b[0m \u001b[0;34m**\u001b[0m\u001b[0mfit_params\u001b[0m\u001b[0;34m)\u001b[0m\u001b[0;34m\u001b[0m\u001b[0m\n\u001b[1;32m    166\u001b[0m         \u001b[0;32mreturn\u001b[0m \u001b[0mself\u001b[0m\u001b[0;34m\u001b[0m\u001b[0m\n",
      "\u001b[0;32m/Users/rajesh/anaconda/lib/python2.7/site-packages/sklearn/pipeline.pyc\u001b[0m in \u001b[0;36m_pre_transform\u001b[0;34m(self, X, y, **fit_params)\u001b[0m\n\u001b[1;32m    143\u001b[0m         \u001b[0;32mfor\u001b[0m \u001b[0mname\u001b[0m\u001b[0;34m,\u001b[0m \u001b[0mtransform\u001b[0m \u001b[0;32min\u001b[0m \u001b[0mself\u001b[0m\u001b[0;34m.\u001b[0m\u001b[0msteps\u001b[0m\u001b[0;34m[\u001b[0m\u001b[0;34m:\u001b[0m\u001b[0;34m-\u001b[0m\u001b[0;36m1\u001b[0m\u001b[0;34m]\u001b[0m\u001b[0;34m:\u001b[0m\u001b[0;34m\u001b[0m\u001b[0m\n\u001b[1;32m    144\u001b[0m             \u001b[0;32mif\u001b[0m \u001b[0mhasattr\u001b[0m\u001b[0;34m(\u001b[0m\u001b[0mtransform\u001b[0m\u001b[0;34m,\u001b[0m \u001b[0;34m\"fit_transform\"\u001b[0m\u001b[0;34m)\u001b[0m\u001b[0;34m:\u001b[0m\u001b[0;34m\u001b[0m\u001b[0m\n\u001b[0;32m--> 145\u001b[0;31m                 \u001b[0mXt\u001b[0m \u001b[0;34m=\u001b[0m \u001b[0mtransform\u001b[0m\u001b[0;34m.\u001b[0m\u001b[0mfit_transform\u001b[0m\u001b[0;34m(\u001b[0m\u001b[0mXt\u001b[0m\u001b[0;34m,\u001b[0m \u001b[0my\u001b[0m\u001b[0;34m,\u001b[0m \u001b[0;34m**\u001b[0m\u001b[0mfit_params_steps\u001b[0m\u001b[0;34m[\u001b[0m\u001b[0mname\u001b[0m\u001b[0;34m]\u001b[0m\u001b[0;34m)\u001b[0m\u001b[0;34m\u001b[0m\u001b[0m\n\u001b[0m\u001b[1;32m    146\u001b[0m             \u001b[0;32melse\u001b[0m\u001b[0;34m:\u001b[0m\u001b[0;34m\u001b[0m\u001b[0m\n\u001b[1;32m    147\u001b[0m                 \u001b[0mXt\u001b[0m \u001b[0;34m=\u001b[0m \u001b[0mtransform\u001b[0m\u001b[0;34m.\u001b[0m\u001b[0mfit\u001b[0m\u001b[0;34m(\u001b[0m\u001b[0mXt\u001b[0m\u001b[0;34m,\u001b[0m \u001b[0my\u001b[0m\u001b[0;34m,\u001b[0m \u001b[0;34m**\u001b[0m\u001b[0mfit_params_steps\u001b[0m\u001b[0;34m[\u001b[0m\u001b[0mname\u001b[0m\u001b[0;34m]\u001b[0m\u001b[0;34m)\u001b[0m\u001b[0;31m \u001b[0m\u001b[0;31m\\\u001b[0m\u001b[0;34m\u001b[0m\u001b[0m\n",
      "\u001b[0;32m/Users/rajesh/anaconda/lib/python2.7/site-packages/sklearn/base.pyc\u001b[0m in \u001b[0;36mfit_transform\u001b[0;34m(self, X, y, **fit_params)\u001b[0m\n\u001b[1;32m    456\u001b[0m         \u001b[0;32melse\u001b[0m\u001b[0;34m:\u001b[0m\u001b[0;34m\u001b[0m\u001b[0m\n\u001b[1;32m    457\u001b[0m             \u001b[0;31m# fit method of arity 2 (supervised transformation)\u001b[0m\u001b[0;34m\u001b[0m\u001b[0;34m\u001b[0m\u001b[0m\n\u001b[0;32m--> 458\u001b[0;31m             \u001b[0;32mreturn\u001b[0m \u001b[0mself\u001b[0m\u001b[0;34m.\u001b[0m\u001b[0mfit\u001b[0m\u001b[0;34m(\u001b[0m\u001b[0mX\u001b[0m\u001b[0;34m,\u001b[0m \u001b[0my\u001b[0m\u001b[0;34m,\u001b[0m \u001b[0;34m**\u001b[0m\u001b[0mfit_params\u001b[0m\u001b[0;34m)\u001b[0m\u001b[0;34m.\u001b[0m\u001b[0mtransform\u001b[0m\u001b[0;34m(\u001b[0m\u001b[0mX\u001b[0m\u001b[0;34m)\u001b[0m\u001b[0;34m\u001b[0m\u001b[0m\n\u001b[0m\u001b[1;32m    459\u001b[0m \u001b[0;34m\u001b[0m\u001b[0m\n\u001b[1;32m    460\u001b[0m \u001b[0;34m\u001b[0m\u001b[0m\n",
      "\u001b[0;32m/Users/rajesh/anaconda/lib/python2.7/site-packages/sklearn/feature_selection/from_model.pyc\u001b[0m in \u001b[0;36mfit\u001b[0;34m(self, X, y, **fit_params)\u001b[0m\n\u001b[1;32m    228\u001b[0m         \u001b[0;32mif\u001b[0m \u001b[0;32mnot\u001b[0m \u001b[0mhasattr\u001b[0m\u001b[0;34m(\u001b[0m\u001b[0mself\u001b[0m\u001b[0;34m,\u001b[0m \u001b[0;34m\"estimator_\"\u001b[0m\u001b[0;34m)\u001b[0m\u001b[0;34m:\u001b[0m\u001b[0;34m\u001b[0m\u001b[0m\n\u001b[1;32m    229\u001b[0m             \u001b[0mself\u001b[0m\u001b[0;34m.\u001b[0m\u001b[0mestimator_\u001b[0m \u001b[0;34m=\u001b[0m \u001b[0mclone\u001b[0m\u001b[0;34m(\u001b[0m\u001b[0mself\u001b[0m\u001b[0;34m.\u001b[0m\u001b[0mestimator\u001b[0m\u001b[0;34m)\u001b[0m\u001b[0;34m\u001b[0m\u001b[0m\n\u001b[0;32m--> 230\u001b[0;31m         \u001b[0mself\u001b[0m\u001b[0;34m.\u001b[0m\u001b[0mestimator_\u001b[0m\u001b[0;34m.\u001b[0m\u001b[0mfit\u001b[0m\u001b[0;34m(\u001b[0m\u001b[0mX\u001b[0m\u001b[0;34m,\u001b[0m \u001b[0my\u001b[0m\u001b[0;34m,\u001b[0m \u001b[0;34m**\u001b[0m\u001b[0mfit_params\u001b[0m\u001b[0;34m)\u001b[0m\u001b[0;34m\u001b[0m\u001b[0m\n\u001b[0m\u001b[1;32m    231\u001b[0m         \u001b[0;32mreturn\u001b[0m \u001b[0mself\u001b[0m\u001b[0;34m\u001b[0m\u001b[0m\n\u001b[1;32m    232\u001b[0m \u001b[0;34m\u001b[0m\u001b[0m\n",
      "\u001b[0;32m/Users/rajesh/anaconda/lib/python2.7/site-packages/sklearn/ensemble/forest.pyc\u001b[0m in \u001b[0;36mfit\u001b[0;34m(self, X, y, sample_weight)\u001b[0m\n\u001b[1;32m    288\u001b[0m                     \u001b[0mt\u001b[0m\u001b[0;34m,\u001b[0m \u001b[0mself\u001b[0m\u001b[0;34m,\u001b[0m \u001b[0mX\u001b[0m\u001b[0;34m,\u001b[0m \u001b[0my\u001b[0m\u001b[0;34m,\u001b[0m \u001b[0msample_weight\u001b[0m\u001b[0;34m,\u001b[0m \u001b[0mi\u001b[0m\u001b[0;34m,\u001b[0m \u001b[0mlen\u001b[0m\u001b[0;34m(\u001b[0m\u001b[0mtrees\u001b[0m\u001b[0;34m)\u001b[0m\u001b[0;34m,\u001b[0m\u001b[0;34m\u001b[0m\u001b[0m\n\u001b[1;32m    289\u001b[0m                     verbose=self.verbose, class_weight=self.class_weight)\n\u001b[0;32m--> 290\u001b[0;31m                 for i, t in enumerate(trees))\n\u001b[0m\u001b[1;32m    291\u001b[0m \u001b[0;34m\u001b[0m\u001b[0m\n\u001b[1;32m    292\u001b[0m             \u001b[0;31m# Collect newly grown trees\u001b[0m\u001b[0;34m\u001b[0m\u001b[0;34m\u001b[0m\u001b[0m\n",
      "\u001b[0;32m/Users/rajesh/anaconda/lib/python2.7/site-packages/sklearn/externals/joblib/parallel.pyc\u001b[0m in \u001b[0;36m__call__\u001b[0;34m(self, iterable)\u001b[0m\n\u001b[1;32m    798\u001b[0m             \u001b[0;31m# was dispatched. In particular this covers the edge\u001b[0m\u001b[0;34m\u001b[0m\u001b[0;34m\u001b[0m\u001b[0m\n\u001b[1;32m    799\u001b[0m             \u001b[0;31m# case of Parallel used with an exhausted iterator.\u001b[0m\u001b[0;34m\u001b[0m\u001b[0;34m\u001b[0m\u001b[0m\n\u001b[0;32m--> 800\u001b[0;31m             \u001b[0;32mwhile\u001b[0m \u001b[0mself\u001b[0m\u001b[0;34m.\u001b[0m\u001b[0mdispatch_one_batch\u001b[0m\u001b[0;34m(\u001b[0m\u001b[0miterator\u001b[0m\u001b[0;34m)\u001b[0m\u001b[0;34m:\u001b[0m\u001b[0;34m\u001b[0m\u001b[0m\n\u001b[0m\u001b[1;32m    801\u001b[0m                 \u001b[0mself\u001b[0m\u001b[0;34m.\u001b[0m\u001b[0m_iterating\u001b[0m \u001b[0;34m=\u001b[0m \u001b[0mTrue\u001b[0m\u001b[0;34m\u001b[0m\u001b[0m\n\u001b[1;32m    802\u001b[0m             \u001b[0;32melse\u001b[0m\u001b[0;34m:\u001b[0m\u001b[0;34m\u001b[0m\u001b[0m\n",
      "\u001b[0;32m/Users/rajesh/anaconda/lib/python2.7/site-packages/sklearn/externals/joblib/parallel.pyc\u001b[0m in \u001b[0;36mdispatch_one_batch\u001b[0;34m(self, iterator)\u001b[0m\n\u001b[1;32m    656\u001b[0m                 \u001b[0;32mreturn\u001b[0m \u001b[0mFalse\u001b[0m\u001b[0;34m\u001b[0m\u001b[0m\n\u001b[1;32m    657\u001b[0m             \u001b[0;32melse\u001b[0m\u001b[0;34m:\u001b[0m\u001b[0;34m\u001b[0m\u001b[0m\n\u001b[0;32m--> 658\u001b[0;31m                 \u001b[0mself\u001b[0m\u001b[0;34m.\u001b[0m\u001b[0m_dispatch\u001b[0m\u001b[0;34m(\u001b[0m\u001b[0mtasks\u001b[0m\u001b[0;34m)\u001b[0m\u001b[0;34m\u001b[0m\u001b[0m\n\u001b[0m\u001b[1;32m    659\u001b[0m                 \u001b[0;32mreturn\u001b[0m \u001b[0mTrue\u001b[0m\u001b[0;34m\u001b[0m\u001b[0m\n\u001b[1;32m    660\u001b[0m \u001b[0;34m\u001b[0m\u001b[0m\n",
      "\u001b[0;32m/Users/rajesh/anaconda/lib/python2.7/site-packages/sklearn/externals/joblib/parallel.pyc\u001b[0m in \u001b[0;36m_dispatch\u001b[0;34m(self, batch)\u001b[0m\n\u001b[1;32m    564\u001b[0m \u001b[0;34m\u001b[0m\u001b[0m\n\u001b[1;32m    565\u001b[0m         \u001b[0;32mif\u001b[0m \u001b[0mself\u001b[0m\u001b[0;34m.\u001b[0m\u001b[0m_pool\u001b[0m \u001b[0;32mis\u001b[0m \u001b[0mNone\u001b[0m\u001b[0;34m:\u001b[0m\u001b[0;34m\u001b[0m\u001b[0m\n\u001b[0;32m--> 566\u001b[0;31m             \u001b[0mjob\u001b[0m \u001b[0;34m=\u001b[0m \u001b[0mImmediateComputeBatch\u001b[0m\u001b[0;34m(\u001b[0m\u001b[0mbatch\u001b[0m\u001b[0;34m)\u001b[0m\u001b[0;34m\u001b[0m\u001b[0m\n\u001b[0m\u001b[1;32m    567\u001b[0m             \u001b[0mself\u001b[0m\u001b[0;34m.\u001b[0m\u001b[0m_jobs\u001b[0m\u001b[0;34m.\u001b[0m\u001b[0mappend\u001b[0m\u001b[0;34m(\u001b[0m\u001b[0mjob\u001b[0m\u001b[0;34m)\u001b[0m\u001b[0;34m\u001b[0m\u001b[0m\n\u001b[1;32m    568\u001b[0m             \u001b[0mself\u001b[0m\u001b[0;34m.\u001b[0m\u001b[0mn_dispatched_batches\u001b[0m \u001b[0;34m+=\u001b[0m \u001b[0;36m1\u001b[0m\u001b[0;34m\u001b[0m\u001b[0m\n",
      "\u001b[0;32m/Users/rajesh/anaconda/lib/python2.7/site-packages/sklearn/externals/joblib/parallel.pyc\u001b[0m in \u001b[0;36m__init__\u001b[0;34m(self, batch)\u001b[0m\n\u001b[1;32m    178\u001b[0m         \u001b[0;31m# Don't delay the application, to avoid keeping the input\u001b[0m\u001b[0;34m\u001b[0m\u001b[0;34m\u001b[0m\u001b[0m\n\u001b[1;32m    179\u001b[0m         \u001b[0;31m# arguments in memory\u001b[0m\u001b[0;34m\u001b[0m\u001b[0;34m\u001b[0m\u001b[0m\n\u001b[0;32m--> 180\u001b[0;31m         \u001b[0mself\u001b[0m\u001b[0;34m.\u001b[0m\u001b[0mresults\u001b[0m \u001b[0;34m=\u001b[0m \u001b[0mbatch\u001b[0m\u001b[0;34m(\u001b[0m\u001b[0;34m)\u001b[0m\u001b[0;34m\u001b[0m\u001b[0m\n\u001b[0m\u001b[1;32m    181\u001b[0m \u001b[0;34m\u001b[0m\u001b[0m\n\u001b[1;32m    182\u001b[0m     \u001b[0;32mdef\u001b[0m \u001b[0mget\u001b[0m\u001b[0;34m(\u001b[0m\u001b[0mself\u001b[0m\u001b[0;34m)\u001b[0m\u001b[0;34m:\u001b[0m\u001b[0;34m\u001b[0m\u001b[0m\n",
      "\u001b[0;32m/Users/rajesh/anaconda/lib/python2.7/site-packages/sklearn/externals/joblib/parallel.pyc\u001b[0m in \u001b[0;36m__call__\u001b[0;34m(self)\u001b[0m\n\u001b[1;32m     70\u001b[0m \u001b[0;34m\u001b[0m\u001b[0m\n\u001b[1;32m     71\u001b[0m     \u001b[0;32mdef\u001b[0m \u001b[0m__call__\u001b[0m\u001b[0;34m(\u001b[0m\u001b[0mself\u001b[0m\u001b[0;34m)\u001b[0m\u001b[0;34m:\u001b[0m\u001b[0;34m\u001b[0m\u001b[0m\n\u001b[0;32m---> 72\u001b[0;31m         \u001b[0;32mreturn\u001b[0m \u001b[0;34m[\u001b[0m\u001b[0mfunc\u001b[0m\u001b[0;34m(\u001b[0m\u001b[0;34m*\u001b[0m\u001b[0margs\u001b[0m\u001b[0;34m,\u001b[0m \u001b[0;34m**\u001b[0m\u001b[0mkwargs\u001b[0m\u001b[0;34m)\u001b[0m \u001b[0;32mfor\u001b[0m \u001b[0mfunc\u001b[0m\u001b[0;34m,\u001b[0m \u001b[0margs\u001b[0m\u001b[0;34m,\u001b[0m \u001b[0mkwargs\u001b[0m \u001b[0;32min\u001b[0m \u001b[0mself\u001b[0m\u001b[0;34m.\u001b[0m\u001b[0mitems\u001b[0m\u001b[0;34m]\u001b[0m\u001b[0;34m\u001b[0m\u001b[0m\n\u001b[0m\u001b[1;32m     73\u001b[0m \u001b[0;34m\u001b[0m\u001b[0m\n\u001b[1;32m     74\u001b[0m     \u001b[0;32mdef\u001b[0m \u001b[0m__len__\u001b[0m\u001b[0;34m(\u001b[0m\u001b[0mself\u001b[0m\u001b[0;34m)\u001b[0m\u001b[0;34m:\u001b[0m\u001b[0;34m\u001b[0m\u001b[0m\n",
      "\u001b[0;32m/Users/rajesh/anaconda/lib/python2.7/site-packages/sklearn/ensemble/forest.pyc\u001b[0m in \u001b[0;36m_parallel_build_trees\u001b[0;34m(tree, forest, X, y, sample_weight, tree_idx, n_trees, verbose, class_weight)\u001b[0m\n\u001b[1;32m    114\u001b[0m             \u001b[0mcurr_sample_weight\u001b[0m \u001b[0;34m*=\u001b[0m \u001b[0mcompute_sample_weight\u001b[0m\u001b[0;34m(\u001b[0m\u001b[0;34m'balanced'\u001b[0m\u001b[0;34m,\u001b[0m \u001b[0my\u001b[0m\u001b[0;34m,\u001b[0m \u001b[0mindices\u001b[0m\u001b[0;34m)\u001b[0m\u001b[0;34m\u001b[0m\u001b[0m\n\u001b[1;32m    115\u001b[0m \u001b[0;34m\u001b[0m\u001b[0m\n\u001b[0;32m--> 116\u001b[0;31m         \u001b[0mtree\u001b[0m\u001b[0;34m.\u001b[0m\u001b[0mfit\u001b[0m\u001b[0;34m(\u001b[0m\u001b[0mX\u001b[0m\u001b[0;34m,\u001b[0m \u001b[0my\u001b[0m\u001b[0;34m,\u001b[0m \u001b[0msample_weight\u001b[0m\u001b[0;34m=\u001b[0m\u001b[0mcurr_sample_weight\u001b[0m\u001b[0;34m,\u001b[0m \u001b[0mcheck_input\u001b[0m\u001b[0;34m=\u001b[0m\u001b[0mFalse\u001b[0m\u001b[0;34m)\u001b[0m\u001b[0;34m\u001b[0m\u001b[0m\n\u001b[0m\u001b[1;32m    117\u001b[0m     \u001b[0;32melse\u001b[0m\u001b[0;34m:\u001b[0m\u001b[0;34m\u001b[0m\u001b[0m\n\u001b[1;32m    118\u001b[0m         \u001b[0mtree\u001b[0m\u001b[0;34m.\u001b[0m\u001b[0mfit\u001b[0m\u001b[0;34m(\u001b[0m\u001b[0mX\u001b[0m\u001b[0;34m,\u001b[0m \u001b[0my\u001b[0m\u001b[0;34m,\u001b[0m \u001b[0msample_weight\u001b[0m\u001b[0;34m=\u001b[0m\u001b[0msample_weight\u001b[0m\u001b[0;34m,\u001b[0m \u001b[0mcheck_input\u001b[0m\u001b[0;34m=\u001b[0m\u001b[0mFalse\u001b[0m\u001b[0;34m)\u001b[0m\u001b[0;34m\u001b[0m\u001b[0m\n",
      "\u001b[0;32m/Users/rajesh/anaconda/lib/python2.7/site-packages/sklearn/tree/tree.pyc\u001b[0m in \u001b[0;36mfit\u001b[0;34m(self, X, y, sample_weight, check_input, X_idx_sorted)\u001b[0m\n\u001b[1;32m    348\u001b[0m                                            max_leaf_nodes)\n\u001b[1;32m    349\u001b[0m \u001b[0;34m\u001b[0m\u001b[0m\n\u001b[0;32m--> 350\u001b[0;31m         \u001b[0mbuilder\u001b[0m\u001b[0;34m.\u001b[0m\u001b[0mbuild\u001b[0m\u001b[0;34m(\u001b[0m\u001b[0mself\u001b[0m\u001b[0;34m.\u001b[0m\u001b[0mtree_\u001b[0m\u001b[0;34m,\u001b[0m \u001b[0mX\u001b[0m\u001b[0;34m,\u001b[0m \u001b[0my\u001b[0m\u001b[0;34m,\u001b[0m \u001b[0msample_weight\u001b[0m\u001b[0;34m,\u001b[0m \u001b[0mX_idx_sorted\u001b[0m\u001b[0;34m)\u001b[0m\u001b[0;34m\u001b[0m\u001b[0m\n\u001b[0m\u001b[1;32m    351\u001b[0m \u001b[0;34m\u001b[0m\u001b[0m\n\u001b[1;32m    352\u001b[0m         \u001b[0;32mif\u001b[0m \u001b[0mself\u001b[0m\u001b[0;34m.\u001b[0m\u001b[0mn_outputs_\u001b[0m \u001b[0;34m==\u001b[0m \u001b[0;36m1\u001b[0m\u001b[0;34m:\u001b[0m\u001b[0;34m\u001b[0m\u001b[0m\n",
      "\u001b[0;31mKeyboardInterrupt\u001b[0m: "
     ]
    }
   ],
   "source": [
    "from sklearn.pipeline import make_pipeline\n",
    "from sklearn.feature_selection import SelectFromModel\n",
    "from sklearn.ensemble import RandomForestClassifier\n",
    "from sklearn.multiclass import OneVsRestClassifier\n",
    "#from sklearn.svm import LinearSVC\n",
    "from sklearn.linear_model import LogisticRegression\n",
    "#from sklearn.grid_search import GridSearchCV\n",
    "#from sklearn.decomposition import TruncatedSVD\n",
    "\n",
    "\n",
    "ovc_rf_log_pipeline = make_pipeline(StemmedTfidfVectorizer(ngram_range=(1,3), stop_words='english', max_features=None),\n",
    "                                SelectFromModel(RandomForestClassifier(n_estimators=1000), threshold=\"median\"),\n",
    "                                OneVsRestClassifier(LogisticRegression(solver='newton-cg',multi_class='multinomial', penalty='l2', C=1))\n",
    "                               )\n",
    "\n",
    "%time ovc_rf_log_pipeline.fit(text_train,y_train)\n",
    "%time ovc_rf_log = ovc_rf_log_pipeline.score(text_train,y_train)\n",
    "%time ovc_rf_log_pred=ovc_rf_log_pipeline.predict(text_test)"
   ]
  },
  {
   "cell_type": "code",
   "execution_count": 17,
   "metadata": {
    "collapsed": true
   },
   "outputs": [
    {
     "ename": "NameError",
     "evalue": "name 'ovc_rf_log_pred' is not defined",
     "output_type": "error",
     "traceback": [
      "\u001b[0;31m---------------------------------------------------------------------------\u001b[0m",
      "\u001b[0;31mNameError\u001b[0m                                 Traceback (most recent call last)",
      "\u001b[0;32m<ipython-input-17-694e9cfa5569>\u001b[0m in \u001b[0;36m<module>\u001b[0;34m()\u001b[0m\n\u001b[0;32m----> 1\u001b[0;31m \u001b[0;32mprint\u001b[0m \u001b[0mclassification_report\u001b[0m\u001b[0;34m(\u001b[0m\u001b[0my_test\u001b[0m\u001b[0;34m,\u001b[0m \u001b[0movc_rf_log_pred\u001b[0m\u001b[0;34m)\u001b[0m\u001b[0;34m\u001b[0m\u001b[0m\n\u001b[0m\u001b[1;32m      2\u001b[0m \u001b[0;32mprint\u001b[0m \u001b[0;34m\"****************\"\u001b[0m\u001b[0;34m\u001b[0m\u001b[0m\n\u001b[1;32m      3\u001b[0m \u001b[0;32mprint\u001b[0m\u001b[0;34m(\u001b[0m\u001b[0;34m'accuracy:'\u001b[0m\u001b[0;34m,\u001b[0m \u001b[0maccuracy\u001b[0m\u001b[0;34m(\u001b[0m\u001b[0my_test\u001b[0m\u001b[0;34m,\u001b[0m \u001b[0movc_rf_log_pred\u001b[0m\u001b[0;34m)\u001b[0m\u001b[0;34m)\u001b[0m\u001b[0;34m\u001b[0m\u001b[0m\n\u001b[1;32m      4\u001b[0m \u001b[0;32mprint\u001b[0m \u001b[0;34m\"****************\"\u001b[0m\u001b[0;34m\u001b[0m\u001b[0m\n\u001b[1;32m      5\u001b[0m \u001b[0;32mprint\u001b[0m\u001b[0;34m(\u001b[0m\u001b[0;34m'average-per-class accuracy:'\u001b[0m\u001b[0;34m,\u001b[0m \u001b[0mmacro\u001b[0m\u001b[0;34m(\u001b[0m\u001b[0my_test\u001b[0m\u001b[0;34m,\u001b[0m \u001b[0movc_rf_log_pred\u001b[0m\u001b[0;34m)\u001b[0m\u001b[0;34m)\u001b[0m\u001b[0;34m\u001b[0m\u001b[0m\n",
      "\u001b[0;31mNameError\u001b[0m: name 'ovc_rf_log_pred' is not defined"
     ]
    }
   ],
   "source": [
    "print classification_report(y_test, ovc_rf_log_pred)\n",
    "print \"****************\"\n",
    "print('accuracy:', accuracy(y_test, ovc_rf_log_pred))\n",
    "print \"****************\"\n",
    "print('average-per-class accuracy:', macro(y_test, ovc_rf_log_pred))"
   ]
  },
  {
   "cell_type": "markdown",
   "metadata": {},
   "source": [
    "# Experiments"
   ]
  },
  {
   "cell_type": "code",
   "execution_count": 7,
   "metadata": {
    "collapsed": false
   },
   "outputs": [
    {
     "name": "stdout",
     "output_type": "stream",
     "text": [
      "CPU times: user 30.1 s, sys: 414 ms, total: 30.5 s\n",
      "Wall time: 30.5 s\n",
      "CPU times: user 29.1 s, sys: 205 ms, total: 29.3 s\n",
      "Wall time: 29.4 s\n",
      "CPU times: user 12.4 s, sys: 81.4 ms, total: 12.5 s\n",
      "Wall time: 12.5 s\n"
     ]
    }
   ],
   "source": [
    "from sklearn.pipeline import make_pipeline\n",
    "#from sklearn.decomposition import PCA\n",
    "#from sklearn.decomposition import TruncatedSVD\n",
    "#from sklearn.linear_model import LogisticRegression\n",
    "#from sklearn.svm import LinearSVC\n",
    "#from sklearn.feature_selection import SelectKBest,chi2, SelectFromModel, VarianceThreshold\n",
    "#from sklearn.ensemble import RandomForestClassifier\n",
    "#from sklearn.multiclass import OneVsRestClassifier\n",
    "from sklearn.naive_bayes import MultinomialNB\n",
    "#import xgboost as xgb\n",
    "\n",
    "#del exp_pipeline\n",
    "\n",
    "exp_pipeline = make_pipeline(StemmedCountVectorizer(ngram_range=(1,3), stop_words='english', max_features=None),\\\n",
    "                             MultinomialNB())\n",
    "                             #TruncatedSVD(n_components=100),\n",
    "                             #LinearSVC())\n",
    "                             #OneVsRestClassifier(LogisticRegression(solver='newton-cg', multi_class='multinomial', C =1)))\n",
    "\n",
    "%time exp_pipeline.fit(text_train,y_train)\n",
    "%time exp = exp_pipeline.score(text_train,y_train)\n",
    "%time exp_pred =exp_pipeline.predict(text_test)"
   ]
  },
  {
   "cell_type": "code",
   "execution_count": 8,
   "metadata": {
    "collapsed": true
   },
   "outputs": [
    {
     "name": "stdout",
     "output_type": "stream",
     "text": [
      "             precision    recall  f1-score   support\n",
      "\n",
      "Amazon Launchpad       0.92      0.27      0.42       121\n",
      " Appliances       0.80      0.91      0.85       377\n",
      "Arts, Crafts & Sewing       0.72      0.83      0.77       417\n",
      " Automotive       0.77      0.67      0.72       299\n",
      "       Baby       0.76      0.82      0.79       369\n",
      "     Beauty       0.84      0.65      0.73       196\n",
      "      Books       0.65      0.79      0.71       741\n",
      "Camera & Photo       0.85      0.93      0.89       279\n",
      "Cell Phones & Accessories       0.77      0.90      0.83       175\n",
      "   Clothing       0.87      0.74      0.80       129\n",
      "Collectible Coins       1.00      0.90      0.95        62\n",
      "Computers & Accessories       0.67      0.93      0.78       455\n",
      "Electronics       0.70      0.66      0.68       269\n",
      "Entertainment Collectibles       0.59      0.97      0.73       867\n",
      " Gift Cards       0.97      0.99      0.98       290\n",
      "Grocery & Gourmet Food       0.71      0.97      0.82       748\n",
      "Health & Personal Care       0.77      0.51      0.61       229\n",
      "Home & Kitchen       0.61      0.53      0.57       296\n",
      "Home Improvement       0.66      0.40      0.50       275\n",
      "Industrial & Scientific       0.40      0.84      0.55       568\n",
      "    Jewelry       0.91      0.86      0.89       160\n",
      "Kindle Store       0.91      0.53      0.67       206\n",
      "Kitchen & Dining       0.74      0.67      0.70       282\n",
      "  Magazines       0.87      0.19      0.31       353\n",
      "Movies & TV       0.96      0.30      0.46        90\n",
      "      Music       0.93      0.31      0.47       525\n",
      "Musical Instruments       0.96      0.49      0.65       241\n",
      "Office Products       0.94      0.37      0.53       129\n",
      "Patio, Lawn & Garden       0.91      0.44      0.59       286\n",
      "Pet Supplies       0.97      0.33      0.49       112\n",
      "      Shoes       0.96      0.88      0.92       101\n",
      "   Software       0.87      0.83      0.85       387\n",
      "Sports & Outdoors       0.70      0.14      0.23        51\n",
      "Sports Collectibles       0.85      0.88      0.86       855\n",
      "Toys & Games       0.82      0.59      0.69       530\n",
      "Video Games       0.96      0.60      0.74       272\n",
      "    Watches       0.99      0.69      0.81       128\n",
      "\n",
      "avg / total       0.77      0.72      0.71     11870\n",
      "\n",
      "****************\n",
      "('accuracy:', 0.72224094355518109)\n",
      "****************\n",
      "('average-per-class accuracy:', 0.9849859969489287)\n"
     ]
    }
   ],
   "source": [
    "print classification_report(y_test, exp_pred)\n",
    "print \"****************\"\n",
    "print('accuracy:', accuracy(y_test, exp_pred))\n",
    "print \"****************\"\n",
    "print('average-per-class accuracy:', macro(y_test, exp_pred))"
   ]
  },
  {
   "cell_type": "code",
   "execution_count": 49,
   "metadata": {
    "collapsed": false
   },
   "outputs": [
    {
     "ename": "NameError",
     "evalue": "name 'p' is not defined",
     "output_type": "error",
     "traceback": [
      "\u001b[0;31m---------------------------------------------------------------------------\u001b[0m",
      "\u001b[0;31mNameError\u001b[0m                                 Traceback (most recent call last)",
      "\u001b[0;32m<ipython-input-49-254979d8e9ec>\u001b[0m in \u001b[0;36m<module>\u001b[0;34m()\u001b[0m\n\u001b[1;32m      1\u001b[0m \u001b[0;31m#F, p = chi2(StemmedTfidfVectorizer(ngram_range=(1,3), stop_words='english', max_features=None).fit_transform(text_train),y_train)\u001b[0m\u001b[0;34m\u001b[0m\u001b[0;34m\u001b[0m\u001b[0m\n\u001b[0;32m----> 2\u001b[0;31m \u001b[0;32mprint\u001b[0m \u001b[0mlen\u001b[0m\u001b[0;34m(\u001b[0m\u001b[0mp\u001b[0m\u001b[0;34m[\u001b[0m\u001b[0mnp\u001b[0m\u001b[0;34m.\u001b[0m\u001b[0mwhere\u001b[0m\u001b[0;34m(\u001b[0m\u001b[0mp\u001b[0m\u001b[0;34m<=\u001b[0m\u001b[0;36m0.5\u001b[0m\u001b[0;34m)\u001b[0m\u001b[0;34m]\u001b[0m\u001b[0;34m)\u001b[0m\u001b[0;34m\u001b[0m\u001b[0m\n\u001b[0m",
      "\u001b[0;31mNameError\u001b[0m: name 'p' is not defined"
     ]
    }
   ],
   "source": [
    "#F, p = chi2(StemmedTfidfVectorizer(ngram_range=(1,3), stop_words='english', max_features=None).fit_transform(text_train),y_train)\n",
    "print len(p[np.where(p<=0.5)]) "
   ]
  }
 ],
 "metadata": {
  "anaconda-cloud": {},
  "kernelspec": {
   "display_name": "Python [conda root]",
   "language": "python",
   "name": "conda-root-py"
  },
  "language_info": {
   "codemirror_mode": {
    "name": "ipython",
    "version": 2
   },
   "file_extension": ".py",
   "mimetype": "text/x-python",
   "name": "python",
   "nbconvert_exporter": "python",
   "pygments_lexer": "ipython2",
   "version": "2.7.12"
  },
  "nbpresent": {
   "slides": {
    "020b838c-0900-4213-93eb-1edf18b06583": {
     "id": "020b838c-0900-4213-93eb-1edf18b06583",
     "prev": "b936bb50-1bdb-4aec-ab89-723c518d2334",
     "regions": {
      "a7c8dabe-928e-4ea5-904b-983949416e5a": {
       "attrs": {
        "height": 0.8,
        "width": 0.8,
        "x": 0.1,
        "y": 0.1
       },
       "content": {
        "cell": "dd7a522c-0d62-41da-9082-c8b0c06cbaed",
        "part": "whole"
       },
       "id": "a7c8dabe-928e-4ea5-904b-983949416e5a"
      }
     }
    },
    "03c1d264-aa37-4755-a211-209c16c82040": {
     "id": "03c1d264-aa37-4755-a211-209c16c82040",
     "prev": "22444545-61d7-494c-9a16-a78864908a60",
     "regions": {
      "883332e8-12e2-41e0-8246-858498319eb4": {
       "attrs": {
        "height": 0.8,
        "width": 0.8,
        "x": 0.1,
        "y": 0.1
       },
       "content": {
        "cell": "6bfea4b1-0b81-45b2-a234-415b82817c0e",
        "part": "whole"
       },
       "id": "883332e8-12e2-41e0-8246-858498319eb4"
      }
     }
    },
    "06d0d81f-acb6-4f74-9639-aa7b0fa873c3": {
     "id": "06d0d81f-acb6-4f74-9639-aa7b0fa873c3",
     "prev": "b97397ba-eb01-4794-a9c2-c0d985179d23",
     "regions": {
      "c321f02e-5a9b-474b-a8bd-2b6fbd265f02": {
       "attrs": {
        "height": 0.8,
        "width": 0.8,
        "x": 0.1,
        "y": 0.1
       },
       "content": {
        "cell": "d8f3efd3-0cf8-45d3-8a57-c14362e9b679",
        "part": "whole"
       },
       "id": "c321f02e-5a9b-474b-a8bd-2b6fbd265f02"
      }
     }
    },
    "08097404-af8b-487c-8695-787b3bdb1bfe": {
     "id": "08097404-af8b-487c-8695-787b3bdb1bfe",
     "prev": "39de8c35-c4c6-4851-bcbd-fc4c0cf1e67c",
     "regions": {
      "c64fc534-508a-4c3a-aa61-5e5e50de5508": {
       "attrs": {
        "height": 0.8,
        "width": 0.8,
        "x": 0.1,
        "y": 0.1
       },
       "content": {
        "cell": "f4c31942-1e94-4439-86c3-351f2d89602e",
        "part": "whole"
       },
       "id": "c64fc534-508a-4c3a-aa61-5e5e50de5508"
      }
     }
    },
    "0a3d5841-de87-41e3-8e55-61a02f6f8417": {
     "id": "0a3d5841-de87-41e3-8e55-61a02f6f8417",
     "prev": "020b838c-0900-4213-93eb-1edf18b06583",
     "regions": {
      "cebaecd5-49b1-4a83-ae0e-76be6c2015a6": {
       "attrs": {
        "height": 0.8,
        "width": 0.8,
        "x": 0.1,
        "y": 0.1
       },
       "content": {
        "cell": "b413b904-8264-46f0-ad5b-c7d58ddcb677",
        "part": "whole"
       },
       "id": "cebaecd5-49b1-4a83-ae0e-76be6c2015a6"
      }
     }
    },
    "0d643d1c-924c-4341-aacb-576e24115afd": {
     "id": "0d643d1c-924c-4341-aacb-576e24115afd",
     "prev": "c8330949-caaa-493b-bdc5-c68811303902",
     "regions": {
      "1191dc48-22e4-4e9b-908c-0d3446ca50f9": {
       "attrs": {
        "height": 0.8,
        "width": 0.8,
        "x": 0.1,
        "y": 0.1
       },
       "content": {
        "cell": "121f1295-fe1e-48b9-b526-5b8462d4f6c1",
        "part": "whole"
       },
       "id": "1191dc48-22e4-4e9b-908c-0d3446ca50f9"
      }
     }
    },
    "0fd25e5a-aa77-4c84-bda6-a6e56cd5fbe9": {
     "id": "0fd25e5a-aa77-4c84-bda6-a6e56cd5fbe9",
     "prev": "4a26533a-a7c5-46fa-b3e1-edde98ef6a34",
     "regions": {
      "94f8f389-0241-45fa-9b30-5393b4176748": {
       "attrs": {
        "height": 0.8,
        "width": 0.8,
        "x": 0.1,
        "y": 0.1
       },
       "content": {
        "cell": "664ad45e-f27f-476d-9eb3-d02d632d2041",
        "part": "whole"
       },
       "id": "94f8f389-0241-45fa-9b30-5393b4176748"
      }
     }
    },
    "12364936-c53a-4097-b577-1d7c86feb6ca": {
     "id": "12364936-c53a-4097-b577-1d7c86feb6ca",
     "prev": "b6aa4007-3624-4b9b-bb0f-dc827412a861",
     "regions": {
      "d12a5f21-851a-42d3-859e-f2e0768c0e1f": {
       "attrs": {
        "height": 0.8,
        "width": 0.8,
        "x": 0.1,
        "y": 0.1
       },
       "content": {
        "cell": "22f644f3-9422-4603-9d79-f484df9e9bba",
        "part": "whole"
       },
       "id": "d12a5f21-851a-42d3-859e-f2e0768c0e1f"
      }
     }
    },
    "16cca7de-7ea9-4336-b6e1-f319f5f8bcd0": {
     "id": "16cca7de-7ea9-4336-b6e1-f319f5f8bcd0",
     "prev": "c5dd1df9-bafc-4ed0-b17a-bd8fab7eb10c",
     "regions": {
      "746d7a82-97fe-40b6-91ee-2b2d34c63bb7": {
       "attrs": {
        "height": 0.8,
        "width": 0.8,
        "x": 0.1,
        "y": 0.1
       },
       "content": {
        "cell": "fda5ce87-5a33-48a3-96e1-a5aae0d87769",
        "part": "whole"
       },
       "id": "746d7a82-97fe-40b6-91ee-2b2d34c63bb7"
      }
     }
    },
    "17531362-ecc4-47d7-8501-a1502be86870": {
     "id": "17531362-ecc4-47d7-8501-a1502be86870",
     "prev": "d1733d6e-6ff4-4159-9075-2e15db49b9de",
     "regions": {
      "e23e4b63-0c2e-4c06-b825-5a67e881a59c": {
       "attrs": {
        "height": 0.8,
        "width": 0.8,
        "x": 0.1,
        "y": 0.1
       },
       "content": {
        "cell": "e56e0154-8470-44ac-b0cd-958786046c5d",
        "part": "whole"
       },
       "id": "e23e4b63-0c2e-4c06-b825-5a67e881a59c"
      }
     }
    },
    "17667017-a3b4-49bc-93f5-8a17496284b0": {
     "id": "17667017-a3b4-49bc-93f5-8a17496284b0",
     "prev": "dd955d42-c7fb-4f88-8eb8-13b2529211b5",
     "regions": {
      "6ec23783-89ad-4a27-8b1c-d7913e1932e1": {
       "attrs": {
        "height": 0.8,
        "width": 0.8,
        "x": 0.1,
        "y": 0.1
       },
       "content": {
        "cell": "5e9778cb-4fa1-42af-8715-6df4cff458ec",
        "part": "whole"
       },
       "id": "6ec23783-89ad-4a27-8b1c-d7913e1932e1"
      }
     }
    },
    "2190e6e7-e8ed-4dd0-af2e-ec0951c60f21": {
     "id": "2190e6e7-e8ed-4dd0-af2e-ec0951c60f21",
     "prev": "fbfb077c-d211-4d50-a21c-6bb5e1cb31fb",
     "regions": {
      "22fb5c1b-6bc9-4cf1-aa0c-6b5cf3c4bcd4": {
       "attrs": {
        "height": 0.8,
        "width": 0.8,
        "x": 0.1,
        "y": 0.1
       },
       "content": {
        "cell": "da02135f-17dc-46a1-9c34-f217397ec7c7",
        "part": "whole"
       },
       "id": "22fb5c1b-6bc9-4cf1-aa0c-6b5cf3c4bcd4"
      }
     }
    },
    "22444545-61d7-494c-9a16-a78864908a60": {
     "id": "22444545-61d7-494c-9a16-a78864908a60",
     "prev": "494e968f-108b-4bed-adba-33c57183b21f",
     "regions": {
      "c4d0a1e1-df90-4a1a-86bc-e2251b2034c7": {
       "attrs": {
        "height": 0.8,
        "width": 0.8,
        "x": 0.1,
        "y": 0.1
       },
       "content": {
        "cell": "c350afae-e250-499b-b6fb-9a8c3ef2fcff",
        "part": "whole"
       },
       "id": "c4d0a1e1-df90-4a1a-86bc-e2251b2034c7"
      }
     }
    },
    "22ba2190-bb95-445d-b4fc-cb5234d18871": {
     "id": "22ba2190-bb95-445d-b4fc-cb5234d18871",
     "prev": "77fab519-9d6a-401b-947b-05ef5e77c465",
     "regions": {
      "d8228c7c-761e-4c37-a70c-aae50bc0ecda": {
       "attrs": {
        "height": 0.8,
        "width": 0.8,
        "x": 0.1,
        "y": 0.1
       },
       "content": {
        "cell": "aa7dba14-0a0b-47ec-92b2-b6f80c528554",
        "part": "whole"
       },
       "id": "d8228c7c-761e-4c37-a70c-aae50bc0ecda"
      }
     }
    },
    "255c4083-55ba-4d14-9272-7fd587539348": {
     "id": "255c4083-55ba-4d14-9272-7fd587539348",
     "prev": "5704d767-f600-4643-b123-6a63ad55153a",
     "regions": {
      "c50668c8-39d2-4db9-9268-9bd74a5f35ad": {
       "attrs": {
        "height": 0.8,
        "width": 0.8,
        "x": 0.1,
        "y": 0.1
       },
       "content": {
        "cell": "98f0a160-1aa5-4e74-add7-b93a498578e8",
        "part": "whole"
       },
       "id": "c50668c8-39d2-4db9-9268-9bd74a5f35ad"
      }
     }
    },
    "286893cf-7481-4724-9e7d-7e582a92f7c7": {
     "id": "286893cf-7481-4724-9e7d-7e582a92f7c7",
     "prev": "df49a8de-9a95-42a0-98b5-a9ed09a1c688",
     "regions": {
      "8daa437b-e0a1-42f7-9b49-a656132307ce": {
       "attrs": {
        "height": 0.8,
        "width": 0.8,
        "x": 0.1,
        "y": 0.1
       },
       "content": {
        "cell": "b3700e0a-658c-48fb-8412-afe3ccab1cf1",
        "part": "whole"
       },
       "id": "8daa437b-e0a1-42f7-9b49-a656132307ce"
      }
     }
    },
    "28bcc6b2-ab1b-4a12-a9c5-d39c91d4cd1c": {
     "id": "28bcc6b2-ab1b-4a12-a9c5-d39c91d4cd1c",
     "layout": "grid",
     "prev": "bbb5991f-ab7e-4b64-8f88-2730418d1f73",
     "regions": {
      "0d6f425c-88dd-4416-afcf-fa20caaf92c3": {
       "attrs": {
        "height": 1,
        "pad": 0.01,
        "treemap:weight": 1,
        "width": 0.5,
        "x": 0,
        "y": 0
       },
       "id": "0d6f425c-88dd-4416-afcf-fa20caaf92c3"
      },
      "a361bbf8-c74e-4f52-b28b-53a3065ef80e": {
       "attrs": {
        "height": 1,
        "pad": 0.01,
        "treemap:weight": 1,
        "width": 0.5,
        "x": 0.5,
        "y": 0
       },
       "id": "a361bbf8-c74e-4f52-b28b-53a3065ef80e"
      }
     }
    },
    "30795c76-9f40-4922-a560-43db68497ff9": {
     "id": "30795c76-9f40-4922-a560-43db68497ff9",
     "prev": "8a78216f-2c58-47b9-b0e0-9af438615226",
     "regions": {
      "02d7c7dd-854c-421d-905c-dd265042b7c6": {
       "attrs": {
        "height": 0.8,
        "width": 0.8,
        "x": 0.1,
        "y": 0.1
       },
       "content": {
        "cell": "1cff797c-c657-4014-9bc0-7205d9e1f860",
        "part": "whole"
       },
       "id": "02d7c7dd-854c-421d-905c-dd265042b7c6"
      }
     }
    },
    "3334e74f-30e3-427a-9430-23ed0e256990": {
     "id": "3334e74f-30e3-427a-9430-23ed0e256990",
     "prev": "ffa6a866-ea75-4473-9554-1831e5300ace",
     "regions": {
      "fb21870a-a19f-4585-872d-7cd1c895af5c": {
       "attrs": {
        "height": 0.8,
        "width": 0.8,
        "x": 0.1,
        "y": 0.1
       },
       "content": {
        "cell": "5a965914-b9f3-4c7a-a3e7-2767f726239d",
        "part": "whole"
       },
       "id": "fb21870a-a19f-4585-872d-7cd1c895af5c"
      }
     }
    },
    "39de8c35-c4c6-4851-bcbd-fc4c0cf1e67c": {
     "id": "39de8c35-c4c6-4851-bcbd-fc4c0cf1e67c",
     "prev": "46c5f2a6-83ab-4ce1-ab8a-ca5de7f5f8df",
     "regions": {
      "b52be6d8-d198-4a21-bfec-1fa3162e2d0a": {
       "attrs": {
        "height": 0.8,
        "width": 0.8,
        "x": 0.1,
        "y": 0.1
       },
       "content": {
        "cell": "ce4e8548-8866-40ce-8ab4-162e609be829",
        "part": "whole"
       },
       "id": "b52be6d8-d198-4a21-bfec-1fa3162e2d0a"
      }
     }
    },
    "3c8fc148-7df8-4b87-916f-499ff26931c1": {
     "id": "3c8fc148-7df8-4b87-916f-499ff26931c1",
     "prev": "8203636d-9255-487f-9fcd-70710ada4a36",
     "regions": {
      "f1ed69a4-7e4d-43ab-9566-90808e446ed7": {
       "attrs": {
        "height": 0.8,
        "width": 0.8,
        "x": 0.1,
        "y": 0.1
       },
       "content": {
        "cell": "c37fc8d2-e578-4af0-943f-89586c1e3cf4",
        "part": "whole"
       },
       "id": "f1ed69a4-7e4d-43ab-9566-90808e446ed7"
      }
     }
    },
    "3f3915dd-d677-4721-90dd-e61d6234b7f8": {
     "id": "3f3915dd-d677-4721-90dd-e61d6234b7f8",
     "prev": "ee2d1234-1277-4166-8f07-1bb8ec4089f7",
     "regions": {
      "bf710e43-956d-44ed-bf85-9c31940d174f": {
       "attrs": {
        "height": 0.8,
        "width": 0.8,
        "x": 0.1,
        "y": 0.1
       },
       "content": {
        "cell": "f2a1b6cb-7957-4ff7-b001-f261410882bd",
        "part": "whole"
       },
       "id": "bf710e43-956d-44ed-bf85-9c31940d174f"
      }
     }
    },
    "3fcf768f-e8a9-4215-b0b7-1c8c91ed518a": {
     "id": "3fcf768f-e8a9-4215-b0b7-1c8c91ed518a",
     "prev": "4325ca91-277d-4781-9201-7a7f1824fa43",
     "regions": {
      "107e6332-6662-4589-a6c1-fe74403cb148": {
       "attrs": {
        "height": 0.8,
        "width": 0.8,
        "x": 0.1,
        "y": 0.1
       },
       "content": {
        "cell": "49a4ccdc-09d8-4690-b5ef-95504c69d85d",
        "part": "whole"
       },
       "id": "107e6332-6662-4589-a6c1-fe74403cb148"
      }
     }
    },
    "40cdb444-3b56-461d-b078-26aba2f5cbb6": {
     "id": "40cdb444-3b56-461d-b078-26aba2f5cbb6",
     "prev": "93af0558-1237-4ce6-a587-deb548197be5",
     "regions": {
      "d4193780-c269-4895-b8ac-4b00420a8c58": {
       "attrs": {
        "height": 0.8,
        "width": 0.8,
        "x": 0.1,
        "y": 0.1
       },
       "content": {
        "cell": "59fd21fe-6b5a-40a8-8c83-b868ed5e05ab",
        "part": "whole"
       },
       "id": "d4193780-c269-4895-b8ac-4b00420a8c58"
      }
     }
    },
    "4325ca91-277d-4781-9201-7a7f1824fa43": {
     "id": "4325ca91-277d-4781-9201-7a7f1824fa43",
     "prev": "948af884-9869-4de4-8a51-dd3cd400894d",
     "regions": {
      "00866784-8cbc-4fff-bb04-bd32bf065825": {
       "attrs": {
        "height": 0.8,
        "width": 0.8,
        "x": 0.1,
        "y": 0.1
       },
       "content": {
        "cell": "07b1bd8a-45dd-494f-b404-39891b8df97e",
        "part": "whole"
       },
       "id": "00866784-8cbc-4fff-bb04-bd32bf065825"
      }
     }
    },
    "46c5f2a6-83ab-4ce1-ab8a-ca5de7f5f8df": {
     "id": "46c5f2a6-83ab-4ce1-ab8a-ca5de7f5f8df",
     "prev": "7e1e0137-464d-4517-b9ef-a05763f50b37",
     "regions": {
      "27c920d4-fbb2-4425-85b1-8f24f63af30d": {
       "attrs": {
        "height": 0.8,
        "width": 0.8,
        "x": 0.1,
        "y": 0.1
       },
       "content": {
        "cell": "4686d76f-a60e-4ee6-99cd-5213d77c32f2",
        "part": "whole"
       },
       "id": "27c920d4-fbb2-4425-85b1-8f24f63af30d"
      }
     }
    },
    "494e968f-108b-4bed-adba-33c57183b21f": {
     "id": "494e968f-108b-4bed-adba-33c57183b21f",
     "prev": "80ea64a6-a82b-4a66-ae6e-de9a8af23348",
     "regions": {
      "534114ee-479e-4f2d-8a8f-c91a52ac2e3e": {
       "attrs": {
        "height": 0.8,
        "width": 0.8,
        "x": 0.1,
        "y": 0.1
       },
       "content": {
        "cell": "c8d3d6b1-f7bc-4059-b250-155836b3d8ff",
        "part": "whole"
       },
       "id": "534114ee-479e-4f2d-8a8f-c91a52ac2e3e"
      }
     }
    },
    "4a26533a-a7c5-46fa-b3e1-edde98ef6a34": {
     "id": "4a26533a-a7c5-46fa-b3e1-edde98ef6a34",
     "prev": "40cdb444-3b56-461d-b078-26aba2f5cbb6",
     "regions": {
      "46ec9829-04e7-41d1-86f8-1595a82082a2": {
       "attrs": {
        "height": 0.8,
        "width": 0.8,
        "x": 0.1,
        "y": 0.1
       },
       "content": {
        "cell": "1599d737-9d62-49a7-9dfe-f271ecebd579",
        "part": "whole"
       },
       "id": "46ec9829-04e7-41d1-86f8-1595a82082a2"
      }
     }
    },
    "4e7a7df7-ed96-4825-b753-665a05dba0b0": {
     "id": "4e7a7df7-ed96-4825-b753-665a05dba0b0",
     "prev": "b8e32163-688c-4e68-b1cf-8434340e194a",
     "regions": {
      "7ef942ce-8d84-4899-8630-cf3f634eed32": {
       "attrs": {
        "height": 0.8,
        "width": 0.8,
        "x": 0.1,
        "y": 0.1
       },
       "id": "7ef942ce-8d84-4899-8630-cf3f634eed32"
      }
     },
     "theme": null
    },
    "534e7abb-fe92-4ad1-9433-913c8669a96f": {
     "id": "534e7abb-fe92-4ad1-9433-913c8669a96f",
     "prev": "dafd9201-a582-4a22-8bdc-ae6ee1ca6a1e",
     "regions": {
      "53682f61-3b13-4710-8e48-d93f7b92dfe3": {
       "attrs": {
        "height": 0.8,
        "width": 0.8,
        "x": 0.1,
        "y": 0.1
       },
       "content": {
        "cell": "7df97fa4-0676-4a3c-8649-7c6d99acb917",
        "part": "whole"
       },
       "id": "53682f61-3b13-4710-8e48-d93f7b92dfe3"
      }
     }
    },
    "5704d767-f600-4643-b123-6a63ad55153a": {
     "id": "5704d767-f600-4643-b123-6a63ad55153a",
     "prev": "c4bb2122-28b4-41c4-ae3d-00d160f0f1f4",
     "regions": {
      "d87b5bdc-8899-43bc-bf78-4a229e9c75e8": {
       "attrs": {
        "height": 0.8,
        "width": 0.8,
        "x": 0.1,
        "y": 0.1
       },
       "content": {
        "cell": "70d7bcb7-1146-4b90-933d-265b0b49a239",
        "part": "whole"
       },
       "id": "d87b5bdc-8899-43bc-bf78-4a229e9c75e8"
      }
     }
    },
    "58fcc0d6-93c4-42c0-887c-9e2bbed4de0f": {
     "id": "58fcc0d6-93c4-42c0-887c-9e2bbed4de0f",
     "prev": "0a3d5841-de87-41e3-8e55-61a02f6f8417",
     "regions": {
      "a13e47c4-f34e-4808-ae1a-fc7d27c9962e": {
       "attrs": {
        "height": 0.8,
        "width": 0.8,
        "x": 0.1,
        "y": 0.1
       },
       "content": {
        "cell": "db8d65b4-b5ac-4e8b-8a72-71e1b59f740b",
        "part": "whole"
       },
       "id": "a13e47c4-f34e-4808-ae1a-fc7d27c9962e"
      }
     }
    },
    "5cfed3a7-51b8-4d1d-bb03-134b68af64a8": {
     "id": "5cfed3a7-51b8-4d1d-bb03-134b68af64a8",
     "prev": "b480bbdb-9501-4234-a826-82bdec746d2f",
     "regions": {
      "1a1f4aaa-39dc-4561-97cb-a3c06bb27b78": {
       "attrs": {
        "height": 0.8,
        "width": 0.8,
        "x": 0.1,
        "y": 0.1
       },
       "content": {
        "cell": "022a5645-c1fe-4241-af0b-ae8c7853fde3",
        "part": "whole"
       },
       "id": "1a1f4aaa-39dc-4561-97cb-a3c06bb27b78"
      }
     }
    },
    "5e3968dd-7f26-43c0-9b46-0d9abe2728d6": {
     "id": "5e3968dd-7f26-43c0-9b46-0d9abe2728d6",
     "prev": "22ba2190-bb95-445d-b4fc-cb5234d18871",
     "regions": {
      "ed4b9e83-c373-47c2-a870-4aabb2ef59df": {
       "attrs": {
        "height": 0.8,
        "width": 0.8,
        "x": 0.1,
        "y": 0.1
       },
       "content": {
        "cell": "96989278-e0d4-4a30-903e-fe54d5e638b5",
        "part": "whole"
       },
       "id": "ed4b9e83-c373-47c2-a870-4aabb2ef59df"
      }
     }
    },
    "5f8bf30a-1c29-4aaf-afd8-0c147bd4ae2c": {
     "id": "5f8bf30a-1c29-4aaf-afd8-0c147bd4ae2c",
     "prev": "95ad43ef-cb81-4a22-a620-210fb9c1df3d",
     "regions": {
      "90f39449-a282-4872-938f-f64eafab8066": {
       "attrs": {
        "height": 0.8,
        "width": 0.8,
        "x": 0.1,
        "y": 0.1
       },
       "content": {
        "cell": "c6776fed-067f-43ac-b554-09fc4d18626d",
        "part": "whole"
       },
       "id": "90f39449-a282-4872-938f-f64eafab8066"
      }
     }
    },
    "618df9ee-0b58-470c-b16b-5a07cfdcb2cb": {
     "id": "618df9ee-0b58-470c-b16b-5a07cfdcb2cb",
     "prev": "770669ea-b22c-4f02-b8be-625d5c651b3f",
     "regions": {
      "f5dd2c70-1834-4ae9-879e-7cb2df70c525": {
       "attrs": {
        "height": 0.8,
        "width": 0.8,
        "x": 0.1,
        "y": 0.1
       },
       "content": {
        "cell": "ea48fa52-b0c8-4226-83c2-ce3ade9fd998",
        "part": "whole"
       },
       "id": "f5dd2c70-1834-4ae9-879e-7cb2df70c525"
      }
     }
    },
    "659d71eb-e349-4b58-b977-36787e8e648c": {
     "id": "659d71eb-e349-4b58-b977-36787e8e648c",
     "prev": "2190e6e7-e8ed-4dd0-af2e-ec0951c60f21",
     "regions": {
      "b090db69-ad0a-4d1e-95ae-427315568b62": {
       "attrs": {
        "height": 0.8,
        "width": 0.8,
        "x": 0.1,
        "y": 0.1
       },
       "content": {
        "cell": "b4626be1-7afa-4920-ab2d-aff640f61edf",
        "part": "whole"
       },
       "id": "b090db69-ad0a-4d1e-95ae-427315568b62"
      }
     }
    },
    "661af0e1-2b54-4256-ad1d-58427e753218": {
     "id": "661af0e1-2b54-4256-ad1d-58427e753218",
     "prev": "08097404-af8b-487c-8695-787b3bdb1bfe",
     "regions": {
      "581f192d-a328-4206-bb5d-eb52f45dcf1d": {
       "attrs": {
        "height": 0.8,
        "width": 0.8,
        "x": 0.1,
        "y": 0.1
       },
       "content": {
        "cell": "1c49ce2e-c0c2-4171-8827-b9e2df2d65d8",
        "part": "whole"
       },
       "id": "581f192d-a328-4206-bb5d-eb52f45dcf1d"
      }
     }
    },
    "67c31937-595d-4c21-998f-c49a3a87cd4d": {
     "id": "67c31937-595d-4c21-998f-c49a3a87cd4d",
     "prev": "b74f13ab-6393-4ea3-9842-0561bd2e2811",
     "regions": {
      "07923a8f-6e97-4a37-9568-62079763d329": {
       "attrs": {
        "height": 0.8,
        "width": 0.8,
        "x": 0.1,
        "y": 0.1
       },
       "content": {
        "cell": "13802ba3-b95a-4381-ac4a-6a41718c93cf",
        "part": "whole"
       },
       "id": "07923a8f-6e97-4a37-9568-62079763d329"
      }
     }
    },
    "70ed0fc0-d2e6-4f89-8f54-2c8726c7db88": {
     "id": "70ed0fc0-d2e6-4f89-8f54-2c8726c7db88",
     "prev": "f7507d6c-35d2-40bc-be39-b4c1532dab5d",
     "regions": {
      "d06ef231-b97c-4dd6-b5a2-a7b3224f2bb6": {
       "attrs": {
        "height": 0.8,
        "width": 0.8,
        "x": 0.1,
        "y": 0.1
       },
       "content": {
        "cell": "cc4c99f7-bf79-42ea-aca8-8ec2ba8817e8",
        "part": "whole"
       },
       "id": "d06ef231-b97c-4dd6-b5a2-a7b3224f2bb6"
      }
     }
    },
    "770669ea-b22c-4f02-b8be-625d5c651b3f": {
     "id": "770669ea-b22c-4f02-b8be-625d5c651b3f",
     "prev": "5f8bf30a-1c29-4aaf-afd8-0c147bd4ae2c",
     "regions": {
      "7f3f7a26-11b5-44d6-9261-c10618b48ed7": {
       "attrs": {
        "height": 0.8,
        "width": 0.8,
        "x": 0.1,
        "y": 0.1
       },
       "content": {
        "cell": "b35a1a0a-2479-40a6-94f3-ce632ef41384",
        "part": "whole"
       },
       "id": "7f3f7a26-11b5-44d6-9261-c10618b48ed7"
      }
     }
    },
    "7725f04d-c5cb-4826-ae38-31d5dd99d9a9": {
     "id": "7725f04d-c5cb-4826-ae38-31d5dd99d9a9",
     "prev": "534e7abb-fe92-4ad1-9433-913c8669a96f",
     "regions": {
      "5699a070-a02c-4f93-b45b-41c6b60d71ab": {
       "attrs": {
        "height": 0.8,
        "width": 0.8,
        "x": 0.1,
        "y": 0.1
       },
       "content": {
        "cell": "dc912b3b-8b15-48be-88ce-40a603729031",
        "part": "whole"
       },
       "id": "5699a070-a02c-4f93-b45b-41c6b60d71ab"
      }
     }
    },
    "77e7cce6-d652-49a6-8fbf-c8583fea66c0": {
     "id": "77e7cce6-d652-49a6-8fbf-c8583fea66c0",
     "prev": "30795c76-9f40-4922-a560-43db68497ff9",
     "regions": {
      "4f9e534d-f7f7-4fc9-8e8e-c51b62fc5362": {
       "attrs": {
        "height": 0.8,
        "width": 0.8,
        "x": 0.1,
        "y": 0.1
       },
       "content": {
        "cell": "db4a66d9-464f-45ff-b377-3e67f3a0e91c",
        "part": "whole"
       },
       "id": "4f9e534d-f7f7-4fc9-8e8e-c51b62fc5362"
      }
     }
    },
    "77fab519-9d6a-401b-947b-05ef5e77c465": {
     "id": "77fab519-9d6a-401b-947b-05ef5e77c465",
     "prev": "f24543bb-7976-437b-8b39-7bbcd81131cd",
     "regions": {
      "74ff72c4-04fb-4e7c-ac7b-3d8a1008778f": {
       "attrs": {
        "height": 0.8,
        "width": 0.8,
        "x": 0.1,
        "y": 0.1
       },
       "content": {
        "cell": "2a7d75c6-caa3-46f5-ad29-1761089f0017",
        "part": "whole"
       },
       "id": "74ff72c4-04fb-4e7c-ac7b-3d8a1008778f"
      }
     }
    },
    "7e1e0137-464d-4517-b9ef-a05763f50b37": {
     "id": "7e1e0137-464d-4517-b9ef-a05763f50b37",
     "prev": "03c1d264-aa37-4755-a211-209c16c82040",
     "regions": {
      "89818b62-b83c-406c-94cc-e1fb04bb530d": {
       "attrs": {
        "height": 0.8,
        "width": 0.8,
        "x": 0.1,
        "y": 0.1
       },
       "content": {
        "cell": "1ea4e324-e199-455d-afc7-b9512722bf07",
        "part": "whole"
       },
       "id": "89818b62-b83c-406c-94cc-e1fb04bb530d"
      }
     }
    },
    "80ea64a6-a82b-4a66-ae6e-de9a8af23348": {
     "id": "80ea64a6-a82b-4a66-ae6e-de9a8af23348",
     "prev": "e7757df3-6961-420f-b9e6-0904cbb8ec2e",
     "regions": {
      "dd3a64da-a322-48a4-836f-42bc79b6cfe1": {
       "attrs": {
        "height": 0.8,
        "width": 0.8,
        "x": 0.1,
        "y": 0.1
       },
       "content": {
        "cell": "f68c9c76-5738-4f00-9876-fb2f2c35858f",
        "part": "whole"
       },
       "id": "dd3a64da-a322-48a4-836f-42bc79b6cfe1"
      }
     }
    },
    "8203636d-9255-487f-9fcd-70710ada4a36": {
     "id": "8203636d-9255-487f-9fcd-70710ada4a36",
     "prev": "99f3f6fd-8b57-4498-853a-58ade668d03d",
     "regions": {
      "27077a74-64f4-4f3e-8c56-515011a1edcc": {
       "attrs": {
        "height": 0.8,
        "width": 0.8,
        "x": 0.1,
        "y": 0.1
       },
       "content": {
        "cell": "c59733e7-2000-4d6c-be54-94a90d07ac2a",
        "part": "whole"
       },
       "id": "27077a74-64f4-4f3e-8c56-515011a1edcc"
      }
     }
    },
    "84287c12-2f13-43b1-afed-094b6ed2f573": {
     "id": "84287c12-2f13-43b1-afed-094b6ed2f573",
     "prev": "864b04df-98f3-459f-ae4c-01c9a4728f34",
     "regions": {
      "f1daeb02-313f-4f3f-b59e-c4cbbed702fd": {
       "attrs": {
        "height": 0.8,
        "width": 0.8,
        "x": 0.1,
        "y": 0.1
       },
       "content": {
        "cell": "2bd6a0dd-fec2-4c00-b714-ecd0aa49ea65",
        "part": "whole"
       },
       "id": "f1daeb02-313f-4f3f-b59e-c4cbbed702fd"
      }
     }
    },
    "864b04df-98f3-459f-ae4c-01c9a4728f34": {
     "id": "864b04df-98f3-459f-ae4c-01c9a4728f34",
     "prev": "d7bf2b99-a999-4702-9caa-a652e0166d5b",
     "regions": {
      "8472c8fb-3104-4ea7-8a9f-6e44770e3309": {
       "attrs": {
        "height": 0.8,
        "width": 0.8,
        "x": 0.1,
        "y": 0.1
       },
       "content": {
        "cell": "f478f9b1-2e19-4139-9388-2108764780e4",
        "part": "whole"
       },
       "id": "8472c8fb-3104-4ea7-8a9f-6e44770e3309"
      }
     }
    },
    "87f3fe9b-9cda-4c7c-84de-3fbe2d3c8ae3": {
     "id": "87f3fe9b-9cda-4c7c-84de-3fbe2d3c8ae3",
     "prev": "28bcc6b2-ab1b-4a12-a9c5-d39c91d4cd1c",
     "regions": {
      "ea97dc9c-6eca-4718-8ce6-ee4fb748cf56": {
       "attrs": {
        "height": 0.8,
        "width": 0.8,
        "x": 0.1,
        "y": 0.1
       },
       "content": {
        "cell": "ccbe5af8-83be-4720-b29d-56a6109c2316",
        "part": "whole"
       },
       "id": "ea97dc9c-6eca-4718-8ce6-ee4fb748cf56"
      }
     }
    },
    "8a78216f-2c58-47b9-b0e0-9af438615226": {
     "id": "8a78216f-2c58-47b9-b0e0-9af438615226",
     "prev": "a2056142-a29b-4b7a-afc2-a0a0416dba1e",
     "regions": {
      "96348b91-ad39-45d1-966a-c3099b716f68": {
       "attrs": {
        "height": 0.8,
        "width": 0.8,
        "x": 0.1,
        "y": 0.1
       },
       "content": {
        "cell": "961bc191-14ae-4804-9889-e81f428bb292",
        "part": "whole"
       },
       "id": "96348b91-ad39-45d1-966a-c3099b716f68"
      }
     }
    },
    "8e825078-b791-4e11-a90f-bb52eabef77a": {
     "id": "8e825078-b791-4e11-a90f-bb52eabef77a",
     "prev": "a4b636a7-29c1-430b-a487-255d7e0f6ed8",
     "regions": {
      "ed7d716e-264d-42f1-9837-7f93a0d6bc65": {
       "attrs": {
        "height": 0.8,
        "width": 0.8,
        "x": 0.1,
        "y": 0.1
       },
       "content": {
        "cell": "8637db2b-008c-489a-9a53-7483c2d06164",
        "part": "whole"
       },
       "id": "ed7d716e-264d-42f1-9837-7f93a0d6bc65"
      }
     }
    },
    "922014a4-c32b-4cd5-909b-6acb2a95ad08": {
     "id": "922014a4-c32b-4cd5-909b-6acb2a95ad08",
     "prev": "17667017-a3b4-49bc-93f5-8a17496284b0",
     "regions": {
      "6c18d112-01e3-4d8d-895f-bfd5bd2802bb": {
       "attrs": {
        "height": 0.8,
        "width": 0.8,
        "x": 0.1,
        "y": 0.1
       },
       "content": {
        "cell": "e06da263-0f73-4c98-9c49-cc4eb50a1181",
        "part": "whole"
       },
       "id": "6c18d112-01e3-4d8d-895f-bfd5bd2802bb"
      }
     }
    },
    "93af0558-1237-4ce6-a587-deb548197be5": {
     "id": "93af0558-1237-4ce6-a587-deb548197be5",
     "prev": "fbfc87bb-aadb-415f-a62c-6c4a392d9cb2",
     "regions": {
      "9a2f0e89-6c13-44c9-9bed-ce1f8b6f373d": {
       "attrs": {
        "height": 0.8,
        "width": 0.8,
        "x": 0.1,
        "y": 0.1
       },
       "content": {
        "cell": "37af3f75-3e0d-4ab5-b4d2-4bf0645d164f",
        "part": "whole"
       },
       "id": "9a2f0e89-6c13-44c9-9bed-ce1f8b6f373d"
      }
     }
    },
    "948af884-9869-4de4-8a51-dd3cd400894d": {
     "id": "948af884-9869-4de4-8a51-dd3cd400894d",
     "prev": "255c4083-55ba-4d14-9272-7fd587539348",
     "regions": {
      "5c9afced-f37b-4416-9a66-dae2a256f713": {
       "attrs": {
        "height": 0.8,
        "width": 0.8,
        "x": 0.1,
        "y": 0.1
       },
       "content": {
        "cell": "94d1d882-82b3-4d7b-a2d2-e0fff2dd9954",
        "part": "whole"
       },
       "id": "5c9afced-f37b-4416-9a66-dae2a256f713"
      }
     }
    },
    "95ad43ef-cb81-4a22-a620-210fb9c1df3d": {
     "id": "95ad43ef-cb81-4a22-a620-210fb9c1df3d",
     "prev": "e2626981-e7ec-444a-9c4f-147c0cae95d8",
     "regions": {
      "548be994-9267-4d43-ad00-48c648587202": {
       "attrs": {
        "height": 0.8,
        "width": 0.8,
        "x": 0.1,
        "y": 0.1
       },
       "content": {
        "cell": "7722af93-e74a-4fb3-a7cb-a07a59cdfe11",
        "part": "whole"
       },
       "id": "548be994-9267-4d43-ad00-48c648587202"
      }
     }
    },
    "95c1f0d2-37c0-426f-9449-c89ca0061fb0": {
     "id": "95c1f0d2-37c0-426f-9449-c89ca0061fb0",
     "prev": "659d71eb-e349-4b58-b977-36787e8e648c",
     "regions": {
      "fbf005c1-4c59-4e63-9730-85b031f838cb": {
       "attrs": {
        "height": 0.8,
        "width": 0.8,
        "x": 0.1,
        "y": 0.1
       },
       "content": {
        "cell": "c6124a4a-1a99-4d3b-8444-fa7ef006c4cf",
        "part": "whole"
       },
       "id": "fbf005c1-4c59-4e63-9730-85b031f838cb"
      }
     }
    },
    "99f3f6fd-8b57-4498-853a-58ade668d03d": {
     "id": "99f3f6fd-8b57-4498-853a-58ade668d03d",
     "prev": "95c1f0d2-37c0-426f-9449-c89ca0061fb0",
     "regions": {
      "d23a6199-9ecb-450b-a895-9cce88fc0021": {
       "attrs": {
        "height": 0.8,
        "width": 0.8,
        "x": 0.1,
        "y": 0.1
       },
       "content": {
        "cell": "a69deb49-3c69-4339-a718-876e6b59d0e4",
        "part": "whole"
       },
       "id": "d23a6199-9ecb-450b-a895-9cce88fc0021"
      }
     }
    },
    "9b6e10c8-fff2-4202-b880-59c398ac65b8": {
     "id": "9b6e10c8-fff2-4202-b880-59c398ac65b8",
     "prev": "bc2508e4-b3c7-4790-b203-4fa484a9e103",
     "regions": {
      "742d6e42-59fe-4905-82a0-4415cdf06f32": {
       "attrs": {
        "height": 0.8,
        "width": 0.8,
        "x": 0.1,
        "y": 0.1
       },
       "content": {
        "cell": "be101b32-aaa2-43c3-997d-8f8917941f26",
        "part": "whole"
       },
       "id": "742d6e42-59fe-4905-82a0-4415cdf06f32"
      }
     }
    },
    "9d4f39de-950d-4439-83d9-8f476c9905ab": {
     "id": "9d4f39de-950d-4439-83d9-8f476c9905ab",
     "prev": "9b6e10c8-fff2-4202-b880-59c398ac65b8",
     "regions": {
      "6e442f7a-5362-4245-bee4-6a7058e837c3": {
       "attrs": {
        "height": 0.8,
        "width": 0.8,
        "x": 0.1,
        "y": 0.1
       },
       "content": {
        "cell": "775ed6e8-7097-4b0b-a5a1-7c93ce0eea72",
        "part": "whole"
       },
       "id": "6e442f7a-5362-4245-bee4-6a7058e837c3"
      }
     }
    },
    "a2056142-a29b-4b7a-afc2-a0a0416dba1e": {
     "id": "a2056142-a29b-4b7a-afc2-a0a0416dba1e",
     "prev": "70ed0fc0-d2e6-4f89-8f54-2c8726c7db88",
     "regions": {
      "120c020e-c872-49b6-af94-39db0f738ef9": {
       "attrs": {
        "height": 0.8,
        "width": 0.8,
        "x": 0.1,
        "y": 0.1
       },
       "content": {
        "cell": "b4b39d14-24d9-4073-9cd6-e75d15ff7da9",
        "part": "whole"
       },
       "id": "120c020e-c872-49b6-af94-39db0f738ef9"
      }
     }
    },
    "a4b636a7-29c1-430b-a487-255d7e0f6ed8": {
     "id": "a4b636a7-29c1-430b-a487-255d7e0f6ed8",
     "prev": "d52bdd99-14d2-4c6c-8848-633bd4ec32eb",
     "regions": {
      "2e4bfc8d-c49a-47d3-a837-069b05770cc3": {
       "attrs": {
        "height": 0.8,
        "width": 0.8,
        "x": 0.1,
        "y": 0.1
       },
       "content": {
        "cell": "7d1f1fd7-ab35-4056-8610-4c1b755b6913",
        "part": "whole"
       },
       "id": "2e4bfc8d-c49a-47d3-a837-069b05770cc3"
      }
     }
    },
    "a878b77e-06cc-4478-94db-0330c2abcb4e": {
     "id": "a878b77e-06cc-4478-94db-0330c2abcb4e",
     "prev": "d2649d8a-9cb1-42c1-93e2-357ebe6ad55f",
     "regions": {
      "1161eada-1e34-4bf4-b122-91303ac6f2f9": {
       "attrs": {
        "height": 0.8,
        "width": 0.8,
        "x": 0.1,
        "y": 0.1
       },
       "content": {
        "cell": "769375d9-929a-4562-a540-105c37a02745",
        "part": "whole"
       },
       "id": "1161eada-1e34-4bf4-b122-91303ac6f2f9"
      }
     }
    },
    "ae08b0ec-d1fa-4f54-a8b2-bf15b5e4289d": {
     "id": "ae08b0ec-d1fa-4f54-a8b2-bf15b5e4289d",
     "prev": "5cfed3a7-51b8-4d1d-bb03-134b68af64a8",
     "regions": {
      "c479ad80-96b4-4973-9936-5453298711c2": {
       "attrs": {
        "height": 0.8,
        "width": 0.8,
        "x": 0.1,
        "y": 0.1
       },
       "content": {
        "cell": "0b82e7c7-9add-43e6-9df6-6045d634d9f2",
        "part": "whole"
       },
       "id": "c479ad80-96b4-4973-9936-5453298711c2"
      }
     }
    },
    "b2909a62-735d-4ab3-b0d2-49cee1fe2558": {
     "id": "b2909a62-735d-4ab3-b0d2-49cee1fe2558",
     "prev": "3334e74f-30e3-427a-9430-23ed0e256990",
     "regions": {
      "342166eb-b2ac-4c91-b4f0-6e45f3042893": {
       "attrs": {
        "height": 0.8,
        "width": 0.8,
        "x": 0.1,
        "y": 0.1
       },
       "content": {
        "cell": "0459f5b0-fbf6-4506-beeb-14311e4dae08",
        "part": "whole"
       },
       "id": "342166eb-b2ac-4c91-b4f0-6e45f3042893"
      }
     }
    },
    "b480bbdb-9501-4234-a826-82bdec746d2f": {
     "id": "b480bbdb-9501-4234-a826-82bdec746d2f",
     "prev": "286893cf-7481-4724-9e7d-7e582a92f7c7",
     "regions": {
      "7e7587df-83dc-4dc0-8ef3-5a6fee86f30e": {
       "attrs": {
        "height": 0.8,
        "width": 0.8,
        "x": 0.1,
        "y": 0.1
       },
       "content": {
        "cell": "7b3a4245-5a11-45de-8b44-a59d4fcc51c9",
        "part": "whole"
       },
       "id": "7e7587df-83dc-4dc0-8ef3-5a6fee86f30e"
      }
     }
    },
    "b6aa4007-3624-4b9b-bb0f-dc827412a861": {
     "id": "b6aa4007-3624-4b9b-bb0f-dc827412a861",
     "prev": "16cca7de-7ea9-4336-b6e1-f319f5f8bcd0",
     "regions": {
      "fed90b34-e9cc-459f-a878-4efcd4fc1184": {
       "attrs": {
        "height": 0.8,
        "width": 0.8,
        "x": 0.1,
        "y": 0.1
       },
       "content": {
        "cell": "81535399-c3ca-4412-95d9-e9b2d910dfcf",
        "part": "whole"
       },
       "id": "fed90b34-e9cc-459f-a878-4efcd4fc1184"
      }
     }
    },
    "b74f13ab-6393-4ea3-9842-0561bd2e2811": {
     "id": "b74f13ab-6393-4ea3-9842-0561bd2e2811",
     "prev": "cf1845ea-185e-4a90-898c-1f1418aeb8a4",
     "regions": {
      "d4fddd05-784c-4976-8beb-4658ee66a947": {
       "attrs": {
        "height": 0.8,
        "width": 0.8,
        "x": 0.1,
        "y": 0.1
       },
       "content": {
        "cell": "0dc5cd39-b40e-4a6e-9710-b96475638bae",
        "part": "whole"
       },
       "id": "d4fddd05-784c-4976-8beb-4658ee66a947"
      }
     }
    },
    "b8e32163-688c-4e68-b1cf-8434340e194a": {
     "id": "b8e32163-688c-4e68-b1cf-8434340e194a",
     "prev": "87f3fe9b-9cda-4c7c-84de-3fbe2d3c8ae3",
     "regions": {
      "402a5f01-5697-4d00-997f-343bb3f995d6": {
       "attrs": {
        "height": 0.8,
        "width": 0.8,
        "x": 0.1,
        "y": 0.1
       },
       "content": {
        "cell": "8077a847-26ac-4749-bb45-590f5c50c401",
        "part": "whole"
       },
       "id": "402a5f01-5697-4d00-997f-343bb3f995d6"
      }
     }
    },
    "b936bb50-1bdb-4aec-ab89-723c518d2334": {
     "id": "b936bb50-1bdb-4aec-ab89-723c518d2334",
     "prev": "faebc3c2-1e78-44b9-86fe-6afe18430f05",
     "regions": {
      "259888d4-8a50-4257-a312-f843c52778d9": {
       "attrs": {
        "height": 0.8,
        "width": 0.8,
        "x": 0.1,
        "y": 0.1
       },
       "content": {
        "cell": "f7147591-d465-43d7-bcfb-f2db1f7f11d4",
        "part": "whole"
       },
       "id": "259888d4-8a50-4257-a312-f843c52778d9"
      }
     }
    },
    "b97397ba-eb01-4794-a9c2-c0d985179d23": {
     "id": "b97397ba-eb01-4794-a9c2-c0d985179d23",
     "prev": "5e3968dd-7f26-43c0-9b46-0d9abe2728d6",
     "regions": {
      "7abecc66-7c1b-45c1-9525-ad7d3bdd88d5": {
       "attrs": {
        "height": 0.8,
        "width": 0.8,
        "x": 0.1,
        "y": 0.1
       },
       "content": {
        "cell": "de2267c6-180c-40bc-80f5-42bd7b26f8fe",
        "part": "whole"
       },
       "id": "7abecc66-7c1b-45c1-9525-ad7d3bdd88d5"
      }
     }
    },
    "bbb5991f-ab7e-4b64-8f88-2730418d1f73": {
     "id": "bbb5991f-ab7e-4b64-8f88-2730418d1f73",
     "prev": null,
     "regions": {}
    },
    "bc2508e4-b3c7-4790-b203-4fa484a9e103": {
     "id": "bc2508e4-b3c7-4790-b203-4fa484a9e103",
     "prev": "7725f04d-c5cb-4826-ae38-31d5dd99d9a9",
     "regions": {
      "63c556d0-dd5e-43ac-8dbd-9778329a9e1b": {
       "attrs": {
        "height": 0.8,
        "width": 0.8,
        "x": 0.1,
        "y": 0.1
       },
       "content": {
        "cell": "567c351a-505a-4864-b185-4d211d4c2652",
        "part": "whole"
       },
       "id": "63c556d0-dd5e-43ac-8dbd-9778329a9e1b"
      }
     }
    },
    "be37d7a2-82c5-4288-8498-3f9c93ff2b5f": {
     "id": "be37d7a2-82c5-4288-8498-3f9c93ff2b5f",
     "prev": "618df9ee-0b58-470c-b16b-5a07cfdcb2cb",
     "regions": {
      "280ba226-c61e-43c2-b9db-53e7061f9835": {
       "attrs": {
        "height": 0.8,
        "width": 0.8,
        "x": 0.1,
        "y": 0.1
       },
       "content": {
        "cell": "8e1e3097-7ee8-40f7-8c95-7ddf0664767b",
        "part": "whole"
       },
       "id": "280ba226-c61e-43c2-b9db-53e7061f9835"
      }
     }
    },
    "c27a6eca-8123-46e1-8af0-b3d81b006d21": {
     "id": "c27a6eca-8123-46e1-8af0-b3d81b006d21",
     "prev": "d8cf63b1-9e6a-4e63-925b-5474fc978fec",
     "regions": {
      "2c011c48-1b54-4804-afe6-a95ef52f25f5": {
       "attrs": {
        "height": 0.8,
        "width": 0.8,
        "x": 0.1,
        "y": 0.1
       },
       "content": {
        "cell": "c5892667-bc93-4ebf-8291-fda3f2e500b9",
        "part": "whole"
       },
       "id": "2c011c48-1b54-4804-afe6-a95ef52f25f5"
      }
     }
    },
    "c3c849c8-fca6-42ca-9b94-98a9e5ce681d": {
     "id": "c3c849c8-fca6-42ca-9b94-98a9e5ce681d",
     "prev": "f601eee1-5997-416f-8a0e-d894ef9dce95",
     "regions": {
      "3459b88e-68f1-471c-b9c8-abd68b6bcc43": {
       "attrs": {
        "height": 0.8,
        "width": 0.8,
        "x": 0.1,
        "y": 0.1
       },
       "content": {
        "cell": "2be373cc-0a7a-40c7-8b75-6a5c034299be",
        "part": "whole"
       },
       "id": "3459b88e-68f1-471c-b9c8-abd68b6bcc43"
      }
     }
    },
    "c4bb2122-28b4-41c4-ae3d-00d160f0f1f4": {
     "id": "c4bb2122-28b4-41c4-ae3d-00d160f0f1f4",
     "prev": "77e7cce6-d652-49a6-8fbf-c8583fea66c0",
     "regions": {
      "06d66b0e-fd0d-4f5b-bd7d-3c35716f7e41": {
       "attrs": {
        "height": 0.8,
        "width": 0.8,
        "x": 0.1,
        "y": 0.1
       },
       "content": {
        "cell": "ee7164ed-c5d2-408f-9209-982e00bb47bf",
        "part": "whole"
       },
       "id": "06d66b0e-fd0d-4f5b-bd7d-3c35716f7e41"
      }
     }
    },
    "c5dd1df9-bafc-4ed0-b17a-bd8fab7eb10c": {
     "id": "c5dd1df9-bafc-4ed0-b17a-bd8fab7eb10c",
     "prev": "0d643d1c-924c-4341-aacb-576e24115afd",
     "regions": {
      "958b099c-5c04-402a-966d-89d0dc328050": {
       "attrs": {
        "height": 0.8,
        "width": 0.8,
        "x": 0.1,
        "y": 0.1
       },
       "content": {
        "cell": "39b736fb-72c7-41ac-9347-868afc83dd3c",
        "part": "whole"
       },
       "id": "958b099c-5c04-402a-966d-89d0dc328050"
      }
     }
    },
    "c8330949-caaa-493b-bdc5-c68811303902": {
     "id": "c8330949-caaa-493b-bdc5-c68811303902",
     "prev": "ae08b0ec-d1fa-4f54-a8b2-bf15b5e4289d",
     "regions": {
      "b2dafa0d-d89e-4186-b230-cacc37e49454": {
       "attrs": {
        "height": 0.8,
        "width": 0.8,
        "x": 0.1,
        "y": 0.1
       },
       "content": {
        "cell": "ac262c21-b8d6-490a-8e6f-c60725c00030",
        "part": "whole"
       },
       "id": "b2dafa0d-d89e-4186-b230-cacc37e49454"
      }
     }
    },
    "cd3ddaf7-43f2-40bd-b9ff-8cdacc05f286": {
     "id": "cd3ddaf7-43f2-40bd-b9ff-8cdacc05f286",
     "prev": "58fcc0d6-93c4-42c0-887c-9e2bbed4de0f",
     "regions": {
      "aa4adf2d-e8a5-4b95-b9eb-27df4a56f7e0": {
       "attrs": {
        "height": 0.8,
        "width": 0.8,
        "x": 0.1,
        "y": 0.1
       },
       "content": {
        "cell": "295a2b85-5828-4884-8cc8-549abcb59630",
        "part": "whole"
       },
       "id": "aa4adf2d-e8a5-4b95-b9eb-27df4a56f7e0"
      }
     }
    },
    "cf1845ea-185e-4a90-898c-1f1418aeb8a4": {
     "id": "cf1845ea-185e-4a90-898c-1f1418aeb8a4",
     "prev": "cd3ddaf7-43f2-40bd-b9ff-8cdacc05f286",
     "regions": {
      "750aaa24-7ff7-4470-bb1e-a72eeb9456d4": {
       "attrs": {
        "height": 0.8,
        "width": 0.8,
        "x": 0.1,
        "y": 0.1
       },
       "content": {
        "cell": "db4ef439-da85-46bb-841c-6f9165d2776e",
        "part": "whole"
       },
       "id": "750aaa24-7ff7-4470-bb1e-a72eeb9456d4"
      }
     }
    },
    "d1733d6e-6ff4-4159-9075-2e15db49b9de": {
     "id": "d1733d6e-6ff4-4159-9075-2e15db49b9de",
     "prev": "06d0d81f-acb6-4f74-9639-aa7b0fa873c3",
     "regions": {
      "2cdb4231-ba68-46c8-a9a4-61a312e8002e": {
       "attrs": {
        "height": 0.8,
        "width": 0.8,
        "x": 0.1,
        "y": 0.1
       },
       "content": {
        "cell": "e0e7cfdb-ed02-48e0-a748-cc334afbc95c",
        "part": "whole"
       },
       "id": "2cdb4231-ba68-46c8-a9a4-61a312e8002e"
      }
     }
    },
    "d2649d8a-9cb1-42c1-93e2-357ebe6ad55f": {
     "id": "d2649d8a-9cb1-42c1-93e2-357ebe6ad55f",
     "prev": "f560b11f-5b63-4d58-adff-7e87d27e36ee",
     "regions": {
      "56fd357f-850d-419f-9073-927637c085a7": {
       "attrs": {
        "height": 0.8,
        "width": 0.8,
        "x": 0.1,
        "y": 0.1
       },
       "content": {
        "cell": "934a117d-f72b-4d21-809f-2ddc241eeac9",
        "part": "whole"
       },
       "id": "56fd357f-850d-419f-9073-927637c085a7"
      }
     }
    },
    "d52bdd99-14d2-4c6c-8848-633bd4ec32eb": {
     "id": "d52bdd99-14d2-4c6c-8848-633bd4ec32eb",
     "prev": "661af0e1-2b54-4256-ad1d-58427e753218",
     "regions": {
      "190974d6-9062-4eec-9ea4-9d75f3a5e7c7": {
       "attrs": {
        "height": 0.8,
        "width": 0.8,
        "x": 0.1,
        "y": 0.1
       },
       "content": {
        "cell": "02d379d4-4a15-4eb1-90ad-782946270d60",
        "part": "whole"
       },
       "id": "190974d6-9062-4eec-9ea4-9d75f3a5e7c7"
      }
     }
    },
    "d7bf2b99-a999-4702-9caa-a652e0166d5b": {
     "id": "d7bf2b99-a999-4702-9caa-a652e0166d5b",
     "prev": "eea9b1ce-d4a8-452c-a47f-2c76a0c3c6ad",
     "regions": {
      "65b638de-7f27-43de-aac0-421072b0fb88": {
       "attrs": {
        "height": 0.8,
        "width": 0.8,
        "x": 0.1,
        "y": 0.1
       },
       "content": {
        "cell": "452a2fa0-9549-4c0d-a52f-ea26f16bd6c9",
        "part": "whole"
       },
       "id": "65b638de-7f27-43de-aac0-421072b0fb88"
      }
     }
    },
    "d8cf63b1-9e6a-4e63-925b-5474fc978fec": {
     "id": "d8cf63b1-9e6a-4e63-925b-5474fc978fec",
     "prev": "e321e07c-7b71-4f26-8699-23b842903ae8",
     "regions": {
      "207804b1-a4ed-4b56-89f0-2e5accb54661": {
       "attrs": {
        "height": 0.8,
        "width": 0.8,
        "x": 0.1,
        "y": 0.1
       },
       "content": {
        "cell": "14077302-6dbf-4620-887c-ea5cebf21b87",
        "part": "whole"
       },
       "id": "207804b1-a4ed-4b56-89f0-2e5accb54661"
      }
     }
    },
    "dafd9201-a582-4a22-8bdc-ae6ee1ca6a1e": {
     "id": "dafd9201-a582-4a22-8bdc-ae6ee1ca6a1e",
     "prev": "922014a4-c32b-4cd5-909b-6acb2a95ad08",
     "regions": {
      "2d4cdde2-689e-4feb-b66c-a25278602ad8": {
       "attrs": {
        "height": 0.8,
        "width": 0.8,
        "x": 0.1,
        "y": 0.1
       },
       "content": {
        "cell": "d46c8f66-c62d-42c7-83e9-d84f3d954458",
        "part": "whole"
       },
       "id": "2d4cdde2-689e-4feb-b66c-a25278602ad8"
      }
     }
    },
    "dd955d42-c7fb-4f88-8eb8-13b2529211b5": {
     "id": "dd955d42-c7fb-4f88-8eb8-13b2529211b5",
     "prev": "3f3915dd-d677-4721-90dd-e61d6234b7f8",
     "regions": {
      "65ececc3-03ee-480a-8141-bd7933625da8": {
       "attrs": {
        "height": 0.8,
        "width": 0.8,
        "x": 0.1,
        "y": 0.1
       },
       "content": {
        "cell": "ba7b4e7b-abf0-4795-9ced-06687d85ef08",
        "part": "whole"
       },
       "id": "65ececc3-03ee-480a-8141-bd7933625da8"
      }
     }
    },
    "df49a8de-9a95-42a0-98b5-a9ed09a1c688": {
     "id": "df49a8de-9a95-42a0-98b5-a9ed09a1c688",
     "prev": "a878b77e-06cc-4478-94db-0330c2abcb4e",
     "regions": {
      "5dcff436-097d-4cc9-b762-206037d22a5c": {
       "attrs": {
        "height": 0.8,
        "width": 0.8,
        "x": 0.1,
        "y": 0.1
       },
       "content": {
        "cell": "07b4f1f6-7168-475c-b8cd-90107193f7a6",
        "part": "whole"
       },
       "id": "5dcff436-097d-4cc9-b762-206037d22a5c"
      }
     }
    },
    "e0fed4c3-f266-4112-9663-becae1737b3c": {
     "id": "e0fed4c3-f266-4112-9663-becae1737b3c",
     "prev": "12364936-c53a-4097-b577-1d7c86feb6ca",
     "regions": {
      "e35522ea-26e8-4bae-8bea-d3fad661d110": {
       "attrs": {
        "height": 0.8,
        "width": 0.8,
        "x": 0.1,
        "y": 0.1
       },
       "content": {
        "cell": "292f3687-7b36-497a-828d-a9e1cbf4415b",
        "part": "whole"
       },
       "id": "e35522ea-26e8-4bae-8bea-d3fad661d110"
      }
     }
    },
    "e2626981-e7ec-444a-9c4f-147c0cae95d8": {
     "id": "e2626981-e7ec-444a-9c4f-147c0cae95d8",
     "prev": "0fd25e5a-aa77-4c84-bda6-a6e56cd5fbe9",
     "regions": {
      "c8a5f3f0-51e6-4699-9e03-07589eeb39b3": {
       "attrs": {
        "height": 0.8,
        "width": 0.8,
        "x": 0.1,
        "y": 0.1
       },
       "content": {
        "cell": "761f8494-35aa-4f3c-9faf-0ef7494121d0",
        "part": "whole"
       },
       "id": "c8a5f3f0-51e6-4699-9e03-07589eeb39b3"
      }
     }
    },
    "e321e07c-7b71-4f26-8699-23b842903ae8": {
     "id": "e321e07c-7b71-4f26-8699-23b842903ae8",
     "prev": "67c31937-595d-4c21-998f-c49a3a87cd4d",
     "regions": {
      "9f77803a-ef07-4206-b662-f38f9a24769b": {
       "attrs": {
        "height": 0.8,
        "width": 0.8,
        "x": 0.1,
        "y": 0.1
       },
       "content": {
        "cell": "fa854d5e-80d2-46ad-842f-f135cc89395e",
        "part": "whole"
       },
       "id": "9f77803a-ef07-4206-b662-f38f9a24769b"
      }
     }
    },
    "e7757df3-6961-420f-b9e6-0904cbb8ec2e": {
     "id": "e7757df3-6961-420f-b9e6-0904cbb8ec2e",
     "prev": "be37d7a2-82c5-4288-8498-3f9c93ff2b5f",
     "regions": {
      "0a831975-11f7-49d3-8b09-856d7d96f48a": {
       "attrs": {
        "height": 0.8,
        "width": 0.8,
        "x": 0.1,
        "y": 0.1
       },
       "content": {
        "cell": "9ff0f621-de25-498f-93d8-f5531bdb3f1b",
        "part": "whole"
       },
       "id": "0a831975-11f7-49d3-8b09-856d7d96f48a"
      }
     }
    },
    "ee2d1234-1277-4166-8f07-1bb8ec4089f7": {
     "id": "ee2d1234-1277-4166-8f07-1bb8ec4089f7",
     "prev": "3fcf768f-e8a9-4215-b0b7-1c8c91ed518a",
     "regions": {
      "594259dd-4633-461d-a24e-a44586532d4d": {
       "attrs": {
        "height": 0.8,
        "width": 0.8,
        "x": 0.1,
        "y": 0.1
       },
       "content": {
        "cell": "16b71505-d678-4a24-ac82-546270dc059d",
        "part": "whole"
       },
       "id": "594259dd-4633-461d-a24e-a44586532d4d"
      }
     }
    },
    "eea9b1ce-d4a8-452c-a47f-2c76a0c3c6ad": {
     "id": "eea9b1ce-d4a8-452c-a47f-2c76a0c3c6ad",
     "prev": "4e7a7df7-ed96-4825-b753-665a05dba0b0",
     "regions": {
      "4d958744-2e98-492a-86ff-c4ad94228aeb": {
       "attrs": {
        "height": 0.8,
        "width": 0.8,
        "x": 0.1,
        "y": 0.1
       },
       "content": {
        "cell": "7455b873-af1a-4dbf-bd3f-d6b3a0bc2886",
        "part": "whole"
       },
       "id": "4d958744-2e98-492a-86ff-c4ad94228aeb"
      }
     }
    },
    "f24543bb-7976-437b-8b39-7bbcd81131cd": {
     "id": "f24543bb-7976-437b-8b39-7bbcd81131cd",
     "prev": "c27a6eca-8123-46e1-8af0-b3d81b006d21",
     "regions": {
      "f9e17ae9-297d-4131-ae94-620aa897db56": {
       "attrs": {
        "height": 0.8,
        "width": 0.8,
        "x": 0.1,
        "y": 0.1
       },
       "content": {
        "cell": "e64da544-bc50-41ce-98b4-b73b1aebf803",
        "part": "whole"
       },
       "id": "f9e17ae9-297d-4131-ae94-620aa897db56"
      }
     }
    },
    "f560b11f-5b63-4d58-adff-7e87d27e36ee": {
     "id": "f560b11f-5b63-4d58-adff-7e87d27e36ee",
     "prev": "9d4f39de-950d-4439-83d9-8f476c9905ab",
     "regions": {
      "3f90caee-092c-4f7f-a9ad-5f6bb89b0899": {
       "attrs": {
        "height": 0.8,
        "width": 0.8,
        "x": 0.1,
        "y": 0.1
       },
       "content": {
        "cell": "0ffb3a73-a4fd-4c59-b6de-224ec9710599",
        "part": "whole"
       },
       "id": "3f90caee-092c-4f7f-a9ad-5f6bb89b0899"
      }
     }
    },
    "f601eee1-5997-416f-8a0e-d894ef9dce95": {
     "id": "f601eee1-5997-416f-8a0e-d894ef9dce95",
     "prev": "3c8fc148-7df8-4b87-916f-499ff26931c1",
     "regions": {
      "da2b35a1-57dc-4331-8812-2c28a0ad19d3": {
       "attrs": {
        "height": 0.8,
        "width": 0.8,
        "x": 0.1,
        "y": 0.1
       },
       "content": {
        "cell": "e63308b7-1e22-4661-aabe-7cbe15585ede",
        "part": "whole"
       },
       "id": "da2b35a1-57dc-4331-8812-2c28a0ad19d3"
      }
     }
    },
    "f7507d6c-35d2-40bc-be39-b4c1532dab5d": {
     "id": "f7507d6c-35d2-40bc-be39-b4c1532dab5d",
     "prev": "8e825078-b791-4e11-a90f-bb52eabef77a",
     "regions": {
      "79d86e43-7f4b-45d5-93b1-186bf066310b": {
       "attrs": {
        "height": 0.8,
        "width": 0.8,
        "x": 0.1,
        "y": 0.1
       },
       "content": {
        "cell": "976c49f0-9036-4725-ab45-bad0b8fce77f",
        "part": "whole"
       },
       "id": "79d86e43-7f4b-45d5-93b1-186bf066310b"
      }
     }
    },
    "faebc3c2-1e78-44b9-86fe-6afe18430f05": {
     "id": "faebc3c2-1e78-44b9-86fe-6afe18430f05",
     "prev": "84287c12-2f13-43b1-afed-094b6ed2f573",
     "regions": {
      "ddaa89b6-0694-4d1f-86da-4e51014edc76": {
       "attrs": {
        "height": 0.8,
        "width": 0.8,
        "x": 0.1,
        "y": 0.1
       },
       "content": {
        "cell": "685420e4-2bb8-4157-9987-53979d30de6f",
        "part": "whole"
       },
       "id": "ddaa89b6-0694-4d1f-86da-4e51014edc76"
      }
     }
    },
    "fbfb077c-d211-4d50-a21c-6bb5e1cb31fb": {
     "id": "fbfb077c-d211-4d50-a21c-6bb5e1cb31fb",
     "prev": "b2909a62-735d-4ab3-b0d2-49cee1fe2558",
     "regions": {
      "8e49ba83-9e74-4253-8e1d-e67bef324732": {
       "attrs": {
        "height": 0.8,
        "width": 0.8,
        "x": 0.1,
        "y": 0.1
       },
       "content": {
        "cell": "1c1f43cd-7ce8-4362-9f3a-61c89e7b9ba7",
        "part": "whole"
       },
       "id": "8e49ba83-9e74-4253-8e1d-e67bef324732"
      }
     }
    },
    "fbfc87bb-aadb-415f-a62c-6c4a392d9cb2": {
     "id": "fbfc87bb-aadb-415f-a62c-6c4a392d9cb2",
     "prev": "17531362-ecc4-47d7-8501-a1502be86870",
     "regions": {
      "7baa2e80-0dc6-4fbb-aaf4-e8dbc99adf3c": {
       "attrs": {
        "height": 0.8,
        "width": 0.8,
        "x": 0.1,
        "y": 0.1
       },
       "content": {
        "cell": "7bc76430-3804-4046-906e-01fe3939ead5",
        "part": "whole"
       },
       "id": "7baa2e80-0dc6-4fbb-aaf4-e8dbc99adf3c"
      }
     }
    },
    "ffa6a866-ea75-4473-9554-1831e5300ace": {
     "id": "ffa6a866-ea75-4473-9554-1831e5300ace",
     "prev": "e0fed4c3-f266-4112-9663-becae1737b3c",
     "regions": {
      "eba860c6-f24b-43c5-b840-f65a438f6505": {
       "attrs": {
        "height": 0.8,
        "width": 0.8,
        "x": 0.1,
        "y": 0.1
       },
       "content": {
        "cell": "87736b8c-8d17-40fb-9b36-981e17ad49d5",
        "part": "whole"
       },
       "id": "eba860c6-f24b-43c5-b840-f65a438f6505"
      }
     }
    }
   },
   "themes": {
    "default": "be2f48aa-d221-47bc-b235-0c982f6e7c60",
    "theme": {
     "01d1bca2-8210-4d75-9824-e1ed83d886c3": {
      "backgrounds": {
       "backgroundColor": {
        "background-color": "backgroundColor",
        "id": "backgroundColor"
       }
      },
      "id": "01d1bca2-8210-4d75-9824-e1ed83d886c3",
      "palette": {
       "backgroundColor": {
        "id": "backgroundColor",
        "rgb": [
         256,
         256,
         256
        ]
       },
       "headingColor": {
        "id": "headingColor",
        "rgb": [
         0,
         0,
         0
        ]
       },
       "linkColor": {
        "id": "linkColor",
        "rgb": [
         0,
         0,
         139
        ]
       },
       "mainColor": {
        "id": "mainColor",
        "rgb": [
         0,
         0,
         0
        ]
       }
      },
      "rules": {
       "a": {
        "color": "linkColor"
       },
       "h1": {
        "color": "headingColor",
        "font-family": "News Cycle",
        "font-size": 7
       },
       "h2": {
        "color": "headingColor",
        "font-family": "News Cycle",
        "font-size": 5
       },
       "h3": {
        "color": "headingColor",
        "font-family": "News Cycle",
        "font-size": 3.75
       },
       "h4": {
        "color": "headingColor",
        "font-family": "News Cycle",
        "font-size": 3
       },
       "h5": {
        "color": "headingColor",
        "font-family": "News Cycle"
       },
       "h6": {
        "color": "headingColor",
        "font-family": "News Cycle"
       },
       "h7": {
        "color": "headingColor",
        "font-family": "News Cycle"
       },
       "li": {
        "color": "mainColor",
        "font-family": "Lato",
        "font-size": 5
       },
       "p": {
        "color": "mainColor",
        "font-family": "Lato",
        "font-size": 5
       }
      },
      "text-base": {
       "color": "mainColor",
       "font-family": "Lato",
       "font-size": 5
      }
     },
     "be2f48aa-d221-47bc-b235-0c982f6e7c60": {
      "backgrounds": {
       "backgroundColor": {
        "background-color": "backgroundColor",
        "id": "backgroundColor"
       }
      },
      "id": "be2f48aa-d221-47bc-b235-0c982f6e7c60",
      "palette": {
       "backgroundColor": {
        "id": "backgroundColor",
        "rgb": [
         256,
         256,
         256
        ]
       },
       "headingColor": {
        "id": "headingColor",
        "rgb": [
         0,
         0,
         0
        ]
       },
       "linkColor": {
        "id": "linkColor",
        "rgb": [
         0,
         0,
         139
        ]
       },
       "mainColor": {
        "id": "mainColor",
        "rgb": [
         0,
         0,
         0
        ]
       }
      },
      "rules": {
       "a": {
        "color": "linkColor"
       },
       "h1": {
        "color": "headingColor",
        "font-family": "News Cycle",
        "font-size": 7
       },
       "h2": {
        "color": "headingColor",
        "font-family": "News Cycle",
        "font-size": 5
       },
       "h3": {
        "color": "headingColor",
        "font-family": "News Cycle",
        "font-size": 3.75
       },
       "h4": {
        "color": "headingColor",
        "font-family": "News Cycle",
        "font-size": 3
       },
       "h5": {
        "color": "headingColor",
        "font-family": "News Cycle"
       },
       "h6": {
        "color": "headingColor",
        "font-family": "News Cycle"
       },
       "h7": {
        "color": "headingColor",
        "font-family": "News Cycle"
       },
       "li": {
        "color": "mainColor",
        "font-family": "Lato",
        "font-size": 5
       },
       "p": {
        "color": "mainColor",
        "font-family": "Lato",
        "font-size": 5
       }
      },
      "text-base": {
       "color": "mainColor",
       "font-family": "Lato",
       "font-size": 5
      }
     }
    }
   }
  }
 },
 "nbformat": 4,
 "nbformat_minor": 0
}
